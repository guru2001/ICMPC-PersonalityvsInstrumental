{
 "cells": [
  {
   "cell_type": "code",
   "execution_count": null,
   "metadata": {},
   "outputs": [],
   "source": [
    "import math"
   ]
  },
  {
   "cell_type": "code",
   "execution_count": null,
   "metadata": {},
   "outputs": [],
   "source": [
    "from scipy import stats\n",
    "import pickle as pkl\n",
    "import pandas as pd"
   ]
  },
  {
   "cell_type": "code",
   "execution_count": null,
   "metadata": {},
   "outputs": [],
   "source": [
    "from sklearn.utils import resample\n",
    "from statistics import mean, median"
   ]
  },
  {
   "cell_type": "code",
   "execution_count": null,
   "metadata": {},
   "outputs": [],
   "source": [
    "def ranksumdiff(a,b):\n",
    "\ttotalpoints = []\n",
    "\tfor i in a:\n",
    "\t\ttotalpoints.append(i)\n",
    "\tfor i in b:\n",
    "\t\ttotalpoints.append(i)\n",
    "\n",
    "\ttotalpoints.sort()\n",
    "\trank_points = {}\n",
    "\tc = 1\n",
    "\tfor i in totalpoints:\n",
    "\t\tif(i not in rank_points):\n",
    "\t\t\trank_points[i] = []\n",
    "\t\trank_points[i].append(c)\n",
    "\t\tc+=1\n",
    "\trank_value = {}\n",
    "\tfor i in rank_points:\n",
    "\t\trank_value[i] = mean(rank_points[i])\n",
    "\tars = []\n",
    "\tbrs = []\n",
    "\n",
    "\tfor i in a:\n",
    "\t\tars.append(rank_value[i])\n",
    "\n",
    "\tfor i in b:\n",
    "\t\tbrs.append(rank_value[i])\n",
    "\n",
    "\treturn mean(ars) - mean(brs)\n",
    "\n",
    "def bootstrap(a, b, u0, iterations):\n",
    "\tn_iter = iterations\n",
    "\tm = len(a)\n",
    "\tn = len(b)\n",
    "\tcentreu = (m*n)/2\n",
    "\ttotallist = []\n",
    "\tfor i in a:\n",
    "\t\ttotallist.append(i)\n",
    "\tfor i in b:\n",
    "\t\ttotallist.append(i)\n",
    "\tcount = 0\n",
    "\ttotallist = np.asarray(totallist)\n",
    "\tfor i in range(n_iter):\n",
    "\t\tsample = np.random.choice(totallist, m+n, replace=True)\n",
    "\t\tsamplea = sample[:m]\n",
    "\t\tsampleb = sample[m:]\n",
    "\t\tu,p = stats.mannwhitneyu(samplea, sampleb, alternative='two-sided')\n",
    "\t\tif(abs(u-centreu)>=abs(u0-centreu)):\n",
    "\t\t\tcount+=1\n",
    "# \tprint(count)\n",
    "\treturn count/n_iter\n",
    "\n",
    "def mannwhitneyu_bootstrap(low, high, iterations):\n",
    "\tu,p = stats.mannwhitneyu(low, high, alternative='two-sided')\n",
    "\tif ranksumdiff(low, high)>0:\n",
    "\t\tdom = \"Low\"\n",
    "\telse:\n",
    "\t\tdom = \"High\"\n",
    "\tbpval = ''\n",
    "\tif(p<0.05):\n",
    "\t\tbpval = bootstrap(low, high, u, iterations)\n",
    "\treturn str(u)+\", \"+str(p)+\"(\"+dom+\", \"+str(bpval)+\")\""
   ]
  },
  {
   "cell_type": "code",
   "execution_count": null,
   "metadata": {},
   "outputs": [],
   "source": [
    "def mann_whitney_u_test(distribution_1, distribution_2):\n",
    "    \"\"\"\n",
    "    Perform the Mann-Whitney U Test, comparing two different distributions.\n",
    "    Args:\n",
    "       distribution_1: List. \n",
    "       distribution_2: List.\n",
    "    Outputs:\n",
    "        u_statistic: Float. U statisitic for the test.\n",
    "        p_value: Float.\n",
    "    \"\"\"\n",
    "    u_statistic, p_value = stats.mannwhitneyu(distribution_1, distribution_2, alternative='two-sided')\n",
    "    \n",
    "    return (u_statistic, p_value)\n"
   ]
  },
  {
   "cell_type": "code",
   "execution_count": null,
   "metadata": {},
   "outputs": [],
   "source": [
    "import numpy as np\n",
    "def median(x):\n",
    "    return np.median(np.array(x))\n"
   ]
  },
  {
   "cell_type": "code",
   "execution_count": null,
   "metadata": {},
   "outputs": [],
   "source": [
    "def Get_Users_topandbottom(dataset, pers, num):\n",
    "    distril = []\n",
    "    distrih = [] \n",
    "\n",
    "    temp1 = {}\n",
    "    temp2 = {}\n",
    "    for i in dataset:\n",
    "        temp1[i] = dataset[i][pers]\n",
    "        temp2[i] = dataset[i][pers]\n",
    "\n",
    "    temp1 = dict(sorted(temp1.items(), key=lambda item: item[1], reverse=False))\n",
    "    temp2 = dict(sorted(temp2.items(), key=lambda item: item[1], reverse=True))\n",
    "\n",
    "    t = 0\n",
    "    b = 0\n",
    "    for i in temp1:\n",
    "        if dataset[i]['Ext_song_plays'] >= th_songs and dataset[i]['Ext_song_plays']/dataset[i]['Total_song_plays'] >= th_hitrate:\n",
    "            distril.append(dataset[i]['Instr_unique_song_plays']/dataset[i]['Ext_song_plays'] * 100)\n",
    "        t += 1\n",
    "        if t == num:\n",
    "            break\n",
    "\n",
    "    for i in temp2:\n",
    "        if dataset[i]['Ext_song_plays'] >= th_songs and dataset[i]['Ext_song_plays']/dataset[i]['Total_song_plays'] >= th_hitrate:\n",
    "            distrih.append(dataset[i]['Instr_unique_song_plays']/dataset[i]['Ext_song_plays'] * 100)\n",
    "        b += 1\n",
    "        if b == num:\n",
    "            break\n",
    "    return distril, distrih\n"
   ]
  },
  {
   "cell_type": "code",
   "execution_count": null,
   "metadata": {},
   "outputs": [],
   "source": [
    "def Get_Users(dataset, pers, med):\n",
    "    distril = []\n",
    "    distrih = []\n",
    "\n",
    "    for i in dataset:\n",
    "        if dataset[i][pers] <= median(med) - th_median and dataset[i]['Ext_song_plays'] >= th_songs\\\n",
    "        and dataset[i]['Ext_song_plays']/dataset[i]['Total_song_plays'] >= th_hitrate:\n",
    "            distril.append(dataset[i]['Instr_unique_song_plays']/dataset[i]['Ext_song_plays'] * 100.0)\n",
    "        if dataset[i][pers] >= median(med) + th_median and dataset[i]['Ext_song_plays'] >= th_songs\\\n",
    "        and dataset[i]['Ext_song_plays']/dataset[i]['Total_song_plays'] >= th_hitrate:\n",
    "            distrih.append(dataset[i]['Instr_unique_song_plays']/dataset[i]['Ext_song_plays'] * 100.0)\n",
    "    return distril, distrih\n"
   ]
  },
  {
   "cell_type": "markdown",
   "metadata": {},
   "source": [
    "# Full Listening History"
   ]
  },
  {
   "cell_type": "code",
   "execution_count": null,
   "metadata": {},
   "outputs": [],
   "source": [
    "LastFMLH = pkl.load(open('../data/LastFM_lh_vectors.pkl', 'rb'))"
   ]
  },
  {
   "cell_type": "code",
   "execution_count": null,
   "metadata": {},
   "outputs": [],
   "source": [
    "hitrate = []\n",
    "for i in LastFMLH:\n",
    "    hitrate.append((LastFMLH[i]['Ext_song_plays']/LastFMLH[i]['Total_song_plays']))\n"
   ]
  },
  {
   "cell_type": "code",
   "execution_count": null,
   "metadata": {},
   "outputs": [],
   "source": [
    "np.mean(np.array(hitrate))"
   ]
  },
  {
   "cell_type": "markdown",
   "metadata": {},
   "source": [
    "# General Parameters"
   ]
  },
  {
   "cell_type": "code",
   "execution_count": null,
   "metadata": {},
   "outputs": [],
   "source": [
    "th_median = 0.25\n",
    "th_songs = 100\n",
    "th_hitrate = 0.7"
   ]
  },
  {
   "cell_type": "code",
   "execution_count": null,
   "metadata": {},
   "outputs": [],
   "source": [
    "ope = []\n",
    "for i in LastFMLH:\n",
    "    ope.append(LastFMLH[i]['open'])\n",
    "median(ope)"
   ]
  },
  {
   "cell_type": "code",
   "execution_count": null,
   "metadata": {},
   "outputs": [],
   "source": [
    "distriopenl,distriopenh = Get_Users(LastFMLH, 'open', ope)"
   ]
  },
  {
   "cell_type": "code",
   "execution_count": null,
   "metadata": {},
   "outputs": [],
   "source": [
    "distriopenl100,distriopenh100 = Get_Users_topandbottom(LastFMLH, 'open', 100)\n",
    "distriopenl250,distriopenh250 = Get_Users_topandbottom(LastFMLH, 'open', 250)"
   ]
  },
  {
   "cell_type": "code",
   "execution_count": null,
   "metadata": {},
   "outputs": [],
   "source": [
    "con = []\n",
    "for i in LastFMLH:\n",
    "    con.append(LastFMLH[i]['con'])\n",
    "median(con)"
   ]
  },
  {
   "cell_type": "code",
   "execution_count": null,
   "metadata": {},
   "outputs": [],
   "source": [
    "districonl,districonh = Get_Users(LastFMLH, 'con', con)"
   ]
  },
  {
   "cell_type": "code",
   "execution_count": null,
   "metadata": {},
   "outputs": [],
   "source": [
    "districonl100,districonh100 = Get_Users_topandbottom(LastFMLH, 'con', 100)\n",
    "districonl250,districonh250 = Get_Users_topandbottom(LastFMLH, 'con', 250)"
   ]
  },
  {
   "cell_type": "code",
   "execution_count": null,
   "metadata": {},
   "outputs": [],
   "source": [
    "ext = []\n",
    "for i in LastFMLH:\n",
    "    ext.append(LastFMLH[i]['ext'])\n",
    "median(ext)"
   ]
  },
  {
   "cell_type": "code",
   "execution_count": null,
   "metadata": {},
   "outputs": [],
   "source": [
    "distriextl,distriexth = Get_Users(LastFMLH,'ext', ext)"
   ]
  },
  {
   "cell_type": "code",
   "execution_count": null,
   "metadata": {},
   "outputs": [],
   "source": [
    "distriextl100,distriexth100 = Get_Users_topandbottom(LastFMLH, 'ext', 100)\n",
    "distriextl250,distriexth250 = Get_Users_topandbottom(LastFMLH, 'ext', 250)"
   ]
  },
  {
   "cell_type": "code",
   "execution_count": null,
   "metadata": {},
   "outputs": [],
   "source": [
    "agr = []\n",
    "for i in LastFMLH:\n",
    "    agr.append(LastFMLH[i]['agr'])\n",
    "median(agr)"
   ]
  },
  {
   "cell_type": "code",
   "execution_count": null,
   "metadata": {},
   "outputs": [],
   "source": [
    "distriagrl,distriagrh = Get_Users(LastFMLH, 'agr', agr)"
   ]
  },
  {
   "cell_type": "code",
   "execution_count": null,
   "metadata": {},
   "outputs": [],
   "source": [
    "distriagrl100,distriagrh100 = Get_Users_topandbottom(LastFMLH, 'agr', 100)\n",
    "distriagrl250,distriagrh250 = Get_Users_topandbottom(LastFMLH, 'agr', 250)"
   ]
  },
  {
   "cell_type": "code",
   "execution_count": null,
   "metadata": {},
   "outputs": [],
   "source": [
    "neu = []\n",
    "for i in LastFMLH:\n",
    "    neu.append(LastFMLH[i]['neu'])\n",
    "median(neu)"
   ]
  },
  {
   "cell_type": "code",
   "execution_count": null,
   "metadata": {},
   "outputs": [],
   "source": [
    "distrineul,distrineuh = Get_Users(LastFMLH, 'neu', neu)"
   ]
  },
  {
   "cell_type": "code",
   "execution_count": null,
   "metadata": {},
   "outputs": [],
   "source": [
    "distrineul100,distrineuh100 = Get_Users_topandbottom(LastFMLH, 'neu', 100)\n",
    "distrineul250,distrineuh250 = Get_Users_topandbottom(LastFMLH, 'neu', 250)"
   ]
  },
  {
   "cell_type": "markdown",
   "metadata": {},
   "source": [
    "# Top500 History"
   ]
  },
  {
   "cell_type": "code",
   "execution_count": null,
   "metadata": {},
   "outputs": [],
   "source": [
    "LastFMtop500= pkl.load(open('../data/LastFM_lhtop500_vectors.pkl', 'rb'))"
   ]
  },
  {
   "cell_type": "code",
   "execution_count": null,
   "metadata": {},
   "outputs": [],
   "source": [
    "hitrate = []\n",
    "for i in LastFMtop500:\n",
    "    hitrate.append((LastFMtop500[i]['Ext_song_plays']/LastFMtop500[i]['Total_song_plays']))\n"
   ]
  },
  {
   "cell_type": "code",
   "execution_count": null,
   "metadata": {},
   "outputs": [],
   "source": [
    "cnt = 0\n",
    "for i in LastFMtop500:\n",
    "    if LastFMtop500[i]['Ext_song_plays']/LastFMtop500[i]['Total_song_plays'] >= 0.7:\n",
    "        cnt += 1\n",
    "cnt"
   ]
  },
  {
   "cell_type": "code",
   "execution_count": null,
   "metadata": {},
   "outputs": [],
   "source": [
    "np.mean(hitrate)"
   ]
  },
  {
   "cell_type": "code",
   "execution_count": null,
   "metadata": {},
   "outputs": [],
   "source": [
    "c = 0\n",
    "for i in LastFMtop500:\n",
    "    if LastFMtop500[i]['Ext_song_plays'] >= 100 and LastFMtop500[i]['Ext_song_plays']/LastFMtop500[i]['Total_song_plays'] >= 0.7:\n",
    "        c += 1"
   ]
  },
  {
   "cell_type": "code",
   "execution_count": null,
   "metadata": {},
   "outputs": [],
   "source": [
    "LastFMtop100= pkl.load(open('../data/LastFM_lhtop100_vectors.pkl', 'rb'))"
   ]
  },
  {
   "cell_type": "code",
   "execution_count": null,
   "metadata": {},
   "outputs": [],
   "source": [
    "hitrate = []\n",
    "for i in LastFMtop500:\n",
    "    hitrate.append((LastFMtop500[i]['Ext_song_plays']/LastFMtop500[i]['Total_song_plays']))\n"
   ]
  },
  {
   "cell_type": "code",
   "execution_count": null,
   "metadata": {},
   "outputs": [],
   "source": [
    "np.median(hitrate)"
   ]
  },
  {
   "cell_type": "markdown",
   "metadata": {},
   "source": [
    "# General Parameters"
   ]
  },
  {
   "cell_type": "code",
   "execution_count": null,
   "metadata": {},
   "outputs": [],
   "source": [
    "distriopentop500l,distriopentop500h = Get_Users(LastFMtop500, 'open', ope)"
   ]
  },
  {
   "cell_type": "code",
   "execution_count": null,
   "metadata": {},
   "outputs": [],
   "source": [
    "distriopentop500l100,distriopentop500h100 = Get_Users_topandbottom(LastFMtop500, 'open', 100)\n",
    "distriopentop500l250,distriopentop500h250 = Get_Users_topandbottom(LastFMtop500, 'open', 250)"
   ]
  },
  {
   "cell_type": "code",
   "execution_count": null,
   "metadata": {},
   "outputs": [],
   "source": [
    "districontop500l,districontop500h = Get_Users(LastFMtop500, 'con', con)"
   ]
  },
  {
   "cell_type": "code",
   "execution_count": null,
   "metadata": {},
   "outputs": [],
   "source": [
    "districontop500l100,districontop500h100 = Get_Users_topandbottom(LastFMtop500, 'con', 100)\n",
    "districontop500l250,districontop500h250 = Get_Users_topandbottom(LastFMtop500, 'con', 250)"
   ]
  },
  {
   "cell_type": "code",
   "execution_count": null,
   "metadata": {},
   "outputs": [],
   "source": [
    "distriexttop500l,distriexttop500h = Get_Users(LastFMtop500, 'ext', ext)"
   ]
  },
  {
   "cell_type": "code",
   "execution_count": null,
   "metadata": {},
   "outputs": [],
   "source": [
    "distriexttop500l100,distriexttop500h100 = Get_Users_topandbottom(LastFMtop500, 'ext', 100)\n",
    "distriexttop500l250,distriexttop500h250 = Get_Users_topandbottom(LastFMtop500, 'ext', 250)"
   ]
  },
  {
   "cell_type": "code",
   "execution_count": null,
   "metadata": {},
   "outputs": [],
   "source": [
    "distriagrtop500l,distriagrtop500h = Get_Users(LastFMtop500, 'agr', agr)"
   ]
  },
  {
   "cell_type": "code",
   "execution_count": null,
   "metadata": {},
   "outputs": [],
   "source": [
    "distriagrtop500l100,distriagrtop500h100 = Get_Users_topandbottom(LastFMtop500, 'agr', 100)\n",
    "distriagrtop500l250,distriagrtop500h250 = Get_Users_topandbottom(LastFMtop500, 'agr', 250)"
   ]
  },
  {
   "cell_type": "code",
   "execution_count": null,
   "metadata": {},
   "outputs": [],
   "source": [
    "distrineutop500l,distrineutop500h = Get_Users(LastFMtop500, 'neu', neu)"
   ]
  },
  {
   "cell_type": "code",
   "execution_count": null,
   "metadata": {},
   "outputs": [],
   "source": [
    "distrineutop500l100,distrineutop500h100 = Get_Users_topandbottom(LastFMtop500, 'neu', 100)\n",
    "distrineutop500l250,distrineutop500h250 = Get_Users_topandbottom(LastFMtop500, 'neu', 252)"
   ]
  },
  {
   "cell_type": "code",
   "execution_count": null,
   "metadata": {},
   "outputs": [],
   "source": [
    "distriopentop100l,distriopentop100h = Get_Users(LastFMtop100, 'open', ope)\n",
    "\n",
    "distriopentop100l100,distriopentop100h100 = Get_Users_topandbottom(LastFMtop100, 'open', 100)\n",
    "distriopentop100l250,distriopentop100h250 = Get_Users_topandbottom(LastFMtop100, 'open', 250)\n",
    "\n",
    "districontop100l,districontop100h = Get_Users(LastFMtop100, 'con', con)\n",
    "\n",
    "districontop100l100,districontop100h100 = Get_Users_topandbottom(LastFMtop100, 'con', 100)\n",
    "districontop100l250,districontop100h250 = Get_Users_topandbottom(LastFMtop100, 'con', 250)\n",
    "\n",
    "distriexttop100l,distriexttop100h = Get_Users(LastFMtop100, 'ext', ext)\n",
    "\n",
    "distriexttop100l100,distriexttop100h100 = Get_Users_topandbottom(LastFMtop100, 'ext', 100)\n",
    "distriexttop100l250,distriexttop100h250 = Get_Users_topandbottom(LastFMtop100, 'ext', 250)\n",
    "\n",
    "distriagrtop100l,distriagrtop100h = Get_Users(LastFMtop100, 'agr', agr)\n",
    "\n",
    "distriagrtop100l100,distriagrtop100h100 = Get_Users_topandbottom(LastFMtop100, 'agr', 100)\n",
    "distriagrtop100l250,distriagrtop100h250 = Get_Users_topandbottom(LastFMtop100, 'agr', 250)\n",
    "\n",
    "distrineutop100l,distrineutop100h = Get_Users(LastFMtop100, 'neu', neu)\n",
    "\n",
    "distrineutop100l100,distrineutop100h100 = Get_Users_topandbottom(LastFMtop100, 'neu', 100)\n",
    "distrineutop100l250,distrineutop100h250 = Get_Users_topandbottom(LastFMtop100, 'neu', 252)"
   ]
  },
  {
   "cell_type": "markdown",
   "metadata": {},
   "source": [
    "# LastFM"
   ]
  },
  {
   "cell_type": "code",
   "execution_count": null,
   "metadata": {},
   "outputs": [],
   "source": [
    "print(\"Open\",mannwhitneyu_bootstrap(distriopenl, distriopenh, 10000))\n",
    "print(\"Con\", mannwhitneyu_bootstrap(districonl, districonh, 10000))\n",
    "print(\"Ext\", mannwhitneyu_bootstrap(distriextl, distriexth, 10000))\n",
    "print(\"Agr\",mannwhitneyu_bootstrap(distriagrl, distriagrh, 10000))\n",
    "print(\"Neu\",mannwhitneyu_bootstrap(distrineul, distrineuh, 10000))"
   ]
  },
  {
   "cell_type": "code",
   "execution_count": null,
   "metadata": {},
   "outputs": [],
   "source": [
    "print(\"Open\",mannwhitneyu_bootstrap(distriopentop500l, distriopentop500h, 10000))\n",
    "print(\"Con\",mannwhitneyu_bootstrap(districontop500l, districontop500h, 10000))\n",
    "print(\"Ext\",mannwhitneyu_bootstrap(distriexttop500l, distriexttop500h, 10000))\n",
    "print(\"Agr\",mannwhitneyu_bootstrap(distriagrtop500l, distriagrtop500h, 10000))\n",
    "print(\"Neu\",mannwhitneyu_bootstrap(distrineutop500l, distrineutop500h, 10000))"
   ]
  },
  {
   "cell_type": "code",
   "execution_count": null,
   "metadata": {},
   "outputs": [],
   "source": [
    "print(\"Open\",mannwhitneyu_bootstrap(distriopentop100l, distriopentop100h, 10000))\n",
    "print(\"Con\",mannwhitneyu_bootstrap(districontop100l, districontop100h, 10000))\n",
    "print(\"Ext\",mannwhitneyu_bootstrap(distriexttop100l, distriexttop100h, 10000))\n",
    "print(\"Agr\",mannwhitneyu_bootstrap(distriagrtop100l, distriagrtop100h, 10000))\n",
    "print(\"Neu\",mannwhitneyu_bootstrap(distrineutop100l, distrineutop100h, 10000))"
   ]
  },
  {
   "cell_type": "markdown",
   "metadata": {},
   "source": [
    "# Top100 LastFM"
   ]
  },
  {
   "cell_type": "code",
   "execution_count": null,
   "metadata": {},
   "outputs": [],
   "source": [
    "print(\"Open\",mannwhitneyu_bootstrap(distriopenl100, distriopenh100, 10000))\n",
    "print(\"Con\", mannwhitneyu_bootstrap(districonl100, districonh100, 10000))\n",
    "print(\"Ext\", mannwhitneyu_bootstrap(distriextl100, distriexth100, 10000))\n",
    "print(\"Agr\",mannwhitneyu_bootstrap(distriagrl100, distriagrh100, 10000))\n",
    "print(\"Neu\",mannwhitneyu_bootstrap(distrineul100, distrineuh100, 10000))"
   ]
  },
  {
   "cell_type": "code",
   "execution_count": null,
   "metadata": {},
   "outputs": [],
   "source": [
    "print(\"Open\",mannwhitneyu_bootstrap(distriopentop500l100, distriopentop500h100, 10000))\n",
    "print(\"Con\",mannwhitneyu_bootstrap(districontop500l100, districontop500h100, 10000))\n",
    "print(\"Ext\",mannwhitneyu_bootstrap(distriexttop500l100, distriexttop500h100, 10000))\n",
    "print(\"Agr\",mannwhitneyu_bootstrap(distriagrtop500l100, distriagrtop500h100, 10000))\n",
    "print(\"Neu\",mannwhitneyu_bootstrap(distrineutop500l100, distrineutop500h100, 10000))"
   ]
  },
  {
   "cell_type": "code",
   "execution_count": null,
   "metadata": {},
   "outputs": [],
   "source": [
    "print(\"Open\",mannwhitneyu_bootstrap(distriopentop100l100, distriopentop100h100, 10000))\n",
    "print(\"Con\",mannwhitneyu_bootstrap(districontop100l100, districontop100h100, 10000))\n",
    "print(\"Ext\",mannwhitneyu_bootstrap(distriexttop100l100, distriexttop100h100, 10000))\n",
    "print(\"Agr\",mannwhitneyu_bootstrap(distriagrtop100l100, distriagrtop100h100, 10000))\n",
    "print(\"Neu\",mannwhitneyu_bootstrap(distrineutop100l100, distrineutop100h100, 10000))"
   ]
  },
  {
   "cell_type": "markdown",
   "metadata": {},
   "source": [
    "# Top250 LastFM"
   ]
  },
  {
   "cell_type": "code",
   "execution_count": null,
   "metadata": {},
   "outputs": [],
   "source": [
    "print(\"Open\",mannwhitneyu_bootstrap(distriopenl250, distriopenh250, 10000))\n",
    "print(\"Con\", mannwhitneyu_bootstrap(districonl250, districonh250, 10000))\n",
    "print(\"Ext\", mannwhitneyu_bootstrap(distriextl250, distriexth250, 10000))\n",
    "print(\"Agr\",mannwhitneyu_bootstrap(distriagrl250, distriagrh250, 10000))\n",
    "print(\"Neu\",mannwhitneyu_bootstrap(distrineul250, distrineuh250, 10000))"
   ]
  },
  {
   "cell_type": "code",
   "execution_count": null,
   "metadata": {},
   "outputs": [],
   "source": [
    "print(\"Open\",mannwhitneyu_bootstrap(distriopentop500l250, distriopentop500h250, 10000))\n",
    "print(\"Con\",mannwhitneyu_bootstrap(districontop500l250, districontop500h250, 10000))\n",
    "print(\"Ext\",mannwhitneyu_bootstrap(distriexttop500l250, distriexttop500h250, 10000))\n",
    "print(\"Agr\",mannwhitneyu_bootstrap(distriagrtop500l250, distriagrtop500h250, 10000))\n",
    "print(\"Neu\",mannwhitneyu_bootstrap(distrineutop500l250, distrineutop500h250, 10000))"
   ]
  },
  {
   "cell_type": "code",
   "execution_count": null,
   "metadata": {},
   "outputs": [],
   "source": [
    "print(\"Open\",mannwhitneyu_bootstrap(distriopentop100l250, distriopentop100h250, 10000))\n",
    "print(\"Con\",mannwhitneyu_bootstrap(districontop100l250, districontop100h250, 10000))\n",
    "print(\"Ext\",mannwhitneyu_bootstrap(distriexttop100l250, distriexttop100h250, 10000))\n",
    "print(\"Agr\",mannwhitneyu_bootstrap(distriagrtop100l250, distriagrtop100h250, 10000))\n",
    "print(\"Neu\",mannwhitneyu_bootstrap(distrineutop100l250, distrineutop100h250, 10000))"
   ]
  }
 ],
 "metadata": {
  "kernelspec": {
   "display_name": "Python 3",
   "language": "python",
   "name": "python3"
  },
  "language_info": {
   "codemirror_mode": {
    "name": "ipython",
    "version": 3
   },
   "file_extension": ".py",
   "mimetype": "text/x-python",
   "name": "python",
   "nbconvert_exporter": "python",
   "pygments_lexer": "ipython3",
   "version": "3.7.3"
  }
 },
 "nbformat": 4,
 "nbformat_minor": 2
}
