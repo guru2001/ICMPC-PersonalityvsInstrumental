{
 "cells": [
  {
   "cell_type": "code",
   "execution_count": 1,
   "metadata": {},
   "outputs": [],
   "source": [
    "import math"
   ]
  },
  {
   "cell_type": "code",
   "execution_count": 2,
   "metadata": {},
   "outputs": [],
   "source": [
    "from scipy import stats\n",
    "import pickle as pkl\n",
    "import pandas as pd"
   ]
  },
  {
   "cell_type": "code",
   "execution_count": 3,
   "metadata": {},
   "outputs": [],
   "source": [
    "from sklearn.utils import resample\n",
    "from statistics import mean, median"
   ]
  },
  {
   "cell_type": "code",
   "execution_count": 4,
   "metadata": {},
   "outputs": [],
   "source": [
    "def ranksumdiff(a,b):\n",
    "\ttotalpoints = []\n",
    "\tfor i in a:\n",
    "\t\ttotalpoints.append(i)\n",
    "\tfor i in b:\n",
    "\t\ttotalpoints.append(i)\n",
    "\n",
    "\ttotalpoints.sort()\n",
    "\trank_points = {}\n",
    "\tc = 1\n",
    "\tfor i in totalpoints:\n",
    "\t\tif(i not in rank_points):\n",
    "\t\t\trank_points[i] = []\n",
    "\t\trank_points[i].append(c)\n",
    "\t\tc+=1\n",
    "\trank_value = {}\n",
    "\tfor i in rank_points:\n",
    "\t\trank_value[i] = mean(rank_points[i])\n",
    "\tars = []\n",
    "\tbrs = []\n",
    "\n",
    "\tfor i in a:\n",
    "\t\tars.append(rank_value[i])\n",
    "\n",
    "\tfor i in b:\n",
    "\t\tbrs.append(rank_value[i])\n",
    "\n",
    "\treturn mean(ars) - mean(brs)\n",
    "\n",
    "def bootstrap(a, b, u0, iterations):\n",
    "\tn_iter = iterations\n",
    "\tm = len(a)\n",
    "\tn = len(b)\n",
    "\tcentreu = (m*n)/2\n",
    "\ttotallist = []\n",
    "\tfor i in a:\n",
    "\t\ttotallist.append(i)\n",
    "\tfor i in b:\n",
    "\t\ttotallist.append(i)\n",
    "\tcount = 0\n",
    "\ttotallist = np.asarray(totallist)\n",
    "\tfor i in range(n_iter):\n",
    "\t\tsample = np.random.choice(totallist, m+n, replace=True)\n",
    "\t\tsamplea = sample[:m]\n",
    "\t\tsampleb = sample[m:]\n",
    "\t\tu,p = stats.mannwhitneyu(samplea, sampleb, alternative='two-sided')\n",
    "\t\tif(abs(u-centreu)>=abs(u0-centreu)):\n",
    "\t\t\tcount+=1\n",
    "# \tprint(count)\n",
    "\treturn count/n_iter\n",
    "\n",
    "def mannwhitneyu_bootstrap(low, high, iterations):\n",
    "\tu,p = stats.mannwhitneyu(low, high, alternative='two-sided')\n",
    "\tif ranksumdiff(low, high)>0:\n",
    "\t\tdom = \"Low\"\n",
    "\telse:\n",
    "\t\tdom = \"High\"\n",
    "\tbpval = ''\n",
    "\tif(p<0.05):\n",
    "\t\tbpval = bootstrap(low, high, u, iterations)\n",
    "\treturn str(u)+\", \"+str(p)+\"(\"+dom+\", \"+str(bpval)+\")\""
   ]
  },
  {
   "cell_type": "code",
   "execution_count": 5,
   "metadata": {},
   "outputs": [],
   "source": [
    "def mann_whitney_u_test(distribution_1, distribution_2):\n",
    "    \"\"\"\n",
    "    Perform the Mann-Whitney U Test, comparing two different distributions.\n",
    "    Args:\n",
    "       distribution_1: List. \n",
    "       distribution_2: List.\n",
    "    Outputs:\n",
    "        u_statistic: Float. U statisitic for the test.\n",
    "        p_value: Float.\n",
    "    \"\"\"\n",
    "    u_statistic, p_value = stats.mannwhitneyu(distribution_1, distribution_2, alternative='two-sided')\n",
    "    \n",
    "    return (u_statistic, p_value)\n"
   ]
  },
  {
   "cell_type": "code",
   "execution_count": 6,
   "metadata": {},
   "outputs": [],
   "source": [
    "import numpy as np\n",
    "def median(x):\n",
    "    return np.median(np.array(x))\n"
   ]
  },
  {
   "cell_type": "code",
   "execution_count": 7,
   "metadata": {},
   "outputs": [],
   "source": [
    "def Get_Users_topandbottom(dataset, pers, num):\n",
    "    distril = []\n",
    "    distrih = [] \n",
    "\n",
    "    temp1 = {}\n",
    "    temp2 = {}\n",
    "    for i in dataset:\n",
    "        temp1[i] = dataset[i][pers]\n",
    "        temp2[i] = dataset[i][pers]\n",
    "\n",
    "    temp1 = dict(sorted(temp1.items(), key=lambda item: item[1], reverse=False))\n",
    "    temp2 = dict(sorted(temp2.items(), key=lambda item: item[1], reverse=True))\n",
    "\n",
    "    t = 0\n",
    "    b = 0\n",
    "    for i in temp1:\n",
    "        if dataset[i]['Ext_song_plays'] >= th_songs and dataset[i]['Ext_song_plays']/dataset[i]['Total_song_plays'] >= th_hitrate:\n",
    "            distril.append(dataset[i]['Instr_unique_song_plays']/dataset[i]['Ext_song_plays'] * 100)\n",
    "        t += 1\n",
    "        if t == num:\n",
    "            break\n",
    "\n",
    "    for i in temp2:\n",
    "        if dataset[i]['Ext_song_plays'] >= th_songs and dataset[i]['Ext_song_plays']/dataset[i]['Total_song_plays'] >= th_hitrate:\n",
    "            distrih.append(dataset[i]['Instr_unique_song_plays']/dataset[i]['Ext_song_plays'] * 100)\n",
    "        b += 1\n",
    "        if b == num:\n",
    "            break\n",
    "    return distril, distrih\n"
   ]
  },
  {
   "cell_type": "code",
   "execution_count": 8,
   "metadata": {},
   "outputs": [],
   "source": [
    "def Get_Users(dataset, pers, med):\n",
    "    distril = []\n",
    "    distrih = []\n",
    "\n",
    "    for i in dataset:\n",
    "        if dataset[i][pers] <= median(med) - th_median and dataset[i]['Ext_song_plays'] >= th_songs\\\n",
    "        and dataset[i]['Ext_song_plays']/dataset[i]['Total_song_plays'] >= th_hitrate:\n",
    "            distril.append(dataset[i]['Instr_unique_song_plays']/dataset[i]['Ext_song_plays'] * 100.0)\n",
    "        if dataset[i][pers] >= median(med) + th_median and dataset[i]['Ext_song_plays'] >= th_songs\\\n",
    "        and dataset[i]['Ext_song_plays']/dataset[i]['Total_song_plays'] >= th_hitrate:\n",
    "            distrih.append(dataset[i]['Instr_unique_song_plays']/dataset[i]['Ext_song_plays'] * 100.0)\n",
    "    return distril, distrih\n"
   ]
  },
  {
   "cell_type": "markdown",
   "metadata": {},
   "source": [
    "# Full Listening History"
   ]
  },
  {
   "cell_type": "code",
   "execution_count": 9,
   "metadata": {},
   "outputs": [],
   "source": [
    "LastFMLH = pkl.load(open('../data/LastFM_lh_vectors.pkl', 'rb'))"
   ]
  },
  {
   "cell_type": "code",
   "execution_count": 10,
   "metadata": {},
   "outputs": [],
   "source": [
    "hitrate = []\n",
    "for i in LastFMLH:\n",
    "    hitrate.append((LastFMLH[i]['Ext_song_plays']/LastFMLH[i]['Total_song_plays']))\n"
   ]
  },
  {
   "cell_type": "code",
   "execution_count": 11,
   "metadata": {},
   "outputs": [
    {
     "data": {
      "text/plain": [
       "0.7737704918032787"
      ]
     },
     "execution_count": 11,
     "metadata": {},
     "output_type": "execute_result"
    }
   ],
   "source": [
    "np.median(np.array(hitrate))"
   ]
  },
  {
   "cell_type": "markdown",
   "metadata": {},
   "source": [
    "# General Parameters"
   ]
  },
  {
   "cell_type": "code",
   "execution_count": 12,
   "metadata": {},
   "outputs": [],
   "source": [
    "th_median = 0.25\n",
    "th_songs = 100\n",
    "th_hitrate = 0.1"
   ]
  },
  {
   "cell_type": "code",
   "execution_count": 13,
   "metadata": {},
   "outputs": [
    {
     "data": {
      "text/plain": [
       "4.25"
      ]
     },
     "execution_count": 13,
     "metadata": {},
     "output_type": "execute_result"
    }
   ],
   "source": [
    "ope = []\n",
    "for i in LastFMLH:\n",
    "    ope.append(LastFMLH[i]['open'])\n",
    "median(ope)"
   ]
  },
  {
   "cell_type": "code",
   "execution_count": 14,
   "metadata": {},
   "outputs": [],
   "source": [
    "distriopenl,distriopenh = Get_Users(LastFMLH, 'open', ope)"
   ]
  },
  {
   "cell_type": "code",
   "execution_count": 15,
   "metadata": {},
   "outputs": [],
   "source": [
    "distriopenl100,distriopenh100 = Get_Users_topandbottom(LastFMLH, 'open', 100)\n",
    "distriopenl250,distriopenh250 = Get_Users_topandbottom(LastFMLH, 'open', 250)"
   ]
  },
  {
   "cell_type": "code",
   "execution_count": 16,
   "metadata": {},
   "outputs": [
    {
     "data": {
      "text/plain": [
       "3.0"
      ]
     },
     "execution_count": 16,
     "metadata": {},
     "output_type": "execute_result"
    }
   ],
   "source": [
    "con = []\n",
    "for i in LastFMLH:\n",
    "    con.append(LastFMLH[i]['con'])\n",
    "median(con)"
   ]
  },
  {
   "cell_type": "code",
   "execution_count": 17,
   "metadata": {},
   "outputs": [],
   "source": [
    "districonl,districonh = Get_Users(LastFMLH, 'con', con)"
   ]
  },
  {
   "cell_type": "code",
   "execution_count": 18,
   "metadata": {},
   "outputs": [],
   "source": [
    "districonl100,districonh100 = Get_Users_topandbottom(LastFMLH, 'con', 100)\n",
    "districonl250,districonh250 = Get_Users_topandbottom(LastFMLH, 'con', 250)"
   ]
  },
  {
   "cell_type": "code",
   "execution_count": 19,
   "metadata": {},
   "outputs": [
    {
     "data": {
      "text/plain": [
       "2.25"
      ]
     },
     "execution_count": 19,
     "metadata": {},
     "output_type": "execute_result"
    }
   ],
   "source": [
    "ext = []\n",
    "for i in LastFMLH:\n",
    "    ext.append(LastFMLH[i]['ext'])\n",
    "median(ext)"
   ]
  },
  {
   "cell_type": "code",
   "execution_count": 20,
   "metadata": {},
   "outputs": [],
   "source": [
    "distriextl,distriexth = Get_Users(LastFMLH,'ext', ext)"
   ]
  },
  {
   "cell_type": "code",
   "execution_count": 21,
   "metadata": {},
   "outputs": [],
   "source": [
    "distriextl100,distriexth100 = Get_Users_topandbottom(LastFMLH, 'ext', 100)\n",
    "distriextl250,distriexth250 = Get_Users_topandbottom(LastFMLH, 'ext', 250)"
   ]
  },
  {
   "cell_type": "code",
   "execution_count": 22,
   "metadata": {},
   "outputs": [
    {
     "data": {
      "text/plain": [
       "4.0"
      ]
     },
     "execution_count": 22,
     "metadata": {},
     "output_type": "execute_result"
    }
   ],
   "source": [
    "agr = []\n",
    "for i in LastFMLH:\n",
    "    agr.append(LastFMLH[i]['agr'])\n",
    "median(agr)"
   ]
  },
  {
   "cell_type": "code",
   "execution_count": 23,
   "metadata": {},
   "outputs": [],
   "source": [
    "distriagrl,distriagrh = Get_Users(LastFMLH, 'agr', agr)"
   ]
  },
  {
   "cell_type": "code",
   "execution_count": 24,
   "metadata": {},
   "outputs": [],
   "source": [
    "distriagrl100,distriagrh100 = Get_Users_topandbottom(LastFMLH, 'agr', 100)\n",
    "distriagrl250,distriagrh250 = Get_Users_topandbottom(LastFMLH, 'agr', 250)"
   ]
  },
  {
   "cell_type": "code",
   "execution_count": 25,
   "metadata": {},
   "outputs": [
    {
     "data": {
      "text/plain": [
       "3.0"
      ]
     },
     "execution_count": 25,
     "metadata": {},
     "output_type": "execute_result"
    }
   ],
   "source": [
    "neu = []\n",
    "for i in LastFMLH:\n",
    "    neu.append(LastFMLH[i]['neu'])\n",
    "median(neu)"
   ]
  },
  {
   "cell_type": "code",
   "execution_count": 26,
   "metadata": {},
   "outputs": [],
   "source": [
    "distrineul,distrineuh = Get_Users(LastFMLH, 'neu', neu)"
   ]
  },
  {
   "cell_type": "code",
   "execution_count": 27,
   "metadata": {},
   "outputs": [],
   "source": [
    "distrineul100,distrineuh100 = Get_Users_topandbottom(LastFMLH, 'neu', 100)\n",
    "distrineul250,distrineuh250 = Get_Users_topandbottom(LastFMLH, 'neu', 250)"
   ]
  },
  {
   "cell_type": "markdown",
   "metadata": {},
   "source": [
    "# Top500 History"
   ]
  },
  {
   "cell_type": "code",
   "execution_count": 28,
   "metadata": {},
   "outputs": [],
   "source": [
    "LastFMtop500= pkl.load(open('../data/LastFM_lhtop500_vectors.pkl', 'rb'))"
   ]
  },
  {
   "cell_type": "code",
   "execution_count": 29,
   "metadata": {},
   "outputs": [],
   "source": [
    "hitrate = []\n",
    "for i in LastFMtop500:\n",
    "    hitrate.append((LastFMtop500[i]['Ext_song_plays']/LastFMtop500[i]['Total_song_plays']))\n"
   ]
  },
  {
   "cell_type": "code",
   "execution_count": 30,
   "metadata": {},
   "outputs": [
    {
     "data": {
      "text/plain": [
       "0.7763205266653814"
      ]
     },
     "execution_count": 30,
     "metadata": {},
     "output_type": "execute_result"
    }
   ],
   "source": [
    "np.mean(hitrate)"
   ]
  },
  {
   "cell_type": "code",
   "execution_count": 31,
   "metadata": {},
   "outputs": [],
   "source": [
    "c = 0\n",
    "for i in LastFMtop500:\n",
    "    if LastFMtop500[i]['Ext_song_plays'] >= 100 and LastFMtop500[i]['Ext_song_plays']/LastFMtop500[i]['Total_song_plays'] >= 0.7:\n",
    "        c += 1"
   ]
  },
  {
   "cell_type": "code",
   "execution_count": 32,
   "metadata": {},
   "outputs": [
    {
     "data": {
      "text/plain": [
       "399"
      ]
     },
     "execution_count": 32,
     "metadata": {},
     "output_type": "execute_result"
    }
   ],
   "source": [
    "c"
   ]
  },
  {
   "cell_type": "code",
   "execution_count": 33,
   "metadata": {},
   "outputs": [],
   "source": [
    "LastFMtop100= pkl.load(open('../data/LastFM_lhtop100_vectors.pkl', 'rb'))"
   ]
  },
  {
   "cell_type": "code",
   "execution_count": 34,
   "metadata": {},
   "outputs": [],
   "source": [
    "hitrate = []\n",
    "for i in LastFMtop500:\n",
    "    hitrate.append((LastFMtop500[i]['Ext_song_plays']/LastFMtop500[i]['Total_song_plays']))\n"
   ]
  },
  {
   "cell_type": "code",
   "execution_count": 35,
   "metadata": {},
   "outputs": [
    {
     "data": {
      "text/plain": [
       "0.8280381254964257"
      ]
     },
     "execution_count": 35,
     "metadata": {},
     "output_type": "execute_result"
    }
   ],
   "source": [
    "np.median(hitrate)"
   ]
  },
  {
   "cell_type": "markdown",
   "metadata": {},
   "source": [
    "# General Parameters"
   ]
  },
  {
   "cell_type": "code",
   "execution_count": 36,
   "metadata": {},
   "outputs": [],
   "source": [
    "distriopentop500l,distriopentop500h = Get_Users(LastFMtop500, 'open', ope)"
   ]
  },
  {
   "cell_type": "code",
   "execution_count": 37,
   "metadata": {},
   "outputs": [],
   "source": [
    "distriopentop500l100,distriopentop500h100 = Get_Users_topandbottom(LastFMtop500, 'open', 100)\n",
    "distriopentop500l250,distriopentop500h250 = Get_Users_topandbottom(LastFMtop500, 'open', 250)"
   ]
  },
  {
   "cell_type": "code",
   "execution_count": 38,
   "metadata": {},
   "outputs": [],
   "source": [
    "districontop500l,districontop500h = Get_Users(LastFMtop500, 'con', con)"
   ]
  },
  {
   "cell_type": "code",
   "execution_count": 39,
   "metadata": {},
   "outputs": [],
   "source": [
    "districontop500l100,districontop500h100 = Get_Users_topandbottom(LastFMtop500, 'con', 100)\n",
    "districontop500l250,districontop500h250 = Get_Users_topandbottom(LastFMtop500, 'con', 250)"
   ]
  },
  {
   "cell_type": "code",
   "execution_count": 40,
   "metadata": {},
   "outputs": [],
   "source": [
    "distriexttop500l,distriexttop500h = Get_Users(LastFMtop500, 'ext', ext)"
   ]
  },
  {
   "cell_type": "code",
   "execution_count": 41,
   "metadata": {},
   "outputs": [],
   "source": [
    "distriexttop500l100,distriexttop500h100 = Get_Users_topandbottom(LastFMtop500, 'ext', 100)\n",
    "distriexttop500l250,distriexttop500h250 = Get_Users_topandbottom(LastFMtop500, 'ext', 250)"
   ]
  },
  {
   "cell_type": "code",
   "execution_count": 42,
   "metadata": {},
   "outputs": [],
   "source": [
    "distriagrtop500l,distriagrtop500h = Get_Users(LastFMtop500, 'agr', agr)"
   ]
  },
  {
   "cell_type": "code",
   "execution_count": 43,
   "metadata": {},
   "outputs": [],
   "source": [
    "distriagrtop500l100,distriagrtop500h100 = Get_Users_topandbottom(LastFMtop500, 'agr', 100)\n",
    "distriagrtop500l250,distriagrtop500h250 = Get_Users_topandbottom(LastFMtop500, 'agr', 250)"
   ]
  },
  {
   "cell_type": "code",
   "execution_count": 44,
   "metadata": {},
   "outputs": [],
   "source": [
    "distrineutop500l,distrineutop500h = Get_Users(LastFMtop500, 'neu', neu)"
   ]
  },
  {
   "cell_type": "code",
   "execution_count": 45,
   "metadata": {},
   "outputs": [],
   "source": [
    "distrineutop500l100,distrineutop500h100 = Get_Users_topandbottom(LastFMtop500, 'neu', 100)\n",
    "distrineutop500l250,distrineutop500h250 = Get_Users_topandbottom(LastFMtop500, 'neu', 252)"
   ]
  },
  {
   "cell_type": "code",
   "execution_count": 46,
   "metadata": {},
   "outputs": [],
   "source": [
    "distriopentop100l,distriopentop100h = Get_Users(LastFMtop100, 'open', ope)\n",
    "\n",
    "distriopentop100l100,distriopentop100h100 = Get_Users_topandbottom(LastFMtop100, 'open', 100)\n",
    "distriopentop100l250,distriopentop100h250 = Get_Users_topandbottom(LastFMtop100, 'open', 250)\n",
    "\n",
    "districontop100l,districontop100h = Get_Users(LastFMtop100, 'con', con)\n",
    "\n",
    "districontop100l100,districontop100h100 = Get_Users_topandbottom(LastFMtop100, 'con', 100)\n",
    "districontop100l250,districontop100h250 = Get_Users_topandbottom(LastFMtop100, 'con', 250)\n",
    "\n",
    "distriexttop100l,distriexttop100h = Get_Users(LastFMtop100, 'ext', ext)\n",
    "\n",
    "distriexttop100l100,distriexttop100h100 = Get_Users_topandbottom(LastFMtop100, 'ext', 100)\n",
    "distriexttop100l250,distriexttop100h250 = Get_Users_topandbottom(LastFMtop100, 'ext', 250)\n",
    "\n",
    "distriagrtop100l,distriagrtop100h = Get_Users(LastFMtop100, 'agr', agr)\n",
    "\n",
    "distriagrtop100l100,distriagrtop100h100 = Get_Users_topandbottom(LastFMtop100, 'agr', 100)\n",
    "distriagrtop100l250,distriagrtop100h250 = Get_Users_topandbottom(LastFMtop100, 'agr', 250)\n",
    "\n",
    "distrineutop100l,distrineutop100h = Get_Users(LastFMtop100, 'neu', neu)\n",
    "\n",
    "distrineutop100l100,distrineutop100h100 = Get_Users_topandbottom(LastFMtop100, 'neu', 100)\n",
    "distrineutop100l250,distrineutop100h250 = Get_Users_topandbottom(LastFMtop100, 'neu', 252)"
   ]
  },
  {
   "cell_type": "markdown",
   "metadata": {},
   "source": [
    "# LastFM"
   ]
  },
  {
   "cell_type": "code",
   "execution_count": 47,
   "metadata": {},
   "outputs": [
    {
     "name": "stdout",
     "output_type": "stream",
     "text": [
      "Open 27490.5, 0.45652578826289714(High, )\n",
      "Con 27924.5, 0.14911010937445868(High, )\n",
      "Ext 32211.0, 0.44718477926188327(Low, )\n",
      "Agr 26423.5, 0.7808195568926392(Low, )\n",
      "Neu 33551.5, 0.01668857028950609(Low, 0.0158)\n"
     ]
    }
   ],
   "source": [
    "print(\"Open\",mannwhitneyu_bootstrap(distriopenl, distriopenh, 10000))\n",
    "print(\"Con\", mannwhitneyu_bootstrap(districonl, districonh, 10000))\n",
    "print(\"Ext\", mannwhitneyu_bootstrap(distriextl, distriexth, 10000))\n",
    "print(\"Agr\",mannwhitneyu_bootstrap(distriagrl, distriagrh, 10000))\n",
    "print(\"Neu\",mannwhitneyu_bootstrap(distrineul, distrineuh, 10000))"
   ]
  },
  {
   "cell_type": "code",
   "execution_count": 48,
   "metadata": {},
   "outputs": [
    {
     "data": {
      "text/plain": [
       "29680.0"
      ]
     },
     "execution_count": 48,
     "metadata": {},
     "output_type": "execute_result"
    }
   ],
   "source": [
    "len(distrineutop500l)*len(distrineutop500h)/2"
   ]
  },
  {
   "cell_type": "code",
   "execution_count": 49,
   "metadata": {},
   "outputs": [
    {
     "data": {
      "text/plain": [
       "265"
      ]
     },
     "execution_count": 49,
     "metadata": {},
     "output_type": "execute_result"
    }
   ],
   "source": [
    "len(distrineutop500h)"
   ]
  },
  {
   "cell_type": "code",
   "execution_count": 50,
   "metadata": {},
   "outputs": [
    {
     "name": "stdout",
     "output_type": "stream",
     "text": [
      "Open 27490.5, 0.45652578826289714(High, )\n"
     ]
    }
   ],
   "source": [
    "print(\"Open\",mannwhitneyu_bootstrap(distriopenl, distriopenh, 10000))"
   ]
  },
  {
   "cell_type": "code",
   "execution_count": 51,
   "metadata": {},
   "outputs": [
    {
     "name": "stdout",
     "output_type": "stream",
     "text": [
      "Open 28069.0, 0.7697372321011384(High, )\n"
     ]
    }
   ],
   "source": [
    "print(\"Open\",mannwhitneyu_bootstrap(distriopentop500l, distriopentop500h, 10000))"
   ]
  },
  {
   "cell_type": "code",
   "execution_count": 52,
   "metadata": {},
   "outputs": [
    {
     "name": "stdout",
     "output_type": "stream",
     "text": [
      "Open 28069.0, 0.7697372321011384(High, )\n",
      "Con 27822.0, 0.15057941029444455(High, )\n",
      "Ext 31781.0, 0.5638232388206807(Low, )\n",
      "Agr 25968.0, 0.9782139792683807(Low, )\n",
      "Neu 34320.0, 0.0028800919020874173(Low, 0.0028)\n"
     ]
    }
   ],
   "source": [
    "print(\"Open\",mannwhitneyu_bootstrap(distriopentop500l, distriopentop500h, 10000))\n",
    "print(\"Con\",mannwhitneyu_bootstrap(districontop500l, districontop500h, 10000))\n",
    "print(\"Ext\",mannwhitneyu_bootstrap(distriexttop500l, distriexttop500h, 10000))\n",
    "print(\"Agr\",mannwhitneyu_bootstrap(distriagrtop500l, distriagrtop500h, 10000))\n",
    "print(\"Neu\",mannwhitneyu_bootstrap(distrineutop500l, distrineutop500h, 10000))"
   ]
  },
  {
   "cell_type": "code",
   "execution_count": 53,
   "metadata": {},
   "outputs": [
    {
     "name": "stdout",
     "output_type": "stream",
     "text": [
      "Open 28658.0, 0.6286694039871275(Low, )\n",
      "Con 27709.0, 0.28111394624803976(High, )\n",
      "Ext 32442.0, 0.15323859233381767(Low, )\n",
      "Agr 26452.0, 0.5492438545725482(Low, )\n",
      "Neu 32590.0, 0.016215896810404(Low, 0.0178)\n"
     ]
    }
   ],
   "source": [
    "print(\"Open\",mannwhitneyu_bootstrap(distriopentop100l, distriopentop100h, 10000))\n",
    "print(\"Con\",mannwhitneyu_bootstrap(districontop100l, districontop100h, 10000))\n",
    "print(\"Ext\",mannwhitneyu_bootstrap(distriexttop100l, distriexttop100h, 10000))\n",
    "print(\"Agr\",mannwhitneyu_bootstrap(distriagrtop100l, distriagrtop100h, 10000))\n",
    "print(\"Neu\",mannwhitneyu_bootstrap(distrineutop100l, distrineutop100h, 10000))"
   ]
  },
  {
   "cell_type": "markdown",
   "metadata": {},
   "source": [
    "# Top100 LastFM"
   ]
  },
  {
   "cell_type": "code",
   "execution_count": 54,
   "metadata": {},
   "outputs": [
    {
     "name": "stdout",
     "output_type": "stream",
     "text": [
      "Open 4642.0, 0.38238432600147465(High, )\n",
      "Con 4801.0, 0.6276673409642575(High, )\n",
      "Ext 5162.0, 0.6931327213563807(Low, )\n",
      "Agr 5168.0, 0.6823432616300126(Low, )\n",
      "Neu 5609.5, 0.13674446151793382(Low, )\n"
     ]
    }
   ],
   "source": [
    "print(\"Open\",mannwhitneyu_bootstrap(distriopenl100, distriopenh100, 10000))\n",
    "print(\"Con\", mannwhitneyu_bootstrap(districonl100, districonh100, 10000))\n",
    "print(\"Ext\", mannwhitneyu_bootstrap(distriextl100, distriexth100, 10000))\n",
    "print(\"Agr\",mannwhitneyu_bootstrap(distriagrl100, distriagrh100, 10000))\n",
    "print(\"Neu\",mannwhitneyu_bootstrap(distrineul100, distrineuh100, 10000))"
   ]
  },
  {
   "cell_type": "code",
   "execution_count": 55,
   "metadata": {},
   "outputs": [
    {
     "name": "stdout",
     "output_type": "stream",
     "text": [
      "Open 4690.0, 0.5228662702737628(High, )\n",
      "Con 4754.0, 0.6302963913512414(High, )\n",
      "Ext 4966.5, 0.9357238047437583(High, )\n",
      "Agr 5287.0, 0.48384831248168114(Low, )\n",
      "Neu 5464.0, 0.20611346311668677(Low, )\n"
     ]
    }
   ],
   "source": [
    "print(\"Open\",mannwhitneyu_bootstrap(distriopentop500l100, distriopentop500h100, 10000))\n",
    "print(\"Con\",mannwhitneyu_bootstrap(districontop500l100, districontop500h100, 10000))\n",
    "print(\"Ext\",mannwhitneyu_bootstrap(distriexttop500l100, distriexttop500h100, 10000))\n",
    "print(\"Agr\",mannwhitneyu_bootstrap(distriagrtop500l100, distriagrtop500h100, 10000))\n",
    "print(\"Neu\",mannwhitneyu_bootstrap(distrineutop500l100, distrineutop500h100, 10000))"
   ]
  },
  {
   "cell_type": "code",
   "execution_count": 56,
   "metadata": {},
   "outputs": [
    {
     "name": "stdout",
     "output_type": "stream",
     "text": [
      "Open 4895.5, 0.9919325328915053(High, )\n",
      "Con 4790.5, 0.8792567261117811(High, )\n",
      "Ext 5079.5, 0.6509245813953967(Low, )\n",
      "Agr 5204.5, 0.367067643020871(Low, )\n",
      "Neu 5099.0, 0.530321563754392(Low, )\n"
     ]
    }
   ],
   "source": [
    "print(\"Open\",mannwhitneyu_bootstrap(distriopentop100l100, distriopentop100h100, 10000))\n",
    "print(\"Con\",mannwhitneyu_bootstrap(districontop100l100, districontop100h100, 10000))\n",
    "print(\"Ext\",mannwhitneyu_bootstrap(distriexttop100l100, distriexttop100h100, 10000))\n",
    "print(\"Agr\",mannwhitneyu_bootstrap(distriagrtop100l100, distriagrtop100h100, 10000))\n",
    "print(\"Neu\",mannwhitneyu_bootstrap(distrineutop100l100, distrineutop100h100, 10000))"
   ]
  },
  {
   "cell_type": "markdown",
   "metadata": {},
   "source": [
    "# Top250 LastFM"
   ]
  },
  {
   "cell_type": "code",
   "execution_count": 57,
   "metadata": {},
   "outputs": [
    {
     "name": "stdout",
     "output_type": "stream",
     "text": [
      "Open 29643.5, 0.3201215591337687(High, )\n",
      "Con 29232.5, 0.2117963368512702(High, )\n",
      "Ext 32966.0, 0.2882379415375982(Low, )\n",
      "Agr 32059.5, 0.6164989291640255(Low, )\n",
      "Neu 34397.5, 0.05139373800494823(Low, )\n"
     ]
    }
   ],
   "source": [
    "print(\"Open\",mannwhitneyu_bootstrap(distriopenl250, distriopenh250, 10000))\n",
    "print(\"Con\", mannwhitneyu_bootstrap(districonl250, districonh250, 10000))\n",
    "print(\"Ext\", mannwhitneyu_bootstrap(distriextl250, distriexth250, 10000))\n",
    "print(\"Agr\",mannwhitneyu_bootstrap(distriagrl250, distriagrh250, 10000))\n",
    "print(\"Neu\",mannwhitneyu_bootstrap(distrineul250, distrineuh250, 10000))"
   ]
  },
  {
   "cell_type": "code",
   "execution_count": 58,
   "metadata": {},
   "outputs": [
    {
     "data": {
      "text/plain": [
       "31626.0"
      ]
     },
     "execution_count": 58,
     "metadata": {},
     "output_type": "execute_result"
    }
   ],
   "source": [
    "len(distrineutop500l250)*len(distrineutop500h250)/2"
   ]
  },
  {
   "cell_type": "code",
   "execution_count": 59,
   "metadata": {},
   "outputs": [
    {
     "name": "stdout",
     "output_type": "stream",
     "text": [
      "Open 30124.0, 0.5344076562943487(High, )\n",
      "Con 28906.5, 0.16842632082858278(High, )\n",
      "Ext 32308.0, 0.46275959099985053(Low, )\n",
      "Agr 31701.0, 0.7208186191141418(Low, )\n",
      "Neu 36115.0, 0.005885702164031216(Low, 0.0068)\n"
     ]
    }
   ],
   "source": [
    "print(\"Open\",mannwhitneyu_bootstrap(distriopentop500l250, distriopentop500h250, 10000))\n",
    "print(\"Con\",mannwhitneyu_bootstrap(districontop500l250, districontop500h250, 10000))\n",
    "print(\"Ext\",mannwhitneyu_bootstrap(distriexttop500l250, distriexttop500h250, 10000))\n",
    "print(\"Agr\",mannwhitneyu_bootstrap(distriagrtop500l250, distriagrtop500h250, 10000))\n",
    "print(\"Neu\",mannwhitneyu_bootstrap(distrineutop500l250, distrineutop500h250, 10000))"
   ]
  },
  {
   "cell_type": "code",
   "execution_count": 60,
   "metadata": {},
   "outputs": [
    {
     "name": "stdout",
     "output_type": "stream",
     "text": [
      "Open 30583.0, 0.8965059494627006(Low, )\n",
      "Con 28827.5, 0.3189355652248068(High, )\n",
      "Ext 32982.0, 0.11241659760243404(Low, )\n",
      "Agr 31779.0, 0.3696529427880699(Low, )\n",
      "Neu 34386.0, 0.032404226260435307(Low, 0.0313)\n"
     ]
    }
   ],
   "source": [
    "print(\"Open\",mannwhitneyu_bootstrap(distriopentop100l250, distriopentop100h250, 10000))\n",
    "print(\"Con\",mannwhitneyu_bootstrap(districontop100l250, districontop100h250, 10000))\n",
    "print(\"Ext\",mannwhitneyu_bootstrap(distriexttop100l250, distriexttop100h250, 10000))\n",
    "print(\"Agr\",mannwhitneyu_bootstrap(distriagrtop100l250, distriagrtop100h250, 10000))\n",
    "print(\"Neu\",mannwhitneyu_bootstrap(distrineutop100l250, distrineutop100h250, 10000))"
   ]
  },
  {
   "cell_type": "code",
   "execution_count": 61,
   "metadata": {},
   "outputs": [
    {
     "data": {
      "text/plain": [
       "31626.0"
      ]
     },
     "execution_count": 61,
     "metadata": {},
     "output_type": "execute_result"
    }
   ],
   "source": [
    "len(distrineutop500l250)* len(distrineutop500h250)/2"
   ]
  },
  {
   "cell_type": "markdown",
   "metadata": {},
   "source": [
    "# BoxPlot"
   ]
  },
  {
   "cell_type": "code",
   "execution_count": 62,
   "metadata": {},
   "outputs": [
    {
     "data": {
      "text/plain": [
       "([31.21951219512195,\n",
       "  7.145616067979915,\n",
       "  8.76876876876877,\n",
       "  8.600917431192661,\n",
       "  10.025706940874036,\n",
       "  4.714912280701754,\n",
       "  14.973594283939113,\n",
       "  7.517482517482517,\n",
       "  4.341680129240711,\n",
       "  4.668403125626127,\n",
       "  23.319755600814666,\n",
       "  0.8955223880597015,\n",
       "  6.099500227169469,\n",
       "  3.21353721959171,\n",
       "  3.8774373259052926,\n",
       "  1.9781461944235117,\n",
       "  9.175184216781554,\n",
       "  0.8009153318077803,\n",
       "  0.0,\n",
       "  1.150556820279333,\n",
       "  9.566613162118779,\n",
       "  13.382541720154043,\n",
       "  0.629982000514271,\n",
       "  1.1609048228766539,\n",
       "  2.418950833750805,\n",
       "  14.49814126394052,\n",
       "  25.009633911368017,\n",
       "  9.063867016622922,\n",
       "  1.2241452089489235,\n",
       "  1.3714440898906919,\n",
       "  0.0,\n",
       "  1.1372691053965953,\n",
       "  0.9958707796939519,\n",
       "  15.979935506986742,\n",
       "  6.441637057507567,\n",
       "  13.275594622543952,\n",
       "  39.46891973445987,\n",
       "  9.937888198757763,\n",
       "  2.5,\n",
       "  20.055325034578146,\n",
       "  0.589512876202296,\n",
       "  3.717948717948718,\n",
       "  4.739776951672862,\n",
       "  10.70840197693575,\n",
       "  0.4079673626109911,\n",
       "  2.840656901908566,\n",
       "  7.906437270442683,\n",
       "  0.36252091466815395,\n",
       "  8.617021276595745,\n",
       "  0.7833974711379879,\n",
       "  4.005461993627675,\n",
       "  8.222464558342422,\n",
       "  2.6670222696359516,\n",
       "  2.690058479532164,\n",
       "  12.443201677735058,\n",
       "  16.32822213012847,\n",
       "  4.0,\n",
       "  5.251424324993807,\n",
       "  0.8639021796916533,\n",
       "  21.704475781729002,\n",
       "  38.76172607879925,\n",
       "  24.43419949706622,\n",
       "  17.225578004582378,\n",
       "  0.07834261838440111,\n",
       "  2.7080450681952954,\n",
       "  2.3156089193825045,\n",
       "  1.7565235049243577,\n",
       "  6.70391061452514,\n",
       "  16.939623563920804,\n",
       "  0.0,\n",
       "  31.40903911887581,\n",
       "  9.082733812949641,\n",
       "  12.433862433862434,\n",
       "  0.5161579892280073,\n",
       "  1.9630938358853551,\n",
       "  2.845100105374078,\n",
       "  0.3048780487804878,\n",
       "  0.4743423889607589,\n",
       "  1.7367248136478906,\n",
       "  1.7254901960784312,\n",
       "  12.087912087912088,\n",
       "  15.052083333333332,\n",
       "  18.979512949362196,\n",
       "  6.479481641468683,\n",
       "  5.293440736478711,\n",
       "  0.0,\n",
       "  0.097757331799885,\n",
       "  14.55012853470437,\n",
       "  13.59773371104816,\n",
       "  15.90380139643134,\n",
       "  46.85767097966728,\n",
       "  2.1916092673763305,\n",
       "  0.7328341564441612,\n",
       "  3.6009151497065552,\n",
       "  0.547945205479452,\n",
       "  3.946997462644488,\n",
       "  4.926534140017287,\n",
       "  7.200929152148665,\n",
       "  3.192475824612531,\n",
       "  5.555555555555555,\n",
       "  0.6464445549477871,\n",
       "  11.910377358490566,\n",
       "  2.5725708326090735,\n",
       "  4.345140032948929,\n",
       "  2.4065161051462423,\n",
       "  2.659176029962547,\n",
       "  1.301257517769273,\n",
       "  10.503519220357337,\n",
       "  0.7079646017699115,\n",
       "  14.900060569351908,\n",
       "  8.212864026817515,\n",
       "  4.276550249465432,\n",
       "  2.204754601226994,\n",
       "  6.356437791517518,\n",
       "  0.7723761926397091,\n",
       "  4.4428936962084205,\n",
       "  9.512485136741974,\n",
       "  22.439024390243905,\n",
       "  1.4279532669839896,\n",
       "  11.496291518864881,\n",
       "  15.238336713995942,\n",
       "  0.8333333333333334,\n",
       "  8.237327188940093,\n",
       "  3.689486031136703,\n",
       "  1.780799740974583,\n",
       "  2.3734177215189876,\n",
       "  6.870229007633588,\n",
       "  7.741553052756372,\n",
       "  14.750061561191824,\n",
       "  0.6716712761754247,\n",
       "  0.4198895027624309,\n",
       "  0.16652789342214822,\n",
       "  1.263157894736842,\n",
       "  4.759427828348504,\n",
       "  2.477263850917815,\n",
       "  27.275280898876403,\n",
       "  2.4466519499632082,\n",
       "  10.125730842862318,\n",
       "  3.0727923627684963,\n",
       "  5.34876446668752,\n",
       "  20.852162685603616,\n",
       "  6.453851492019432,\n",
       "  2.8997867803837956,\n",
       "  0.0,\n",
       "  5.169833045480714,\n",
       "  3.675889328063241,\n",
       "  18.579591836734693,\n",
       "  8.465608465608465,\n",
       "  21.65991902834008,\n",
       "  0.0,\n",
       "  5.344418052256532,\n",
       "  12.554112554112553,\n",
       "  6.0399159663865545,\n",
       "  1.3113304847502578,\n",
       "  9.007001909611713,\n",
       "  0.5870841487279843,\n",
       "  2.802547770700637,\n",
       "  2.492163009404389,\n",
       "  20.671864251318507,\n",
       "  4.2041078305519894,\n",
       "  3.5258490157906124,\n",
       "  2.648171500630517,\n",
       "  3.841931942919868,\n",
       "  0.37209302325581395,\n",
       "  6.8088033012379645,\n",
       "  0.0,\n",
       "  0.6696428571428571,\n",
       "  30.76923076923077,\n",
       "  13.828306264501162,\n",
       "  1.80633698549008,\n",
       "  17.44613767735155,\n",
       "  12.702640111162575,\n",
       "  2.297200287150036,\n",
       "  8.200000000000001,\n",
       "  2.915524545228009,\n",
       "  9.953161592505854,\n",
       "  3.128911138923655,\n",
       "  2.553191489361702,\n",
       "  2.0894071914480077,\n",
       "  4.689480354879595,\n",
       "  22.01642495194828,\n",
       "  6.237006237006238,\n",
       "  5.89171974522293,\n",
       "  6.102362204724409,\n",
       "  2.3476541434477802,\n",
       "  31.329690346083787,\n",
       "  0.0,\n",
       "  3.5641130684145845,\n",
       "  3.526734926052332,\n",
       "  2.151961595762291,\n",
       "  3.077790304396843,\n",
       "  22.169811320754718,\n",
       "  0.14410705095213588,\n",
       "  9.210526315789473,\n",
       "  4.831460674157303,\n",
       "  65.54505646462319,\n",
       "  14.757412398921833,\n",
       "  32.773109243697476,\n",
       "  5.663939584644431,\n",
       "  5.880281690140845,\n",
       "  6.787186806216301,\n",
       "  1.6085790884718498,\n",
       "  6.5550906555090656,\n",
       "  6.462457975345536,\n",
       "  2.205005959475566,\n",
       "  18.848920863309353,\n",
       "  1.240610061461416,\n",
       "  6.3559322033898304,\n",
       "  3.148273527420447,\n",
       "  0.20798668885191346,\n",
       "  16.13274948144734,\n",
       "  3.056768558951965,\n",
       "  0.0,\n",
       "  4.921175969322539,\n",
       "  5.499438832772166,\n",
       "  6.91358024691358,\n",
       "  8.498727735368956,\n",
       "  18.728717366628832,\n",
       "  2.773876404494382,\n",
       "  0.9174311926605505,\n",
       "  3.668941979522184,\n",
       "  4.068396226415095,\n",
       "  2.454642475987193,\n",
       "  0.1710863986313088,\n",
       "  50.160771704180064,\n",
       "  12.091826637641006,\n",
       "  3.288490284005979,\n",
       "  0.16913739926375485,\n",
       "  1.1244668476153548,\n",
       "  6.21128601466159,\n",
       "  4.822097378277154,\n",
       "  3.786342123056119,\n",
       "  11.67608286252354,\n",
       "  6.785336623193514,\n",
       "  1.1652610571042297,\n",
       "  8.350305498981669,\n",
       "  5.007587253414264,\n",
       "  0.0,\n",
       "  13.626907073509015,\n",
       "  3.3085194375516958,\n",
       "  8.862685431723088,\n",
       "  1.4252873563218391,\n",
       "  0.07662835249042146,\n",
       "  1.9597989949748744,\n",
       "  0.6,\n",
       "  23.929961089494164,\n",
       "  21.39616055846422,\n",
       "  0.8052708638360175,\n",
       "  6.098178137651821,\n",
       "  7.606607760276604,\n",
       "  3.6177105831533476],\n",
       " [0.6978367062107467,\n",
       "  1.6370558375634516,\n",
       "  0.259588008708759,\n",
       "  1.8593371059013744,\n",
       "  10.419906687402799,\n",
       "  0.0,\n",
       "  6.42582173526799,\n",
       "  2.857142857142857,\n",
       "  27.49546279491833,\n",
       "  4.792560801144492,\n",
       "  2.948049613517886,\n",
       "  25.730282375852,\n",
       "  1.8612521150592216,\n",
       "  8.717948717948717,\n",
       "  1.0632594710507506,\n",
       "  0.3801782905086523,\n",
       "  0.34315704481227294,\n",
       "  25.090036014405765,\n",
       "  7.055393586005831,\n",
       "  17.340339531123686,\n",
       "  5.129457743038593,\n",
       "  0.0,\n",
       "  1.4925373134328357,\n",
       "  14.126097366320831,\n",
       "  0.0,\n",
       "  24.081709145427286,\n",
       "  1.3235294117647058,\n",
       "  0.0373785198106155,\n",
       "  2.858315098468271,\n",
       "  11.794546607482562,\n",
       "  5.316804407713498,\n",
       "  4.977488744372186,\n",
       "  0.0,\n",
       "  0.0,\n",
       "  0.9285943003522255,\n",
       "  6.718241042345277,\n",
       "  3.9215686274509802,\n",
       "  2.200825309491059,\n",
       "  6.33245382585752,\n",
       "  9.524623803009575,\n",
       "  3.6417531230150324,\n",
       "  21.070878274268104,\n",
       "  1.2477396021699818,\n",
       "  1.6602361744417162,\n",
       "  29.818887451487708,\n",
       "  0.42062067196717107,\n",
       "  14.45012787723785,\n",
       "  5.675258151069193,\n",
       "  4.4325207045375015,\n",
       "  11.875367430922987,\n",
       "  6.940588561910049,\n",
       "  1.3869132290184922,\n",
       "  16.02506714413608,\n",
       "  6.301784576163161,\n",
       "  4.609345321007978,\n",
       "  5.547498187092096,\n",
       "  5.4030874785591765,\n",
       "  3.329878206789324,\n",
       "  1.3066072754268747,\n",
       "  7.5134168157423975,\n",
       "  5.166524338172502,\n",
       "  0.0,\n",
       "  6.686217008797654,\n",
       "  9.976643309976643,\n",
       "  11.604253351826168,\n",
       "  1.1503293678104414,\n",
       "  17.282542579075425,\n",
       "  11.880359757372934,\n",
       "  6.808746194298367,\n",
       "  0.34233548877900344,\n",
       "  6.854199683042789,\n",
       "  14.810794044665013,\n",
       "  21.01030409650666,\n",
       "  1.7301038062283738,\n",
       "  1.3687760365006942,\n",
       "  0.3712564969886973,\n",
       "  2.0366770894954787,\n",
       "  0.3677510608203678,\n",
       "  0.0,\n",
       "  13.917919959214887,\n",
       "  4.587037752866899,\n",
       "  2.605548854041013,\n",
       "  13.524590163934427,\n",
       "  6.521739130434782,\n",
       "  18.195488721804512,\n",
       "  3.311965811965812,\n",
       "  11.45440844009043,\n",
       "  1.7968749999999998,\n",
       "  0.7097274408063458,\n",
       "  0.0,\n",
       "  0.0,\n",
       "  2.8346456692913384,\n",
       "  7.216494845360824,\n",
       "  9.494773519163763,\n",
       "  5.04947982745496,\n",
       "  3.942181340341656,\n",
       "  2.7027027027027026,\n",
       "  0.9956192751891677,\n",
       "  1.1266791853242812,\n",
       "  0.9615384615384616,\n",
       "  1.728395061728395,\n",
       "  13.851080864691752,\n",
       "  3.3946251768033946,\n",
       "  1.113505747126437,\n",
       "  2.2317596566523603,\n",
       "  1.2169804567256068,\n",
       "  0.0,\n",
       "  33.88456034345683,\n",
       "  0.44934640522875813,\n",
       "  3.4014395170652425,\n",
       "  0.0,\n",
       "  4.909881914232442,\n",
       "  10.805084745762713,\n",
       "  6.14481409001957,\n",
       "  30.357142857142854,\n",
       "  0.8125,\n",
       "  1.3855035279025016,\n",
       "  0.7520592097409574,\n",
       "  1.6312407315867523,\n",
       "  0.463821892393321,\n",
       "  4.3,\n",
       "  22.829964328180736,\n",
       "  8.712715855572998,\n",
       "  0.8575803981623278,\n",
       "  0.3731343283582089,\n",
       "  7.307692307692308,\n",
       "  1.8983132821473914,\n",
       "  15.151515151515152,\n",
       "  0.0,\n",
       "  1.7970755664694722,\n",
       "  12.578616352201259,\n",
       "  3.5936751317680886,\n",
       "  11.474269819193324,\n",
       "  3.6638655462184873,\n",
       "  0.8056537102473498,\n",
       "  2.231237322515213,\n",
       "  1.9597596028220539,\n",
       "  0.7645875251509054,\n",
       "  11.48235294117647,\n",
       "  1.331931300385559,\n",
       "  6.66194188518781,\n",
       "  1.3535760014633254,\n",
       "  8.365533230293662,\n",
       "  5.003427004797807,\n",
       "  1.918168458504138,\n",
       "  4.446742502585315,\n",
       "  4.436860068259386,\n",
       "  3.1990967256304104,\n",
       "  2.69821502698215,\n",
       "  2.084528590552687,\n",
       "  1.6790772375529273,\n",
       "  2.063953488372093,\n",
       "  13.976288189694483,\n",
       "  17.42748897584001,\n",
       "  9.15032679738562,\n",
       "  3.3733049422839856,\n",
       "  1.5135135135135136,\n",
       "  0.0,\n",
       "  0.24449877750611246,\n",
       "  5.4884189325276935,\n",
       "  3.382727136656189,\n",
       "  57.95272791896215,\n",
       "  10.545512210593087,\n",
       "  3.38123415046492,\n",
       "  0.0,\n",
       "  0.17831934021844117,\n",
       "  16.2095447065277,\n",
       "  19.0846286701209,\n",
       "  0.20671834625322996,\n",
       "  0.7460492466005145,\n",
       "  55.47494899115847,\n",
       "  0.5065123010130246,\n",
       "  9.251968503937007,\n",
       "  0.32599188995785955,\n",
       "  0.3703703703703704,\n",
       "  1.0030864197530864,\n",
       "  26.23141941125036,\n",
       "  6.057038199895342,\n",
       "  0.19929660023446658,\n",
       "  10.835579514824797,\n",
       "  3.1224915716808477,\n",
       "  2.477027566919696,\n",
       "  13.643410852713178,\n",
       "  6.223893065998329,\n",
       "  8.935824532900082,\n",
       "  15.838468598400421,\n",
       "  1.8711018711018712,\n",
       "  1.4388489208633095,\n",
       "  0.21474588403722264,\n",
       "  3.40145479736751,\n",
       "  5.289713541666666,\n",
       "  0.6360279031596224,\n",
       "  2.115885416666667,\n",
       "  16.34182908545727,\n",
       "  3.2280044289242826,\n",
       "  3.9509536784741144,\n",
       "  9.39875604699378,\n",
       "  13.671804170444243,\n",
       "  2.5071633237822346,\n",
       "  0.0,\n",
       "  21.958684009181333,\n",
       "  31.47399622743196,\n",
       "  0.18410555385087451,\n",
       "  0.4227733934611048,\n",
       "  0.6352941176470588,\n",
       "  3.5347159603246165,\n",
       "  2.8695181375203034,\n",
       "  0.8341474411963627,\n",
       "  1.662049861495845,\n",
       "  1.8871485185884127,\n",
       "  2.1486123545210387,\n",
       "  9.629366909026423,\n",
       "  0.4156563907170073,\n",
       "  37.919782460910945,\n",
       "  1.932068206820682,\n",
       "  13.058419243986256,\n",
       "  0.42911757821643126,\n",
       "  0.1444341277210358,\n",
       "  2.681992337164751,\n",
       "  1.5208061205448777,\n",
       "  2.535657686212361,\n",
       "  0.0,\n",
       "  3.237107623318386,\n",
       "  16.748702940002662,\n",
       "  6.041447137337548,\n",
       "  6.308557151780138,\n",
       "  5.851867847117253,\n",
       "  15.87431693989071,\n",
       "  4.74151601649223,\n",
       "  16.29425919559986,\n",
       "  5.443548387096774,\n",
       "  0.0,\n",
       "  3.1299524564183834,\n",
       "  15.144230769230768,\n",
       "  3.4895568008150786,\n",
       "  0.1429042541497197,\n",
       "  0.35737491877842753,\n",
       "  0.5882352941176471,\n",
       "  2.5120612210946596,\n",
       "  0.24174053182917005,\n",
       "  2.840909090909091,\n",
       "  1.4350453172205437,\n",
       "  0.14083515245405254,\n",
       "  5.806911293195583,\n",
       "  3.248504749618858,\n",
       "  0.0,\n",
       "  2.843822843822844,\n",
       "  1.0828370330265296,\n",
       "  1.3775510204081634,\n",
       "  3.556814604973245,\n",
       "  1.4563106796116505,\n",
       "  3.0277892990460393])"
      ]
     },
     "execution_count": 62,
     "metadata": {},
     "output_type": "execute_result"
    }
   ],
   "source": [
    "distrineutop500l250, distrineutop500h250"
   ]
  },
  {
   "cell_type": "code",
   "execution_count": 63,
   "metadata": {},
   "outputs": [],
   "source": [
    "import seaborn as sb"
   ]
  },
  {
   "cell_type": "code",
   "execution_count": 64,
   "metadata": {},
   "outputs": [
    {
     "data": {
      "text/plain": [
       "[(0.0, 16.0)]"
      ]
     },
     "execution_count": 64,
     "metadata": {},
     "output_type": "execute_result"
    },
    {
     "data": {
      "image/png": "[encoded data removed]",
      "text/plain": [
       "<Figure size 432x288 with 1 Axes>"
      ]
     },
     "metadata": {
      "needs_background": "light"
     },
     "output_type": "display_data"
    }
   ],
   "source": [
    "df = pd.DataFrame(distriopentop500l250,columns=['low'])\n",
    "df2 = pd.DataFrame(distriopentop500h250,columns=['high'])\n",
    "\n",
    "ax = sb.boxplot(data=[df,df2])\n",
    "ax.set(ylim=(0, 16))"
   ]
  },
  {
   "cell_type": "code",
   "execution_count": 65,
   "metadata": {},
   "outputs": [
    {
     "data": {
      "text/plain": [
       "[(0.0, 16.0)]"
      ]
     },
     "execution_count": 65,
     "metadata": {},
     "output_type": "execute_result"
    },
    {
     "data": {
      "image/png": "[encoded data removed]",
      "text/plain": [
       "<Figure size 432x288 with 1 Axes>"
      ]
     },
     "metadata": {
      "needs_background": "light"
     },
     "output_type": "display_data"
    }
   ],
   "source": [
    "import pandas as pd\n",
    "\n",
    "df = pd.DataFrame(distrineutop500l250,columns=['low'])\n",
    "df2 = pd.DataFrame(distrineutop500h250,columns=['high'])\n",
    "\n",
    "ax = sb.boxplot(data=[df,df2])\n",
    "ax.set(ylim=(0, 16))"
   ]
  },
  {
   "cell_type": "code",
   "execution_count": 66,
   "metadata": {},
   "outputs": [
    {
     "data": {
      "text/plain": [
       "[(0.0, 16.0)]"
      ]
     },
     "execution_count": 66,
     "metadata": {},
     "output_type": "execute_result"
    },
    {
     "data": {
      "image/png": "[encoded data removed]",
      "text/plain": [
       "<Figure size 432x288 with 1 Axes>"
      ]
     },
     "metadata": {
      "needs_background": "light"
     },
     "output_type": "display_data"
    }
   ],
   "source": [
    "import pandas as pd\n",
    "\n",
    "df = pd.DataFrame(distrineutop500l250,columns=['low'])\n",
    "df2 = pd.DataFrame(distrineutop500h250,columns=['high'])\n",
    "\n",
    "ax = sb.boxplot(data=[df,df2])\n",
    "ax.set(ylim=(0, 16))"
   ]
  },
  {
   "cell_type": "code",
   "execution_count": 67,
   "metadata": {},
   "outputs": [
    {
     "data": {
      "text/plain": [
       "(251, 252)"
      ]
     },
     "execution_count": 67,
     "metadata": {},
     "output_type": "execute_result"
    }
   ],
   "source": [
    "len(df), len(df2)"
   ]
  },
  {
   "cell_type": "code",
   "execution_count": 68,
   "metadata": {},
   "outputs": [],
   "source": [
    "# for i in range(49,270):\n",
    "#     distriopentop500l250,distriopentop500h250 = Get_Users_topandbottom(LastFMtop500, 'open', i)\n",
    "#     a = mannwhitneyu_bootstrap(distriopentop500l250, distriopentop500h250, 10000)\n",
    "#     print(a)"
   ]
  },
  {
   "cell_type": "markdown",
   "metadata": {},
   "source": [
    "## My Analysis"
   ]
  },
  {
   "cell_type": "code",
   "execution_count": 69,
   "metadata": {},
   "outputs": [],
   "source": [
    "def get_user_ids(dataset, pers, num):\n",
    "    distril = []\n",
    "    distrih = [] \n",
    "    idsl = []\n",
    "    idsh = []\n",
    "    sc = []\n",
    "    temp1 = {}\n",
    "    temp2 = {}\n",
    "    for i in dataset:\n",
    "        temp1[i] = dataset[i][pers]\n",
    "        temp2[i] = dataset[i][pers]\n",
    "\n",
    "    temp1 = dict(sorted(temp1.items(), key=lambda item: item[1], reverse=False))\n",
    "    temp2 = dict(sorted(temp2.items(), key=lambda item: item[1], reverse=True))\n",
    "\n",
    "    t = 0\n",
    "    b = 0\n",
    "    for i in temp1:\n",
    "        if dataset[i]['Ext_song_plays'] >= th_songs and dataset[i]['Ext_song_plays']/dataset[i]['Total_song_plays'] >= th_hitrate:\n",
    "            distril.append(dataset[i]['Instr_unique_song_plays']/dataset[i]['Ext_song_plays'] * 100)\n",
    "            idsl.append(i)\n",
    "            sc.append(dataset[i][pers])\n",
    "        t += 1\n",
    "        if t == num:\n",
    "            break\n",
    "\n",
    "    for i in temp2:\n",
    "        if dataset[i]['Ext_song_plays'] >= th_songs and dataset[i]['Ext_song_plays']/dataset[i]['Total_song_plays'] >= th_hitrate:\n",
    "            distrih.append(dataset[i]['Instr_unique_song_plays']/dataset[i]['Ext_song_plays'] * 100)\n",
    "            idsh.append(i)\n",
    "            sc.append(dataset[i][pers])\n",
    "\n",
    "        b += 1\n",
    "        if b == num:\n",
    "            break\n",
    "    return distril, distrih, idsl, idsh, sc\n"
   ]
  },
  {
   "cell_type": "code",
   "execution_count": 70,
   "metadata": {},
   "outputs": [],
   "source": [
    "l, h, idsl, idsh, sc = get_user_ids(LastFMtop500, 'neu', 252)"
   ]
  },
  {
   "cell_type": "code",
   "execution_count": 71,
   "metadata": {},
   "outputs": [
    {
     "name": "stdout",
     "output_type": "stream",
     "text": [
      "5.0 0.6914354644149577\n",
      "5.0 0.9126708362288626\n",
      "5.0 0.965244099579696\n",
      "5.0 0.6457843904985644\n",
      "5.0 0.832901554404145\n",
      "5.0 0.8327395950994874\n",
      "5.0 0.8566717402333841\n",
      "5.0 0.3191489361702128\n",
      "5.0 0.358957654723127\n",
      "4.75 0.7092846270928462\n",
      "4.75 0.8378012048192771\n",
      "4.75 0.9308860185814638\n",
      "4.75 0.8820895522388059\n",
      "4.75 0.6095337327429018\n",
      "4.75 0.949359572482823\n",
      "4.75 0.9562492164974301\n",
      "4.75 0.800452415576022\n",
      "4.75 0.3776065276518586\n",
      "4.75 0.9354545454545454\n",
      "4.75 0.906891495601173\n",
      "4.75 0.6573538856775851\n",
      "4.75 0.44789579158316634\n",
      "4.75 0.9056900345803206\n",
      "4.75 0.43834178765086584\n",
      "4.75 0.9838319088319089\n",
      "4.5 0.552266611467605\n",
      "4.5 0.73892963868514\n",
      "4.5 0.9771122473825177\n",
      "4.5 0.8914898805169471\n",
      "4.5 0.8406930253220791\n",
      "4.5 0.7731629392971247\n",
      "4.5 0.8334375651448822\n",
      "4.5 0.8152194386890187\n",
      "4.5 0.9650404676258992\n",
      "4.5 0.8619928236268286\n",
      "4.5 0.7503819126183929\n",
      "4.5 0.49017038007863695\n",
      "4.5 0.8334766408713098\n",
      "4.5 0.5388625592417061\n",
      "4.5 0.8553459119496856\n",
      "4.5 0.9478225968292193\n",
      "4.5 0.8173803526448362\n",
      "4.5 0.8773599873076313\n",
      "4.25 0.9535117056856187\n",
      "4.25 0.7986912347167212\n",
      "4.25 0.9664386278009122\n",
      "4.25 0.9097254536993951\n",
      "4.25 0.959061135371179\n",
      "4.25 0.8600521669341894\n",
      "4.25 0.6389132340052586\n",
      "4.25 0.6343783022190912\n",
      "4.25 0.8386519534745005\n",
      "4.25 0.6738387291373417\n",
      "4.25 0.9325408618127786\n",
      "4.25 0.7949466478759815\n",
      "4.25 0.8780643107290672\n",
      "4.25 0.9533932951757972\n",
      "4.25 0.9397296968221113\n",
      "4.25 0.8918167372881356\n",
      "4.25 0.9163934426229509\n",
      "4.25 0.8680504077094143\n",
      "4.25 0.8723801618593069\n",
      "4.25 0.8012218045112782\n",
      "4.25 0.7568181818181818\n",
      "4.25 0.6713221601489758\n",
      "4.25 0.8423188405797102\n",
      "4.25 0.8338299625943068\n",
      "4.25 0.7142216910666268\n",
      "4.25 0.6020663222796201\n",
      "4.25 0.7317005288060117\n",
      "4.25 0.7706870229007634\n",
      "4.25 0.6905858412766414\n",
      "4.25 0.41521444224146925\n",
      "4.25 0.6613272311212814\n",
      "4.0 0.9056773266259432\n",
      "4.0 0.9093023255813953\n",
      "4.0 0.9255377395385217\n",
      "4.0 0.8844133099824869\n",
      "4.0 0.9045875757922435\n",
      "4.0 0.7988189778049277\n",
      "4.0 0.9330367876893484\n",
      "4.0 0.8853054250320376\n",
      "4.0 0.571875\n",
      "4.0 0.27165354330708663\n",
      "4.0 0.42628205128205127\n",
      "4.0 0.8167539267015707\n",
      "4.0 0.696953781512605\n",
      "4.0 0.39755668288642715\n",
      "4.0 0.8803423290979733\n",
      "4.0 0.9051830886255086\n",
      "4.0 0.9429373246024322\n",
      "4.0 0.8653584082856364\n",
      "4.0 0.8920746551257777\n",
      "4.0 0.693655589123867\n",
      "4.0 0.8110722370858201\n",
      "4.0 0.8385674931129476\n",
      "4.0 0.6800544588155207\n",
      "4.0 0.8354683081018134\n",
      "4.0 0.8132268295547985\n",
      "4.0 0.9579367516119128\n",
      "4.0 0.8848314606741573\n",
      "4.0 0.6942745969983324\n",
      "4.0 0.9702653247941445\n",
      "4.0 0.9222614840989399\n",
      "4.0 0.798492117888965\n",
      "3.75 0.9111603939729959\n",
      "3.75 0.7704736404764103\n",
      "3.75 0.786715036277208\n",
      "3.75 0.7187316500293599\n",
      "3.75 0.8867613753345687\n",
      "3.75 0.8678606001936109\n",
      "3.75 0.6037523452157598\n",
      "3.75 0.5759609517998779\n",
      "3.75 0.9016586283966592\n",
      "3.75 0.2126044039483675\n",
      "3.75 0.872172254020169\n",
      "3.75 0.9734015984015985\n",
      "3.75 0.6972118185601331\n",
      "3.75 0.9806107610276297\n",
      "3.75 0.7036553524804178\n",
      "3.75 0.6605019815059445\n",
      "3.75 0.7681924287019182\n",
      "3.75 0.8649015614392397\n",
      "3.75 0.943914426134721\n",
      "3.75 0.7470109293625761\n",
      "3.75 0.7327696643607482\n",
      "3.75 0.900680642526545\n",
      "3.75 0.28448275862068967\n",
      "3.75 0.8828159160472234\n",
      "3.75 0.925420927590125\n",
      "3.75 0.6796427753606595\n",
      "3.75 0.830812101910828\n",
      "3.75 0.5395872420262664\n",
      "3.75 0.9384858044164038\n",
      "3.75 0.9199063840852945\n",
      "3.75 0.8384353741496599\n",
      "3.75 0.708834969438785\n",
      "3.75 0.9251675353685778\n",
      "3.75 0.8271701050992604\n",
      "3.75 0.6771896510799905\n",
      "3.75 0.6767386091127098\n",
      "3.75 0.9321398124467178\n",
      "3.75 0.8687479019805304\n",
      "3.75 0.7622779519331243\n",
      "3.75 0.923697935271844\n",
      "3.75 0.8865459546183818\n",
      "3.75 0.5704088254380273\n",
      "3.75 0.9536970567121321\n",
      "3.75 0.8804824561403509\n",
      "3.5 0.95699121522694\n",
      "3.5 0.9607238041801094\n",
      "3.5 0.8709963286491961\n",
      "3.5 0.8031496062992126\n",
      "3.5 0.8676042677012609\n",
      "3.5 0.3151854031783402\n",
      "3.5 0.9483473270273143\n",
      "3.5 0.7153905645784996\n",
      "3.5 0.9589364380113279\n",
      "3.5 0.915959453088166\n",
      "3.5 0.5325824617860017\n",
      "3.5 0.8453751739845629\n",
      "3.5 0.5593439363817098\n",
      "3.5 0.6984162144202015\n",
      "3.5 0.6975235849056604\n",
      "3.5 0.8294489611562782\n",
      "3.5 0.9197075304086374\n",
      "3.5 0.8329906328535527\n",
      "3.5 0.5847008331229487\n",
      "3.5 0.9133102580239144\n",
      "3.5 0.9311796310872318\n",
      "3.5 0.3884974458340673\n",
      "3.5 0.727751448130595\n",
      "3.5 0.8200161420500404\n",
      "3.5 0.9015770609318996\n",
      "3.5 0.8526315789473684\n",
      "3.5 0.8069738480697385\n",
      "3.5 0.8309518043109712\n",
      "3.5 0.8699214749061113\n",
      "3.5 0.8960084033613446\n",
      "3.5 0.7522303325223033\n",
      "3.5 0.9417901421227699\n",
      "3.5 0.9032840129916998\n",
      "3.5 0.8505494505494505\n",
      "3.5 0.685370741482966\n",
      "3.5 0.8323191345503719\n",
      "3.5 0.9234774185736772\n",
      "3.5 0.969758064516129\n",
      "3.5 0.896774193548387\n",
      "3.5 0.8318777292576419\n",
      "3.5 0.9351515936771184\n",
      "3.5 0.8422206991089788\n",
      "3.5 0.9071282337613996\n",
      "3.5 0.7129264330471107\n",
      "3.5 0.28504273504273503\n",
      "3.5 0.9180545781531003\n",
      "3.5 0.5041208791208791\n",
      "3.5 0.594494658997535\n",
      "3.5 0.4353489106409852\n",
      "3.5 0.9106327462491846\n",
      "3.5 0.7113288963650991\n",
      "3.5 0.699678800856531\n",
      "3.5 0.8380758807588076\n",
      "3.5 0.9162215350014057\n",
      "3.5 0.21142959299207437\n",
      "3.5 0.6759980912995069\n",
      "3.25 0.7633535242290749\n",
      "3.25 0.9445154691894656\n",
      "3.25 0.8383946572580645\n",
      "3.25 0.9804454101032047\n",
      "3.25 0.9689157067105504\n",
      "3.25 0.7955840455840456\n",
      "3.25 0.8174833285010148\n",
      "3.25 0.8526284701712935\n",
      "3.25 0.664888808533719\n",
      "3.25 0.9620956538995833\n",
      "3.25 0.45069695405265875\n",
      "3.25 0.912371867881549\n",
      "3.25 0.7971217105263158\n",
      "3.25 0.9621653084982538\n",
      "3.25 0.8623380802960817\n",
      "3.25 0.8472073039742213\n",
      "3.25 0.8401775307092262\n",
      "3.25 0.9332984567093905\n",
      "3.25 0.6307266319852324\n",
      "3.25 0.8810150085099799\n",
      "3.25 0.7679884873680844\n",
      "3.25 0.7246127366609294\n",
      "3.25 0.8149632598530394\n",
      "3.25 0.8913074204946997\n",
      "3.25 0.7649224296607942\n",
      "3.25 0.878320263091323\n",
      "3.25 0.9565566254011921\n",
      "3.25 0.9027181688125894\n",
      "3.25 0.5513585155732273\n",
      "3.25 0.8230607966457023\n",
      "3.25 0.8662159588649782\n",
      "3.25 0.84375\n",
      "3.25 0.8576896311760612\n",
      "3.25 0.9167302119871893\n",
      "3.25 0.9492605813360531\n",
      "3.25 0.8986141502552881\n",
      "3.25 0.839568801521877\n",
      "3.25 0.9489475442699632\n",
      "3.25 0.8270477312905127\n",
      "3.25 0.928664778915269\n",
      "3.25 0.9096974398758728\n",
      "3.25 0.955456570155902\n",
      "3.25 0.4038482562588827\n",
      "3.25 0.2968347720733\n",
      "3.25 0.6213573244670448\n",
      "3.25 0.8377568493150684\n",
      "3.25 0.5081138040042149\n",
      "\n",
      "1.0 0.5729950548269189\n",
      "1.0 0.7526162790697675\n",
      "1.0 0.9445468727840023\n",
      "1.0 0.6561324303987961\n",
      "1.0 0.5712187958883994\n",
      "1.0 0.6919575113808801\n",
      "1.25 0.5334769638713954\n",
      "1.25 0.5930533955417314\n",
      "1.25 0.7958855673416908\n",
      "1.25 0.8337788172402272\n",
      "1.25 0.3857030636292223\n",
      "1.25 0.9628165978085145\n",
      "1.5 0.7564873689637395\n",
      "1.5 0.8210439105219552\n",
      "1.5 0.7257216786609525\n",
      "1.5 0.944147990039132\n",
      "1.5 0.7242210363229471\n",
      "1.5 0.8145386766076421\n",
      "1.5 0.8480037910200213\n",
      "1.5 0.9066212974842417\n",
      "1.5 0.5581437018455474\n",
      "1.5 0.63256191636216\n",
      "1.5 0.6896001418565476\n",
      "1.5 0.9307961226759892\n",
      "1.5 0.9623278236914601\n",
      "1.5 0.40119313944817303\n",
      "1.5 0.7625624449015574\n",
      "1.5 0.7786103542234333\n",
      "1.5 0.7549394518801784\n",
      "1.5 0.9354121681696939\n",
      "1.5 0.8307460303379757\n",
      "1.75 0.9082834396999803\n",
      "1.75 0.8272051436608399\n",
      "1.75 0.508656825223255\n",
      "1.75 0.8065594650533354\n",
      "1.75 0.7966223869838328\n",
      "1.75 0.7384135472370766\n",
      "1.75 0.5369223439733206\n",
      "1.75 0.8807339449541285\n",
      "1.75 0.5657276995305164\n",
      "1.75 0.9507374631268437\n",
      "1.75 0.8966989653473477\n",
      "1.75 0.6593137254901961\n",
      "1.75 0.7677065767284992\n",
      "1.75 0.7035286172547696\n",
      "1.75 0.8521180030257186\n",
      "1.75 0.7710538083171858\n",
      "1.75 0.9178397747632454\n",
      "1.75 0.44028103044496486\n",
      "1.75 0.8776839565741857\n",
      "1.75 0.9238856181665265\n",
      "1.75 0.8894277400581959\n",
      "1.75 0.912287104622871\n",
      "1.75 0.6785714285714286\n",
      "1.75 0.8275961816603992\n",
      "2.0 0.8011288180610889\n",
      "2.0 0.8258258258258259\n",
      "2.0 0.8923519009725907\n",
      "2.0 0.88\n",
      "2.0 0.8415892672858617\n",
      "2.0 0.6018518518518519\n",
      "2.0 0.7086427086427086\n",
      "2.0 0.516236559139785\n",
      "2.0 0.7863645697857485\n",
      "2.0 0.8275805660068706\n",
      "2.0 0.8091603053435115\n",
      "2.0 0.8708222811671088\n",
      "2.0 0.2\n",
      "2.0 0.8619890434049726\n",
      "2.0 0.9209631728045325\n",
      "2.0 0.8166873449131513\n",
      "2.0 0.9243557772236076\n",
      "2.0 0.7524883875248839\n",
      "2.0 0.9396878954027836\n",
      "2.0 0.8779731127197518\n",
      "2.0 0.4708509054825105\n",
      "2.0 0.6364812419146184\n",
      "2.0 0.5337169159953971\n",
      "2.25 0.934640522875817\n",
      "2.25 0.826580226904376\n",
      "2.25 0.7369718309859155\n",
      "2.25 0.7514677103718199\n",
      "2.25 0.6003713158505454\n",
      "2.25 0.5410458661992404\n",
      "2.25 0.8392081120231772\n",
      "2.25 0.946522309711286\n",
      "2.25 0.8082357315486149\n",
      "2.25 0.508098223615465\n",
      "2.25 0.23139954113405442\n",
      "2.25 0.5998138669148441\n",
      "2.25 0.4893159977388355\n",
      "2.25 0.9747711088504578\n",
      "2.25 0.8550606184443537\n",
      "2.25 0.8936\n",
      "2.25 0.7875637504903884\n",
      "2.25 0.794400895856663\n",
      "2.25 0.5359583092067168\n",
      "2.25 0.8007440130202279\n",
      "2.25 0.840458695168114\n",
      "2.25 0.6992805755395683\n",
      "2.25 0.578705035971223\n",
      "2.25 0.7777438092326505\n",
      "2.25 0.9732701742513957\n",
      "2.25 0.668870523415978\n",
      "2.25 0.7546800782341436\n",
      "2.25 0.8010801080108011\n",
      "2.25 0.781891244870041\n",
      "2.25 0.7569672131147541\n",
      "2.25 0.7172651432716721\n",
      "2.25 0.5044301863733578\n",
      "2.25 0.8140883506737165\n",
      "2.25 0.5957537154989384\n",
      "2.25 0.8971448228414173\n",
      "2.25 0.8730113636363637\n",
      "2.25 0.9159384103204328\n",
      "2.25 0.774873828406633\n",
      "2.25 0.6921810699588478\n",
      "2.25 0.6227217496962333\n",
      "2.25 0.8594272963927111\n",
      "2.25 0.940552016985138\n",
      "2.25 0.42953604879111307\n",
      "2.5 0.6374501992031872\n",
      "2.5 0.9248801278636122\n",
      "2.5 0.8668885191347754\n",
      "2.5 0.9527996298010181\n",
      "2.5 0.7660606060606061\n",
      "2.5 0.6879219804951238\n",
      "2.5 0.9326625386996904\n",
      "2.5 0.921697684975034\n",
      "2.5 0.8349277561522729\n",
      "2.5 0.8071708883339279\n",
      "2.5 0.9098484848484848\n",
      "2.5 0.9678683385579937\n",
      "2.5 0.8209672253656454\n",
      "2.5 0.5887202732886612\n",
      "2.5 0.7985643786451323\n",
      "2.5 0.9082706766917293\n",
      "2.5 0.8585199004975125\n",
      "2.5 0.8357018199950137\n",
      "2.5 0.8310371718221992\n",
      "2.5 0.6432724252491694\n",
      "2.5 0.9114484503478811\n",
      "2.5 0.8753266144083613\n",
      "2.5 0.9014023732470334\n",
      "2.5 0.8802959659436448\n",
      "2.5 0.8327847267939433\n",
      "2.5 0.9318423855165069\n",
      "2.5 0.7377049180327869\n",
      "2.5 0.5916167664670658\n",
      "2.5 0.8424932975871313\n",
      "2.5 0.6837190418189201\n",
      "2.5 0.6751269035532995\n",
      "2.5 0.6896052155016299\n",
      "2.5 0.8578109201213346\n",
      "2.5 0.9139034322280396\n",
      "2.5 0.7116991643454039\n",
      "2.5 0.4556006964596634\n",
      "2.5 0.932475884244373\n",
      "2.5 0.7069790062413877\n",
      "2.5 0.9382716049382716\n",
      "2.5 0.9475302316048371\n",
      "2.5 0.7182971014492754\n",
      "2.5 0.8832409972299169\n",
      "2.5 0.9550461975835111\n",
      "2.5 0.7949699289229087\n",
      "2.5 0.9559157546975016\n",
      "2.5 0.8762836185819071\n",
      "2.5 0.340084388185654\n",
      "2.5 0.7644554806669032\n",
      "2.5 0.8990947816826411\n",
      "2.5 0.665850244926522\n",
      "2.5 0.9058107824627648\n",
      "2.75 0.8262158956109134\n",
      "2.75 0.43500957021054465\n",
      "2.75 0.6981558803061935\n",
      "2.75 0.8714285714285714\n",
      "2.75 0.4971997510889857\n",
      "2.75 0.887797506611258\n",
      "2.75 0.9529248340793333\n",
      "2.75 0.7187974491345278\n",
      "2.75 0.8148939199772177\n",
      "2.75 0.8788598574821853\n",
      "2.75 0.7145643693107933\n",
      "2.75 0.7949921752738655\n",
      "2.75 0.9741192127197591\n",
      "2.75 0.5408866995073892\n",
      "2.75 0.8475482053874486\n",
      "2.75 0.8844202898550725\n",
      "2.75 0.8359486447931527\n",
      "2.75 0.848335907878107\n",
      "2.75 0.7927428724640272\n",
      "2.75 0.27496757457846954\n",
      "2.75 0.9810158537816823\n",
      "2.75 0.6375838926174496\n",
      "2.75 0.9624222762908894\n",
      "2.75 0.37949884112476495\n",
      "2.75 0.7753396029258098\n",
      "2.75 0.42328669670381786\n",
      "2.75 0.9444840703756539\n",
      "2.75 0.9000158453493899\n",
      "2.75 0.8005585882950362\n",
      "2.75 0.9255583126550868\n",
      "2.75 0.314611671785871\n",
      "2.75 0.28976565459760784\n",
      "2.75 0.8748696558915537\n",
      "2.75 0.8280381254964257\n",
      "2.75 0.6809269162210339\n",
      "2.75 0.43988816402609504\n",
      "2.75 0.9120098795924668\n",
      "2.75 0.7339337505724317\n",
      "2.75 0.7719267034335527\n",
      "2.75 0.7387096774193549\n",
      "2.75 0.9008364232128999\n",
      "2.75 0.951550780458139\n",
      "2.75 0.7081263659845023\n",
      "2.75 0.84375\n",
      "2.75 0.839384878257155\n",
      "2.75 0.5244047619047619\n",
      "2.75 0.8793225123500353\n",
      "2.75 0.8702748533879743\n",
      "2.75 0.7128953771289538\n",
      "2.75 0.7801287948482061\n",
      "2.75 0.9590583418628454\n",
      "2.75 0.8757647646397803\n",
      "3.0 0.4231292517006803\n",
      "3.0 0.8343791281373845\n",
      "3.0 0.6109589041095891\n",
      "3.0 0.970080108097674\n",
      "3.0 0.9502579218865144\n",
      "3.0 0.8733002481389578\n",
      "3.0 0.8830095080611823\n",
      "3.0 0.7707139134966128\n",
      "3.0 0.12317327766179541\n",
      "3.0 0.6967092337917485\n",
      "3.0 0.7685799109351806\n",
      "3.0 0.6340392561983471\n",
      "3.0 0.7873357228195937\n",
      "3.0 0.8967326496541855\n",
      "3.0 0.7880858040715945\n",
      "3.0 0.6924398625429553\n",
      "3.0 0.46179518707184264\n",
      "3.0 0.7986340603657193\n",
      "3.0 0.8864736350513713\n",
      "3.0 0.6845545235638115\n",
      "3.0 0.9584052137243627\n",
      "3.0 0.8191235059760956\n",
      "3.0 0.9035004730368968\n",
      "3.0 0.9516953088713423\n",
      "3.0 0.6928471248246845\n",
      "3.0 0.8555464256368118\n",
      "3.0 0.9236907730673317\n"
     ]
    }
   ],
   "source": [
    "for i in idsh:\n",
    "    print(LastFMtop500[i]['neu'],LastFMtop500[i]['Ext_song_plays']/LastFMtop500[i]['Total_song_plays'])\n",
    "print()\n",
    "for i in idsl:\n",
    "    print(LastFMtop500[i]['neu'],LastFMtop500[i]['Ext_song_plays']/LastFMtop500[i]['Total_song_plays'])"
   ]
  },
  {
   "cell_type": "markdown",
   "metadata": {},
   "source": [
    "#### pkl.dump(idsl, open('../../research/Lastfm_dataset/agridsl.pkl', 'wb'))"
   ]
  },
  {
   "cell_type": "code",
   "execution_count": 72,
   "metadata": {},
   "outputs": [],
   "source": [
    "# pkl.dump(idsh, open('../../research/Lastfm_dataset/agridsh.pkl', 'wb'))"
   ]
  },
  {
   "cell_type": "code",
   "execution_count": 73,
   "metadata": {},
   "outputs": [
    {
     "data": {
      "text/plain": [
       "(251, 252)"
      ]
     },
     "execution_count": 73,
     "metadata": {},
     "output_type": "execute_result"
    }
   ],
   "source": [
    "len(idsl), len(idsh)"
   ]
  },
  {
   "cell_type": "code",
   "execution_count": 74,
   "metadata": {},
   "outputs": [],
   "source": [
    "# distrineutop500l250"
   ]
  },
  {
   "cell_type": "code",
   "execution_count": 75,
   "metadata": {},
   "outputs": [
    {
     "data": {
      "text/plain": [
       "'36115.0, 0.005885702164031216(Low, 0.0051)'"
      ]
     },
     "execution_count": 75,
     "metadata": {},
     "output_type": "execute_result"
    }
   ],
   "source": [
    "mannwhitneyu_bootstrap(distrineutop500l250, distrineutop500h250, 10000)"
   ]
  },
  {
   "cell_type": "code",
   "execution_count": 76,
   "metadata": {},
   "outputs": [
    {
     "name": "stdout",
     "output_type": "stream",
     "text": [
      "1177.0, 0.6171258100676769(High, )\n",
      "1253.0, 0.7530410985341076(High, )\n",
      "1298.0, 0.727921718013615(High, )\n",
      "1317.0, 0.5824311146341079(High, )\n",
      "1347.0, 0.4970754284193576(High, )\n",
      "1370.0, 0.3958493695930897(High, )\n",
      "1460.0, 0.531527231425743(High, )\n",
      "1476.0, 0.40153382177435815(High, )\n",
      "1485.0, 0.2778412724135023(High, )\n",
      "1523.0, 0.24275399267008624(High, )\n",
      "1560.0, 0.20866950593300249(High, )\n",
      "1586.0, 0.16055768720140984(High, )\n",
      "1659.0, 0.1895233840151479(High, )\n",
      "1776.0, 0.3101055746501331(High, )\n",
      "1837.0, 0.3157280843930834(High, )\n",
      "1865.0, 0.2500451133761884(High, )\n",
      "1887.0, 0.18608388240808316(High, )\n",
      "1940.0, 0.17608527478607516(High, )\n",
      "2025.0, 0.21237316274122486(High, )\n",
      "2096.0, 0.22648337625133297(High, )\n",
      "2201.0, 0.30032505765484196(High, )\n",
      "2255.0, 0.2795613022340341(High, )\n",
      "2309.0, 0.25896879605214285(High, )\n",
      "2369.0, 0.2482164402041619(High, )\n",
      "2424.0, 0.22922133661670863(High, )\n",
      "2507.0, 0.25158931252803485(High, )\n",
      "2580.0, 0.2571291378839846(High, )\n",
      "2661.0, 0.2735107024809781(High, )\n",
      "2803.0, 0.39785606914666893(High, )\n",
      "2844.0, 0.337102685177574(High, )\n",
      "2901.0, 0.30830283825383054(High, )\n",
      "2937.0, 0.25051619984167584(High, )\n",
      "3038.0, 0.28731072020974724(High, )\n",
      "3142.0, 0.32933349699163605(High, )\n",
      "3267.0, 0.40854404388172993(High, )\n",
      "3308.0, 0.34337097800941785(High, )\n",
      "3461.0, 0.4688425544872218(High, )\n",
      "3545.0, 0.5527504216683925(High, )\n",
      "3644.0, 0.583901207197841(High, )\n",
      "3729.0, 0.5842030440112413(High, )\n",
      "3771.0, 0.5004789478789591(High, )\n",
      "3865.0, 0.5148746828148699(High, )\n",
      "3930.0, 0.4757144021095192(High, )\n",
      "4058.0, 0.5466242883033356(High, )\n",
      "4108.0, 0.4780748556444676(High, )\n",
      "4219.0, 0.5137741043106414(High, )\n",
      "4332.0, 0.5514215945450631(High, )\n",
      "4430.0, 0.5610686415943296(High, )\n",
      "4532.0, 0.5757128928646529(High, )\n",
      "4586.0, 0.5085013740269745(High, )\n"
     ]
    }
   ],
   "source": [
    "for i in range(50,100):\n",
    "    distriopentopl250,distriopentoph250 = Get_Users_topandbottom(LastFMtop500, 'open', i)\n",
    "    a = mannwhitneyu_bootstrap(distriopentopl250, distriopentoph250, 10000)\n",
    "    print(a)"
   ]
  },
  {
   "cell_type": "code",
   "execution_count": 77,
   "metadata": {},
   "outputs": [],
   "source": [
    "hitrate = []\n",
    "for i in LastFMLH:\n",
    "    hitrate.append((LastFMLH[i]['Ext_song_plays']/LastFMLH[i]['Total_song_plays']))\n"
   ]
  },
  {
   "cell_type": "code",
   "execution_count": 78,
   "metadata": {},
   "outputs": [
    {
     "data": {
      "text/plain": [
       "0.7345979219071133"
      ]
     },
     "execution_count": 78,
     "metadata": {},
     "output_type": "execute_result"
    }
   ],
   "source": [
    "np.mean(np.array(hitrate))"
   ]
  },
  {
   "cell_type": "code",
   "execution_count": 79,
   "metadata": {},
   "outputs": [],
   "source": [
    "plays = []\n",
    "for i in LastFMLH:\n",
    "    plays.append(LastFMLH[i]['Total_song_plays'])"
   ]
  },
  {
   "cell_type": "code",
   "execution_count": 80,
   "metadata": {},
   "outputs": [
    {
     "data": {
      "text/plain": [
       "16033.404805914972"
      ]
     },
     "execution_count": 80,
     "metadata": {},
     "output_type": "execute_result"
    }
   ],
   "source": [
    "np.mean(np.array(plays))"
   ]
  },
  {
   "cell_type": "code",
   "execution_count": 81,
   "metadata": {},
   "outputs": [],
   "source": [
    "unique = []\n",
    "for i in LastFMLH:\n",
    "    unique.append(LastFMLH[i]['Total_songs'])"
   ]
  },
  {
   "cell_type": "code",
   "execution_count": 82,
   "metadata": {},
   "outputs": [
    {
     "data": {
      "text/plain": [
       "5312.1829944547135"
      ]
     },
     "execution_count": 82,
     "metadata": {},
     "output_type": "execute_result"
    }
   ],
   "source": [
    "np.mean(np.array(unique))"
   ]
  },
  {
   "cell_type": "code",
   "execution_count": 83,
   "metadata": {},
   "outputs": [],
   "source": [
    "uniquei = []\n",
    "for i in LastFMLH:\n",
    "    uniquei.append(LastFMLH[i]['Instr_unique_song_plays'])"
   ]
  },
  {
   "cell_type": "code",
   "execution_count": 84,
   "metadata": {},
   "outputs": [
    {
     "data": {
      "text/plain": [
       "796.279112754159"
      ]
     },
     "execution_count": 84,
     "metadata": {},
     "output_type": "execute_result"
    }
   ],
   "source": [
    "np.mean(np.array(uniquei))"
   ]
  },
  {
   "cell_type": "code",
   "execution_count": 85,
   "metadata": {},
   "outputs": [],
   "source": [
    "instr = []\n",
    "for i in LastFMLH:\n",
    "    instr.append(LastFMLH[i]['Instr'])"
   ]
  },
  {
   "cell_type": "code",
   "execution_count": 86,
   "metadata": {},
   "outputs": [
    {
     "data": {
      "text/plain": [
       "306.3086876155268"
      ]
     },
     "execution_count": 86,
     "metadata": {},
     "output_type": "execute_result"
    }
   ],
   "source": [
    "np.mean(np.array(instr))"
   ]
  },
  {
   "cell_type": "code",
   "execution_count": 87,
   "metadata": {},
   "outputs": [
    {
     "data": {
      "text/plain": [
       "(32126.0, 0.5344076562943487)"
      ]
     },
     "execution_count": 87,
     "metadata": {},
     "output_type": "execute_result"
    }
   ],
   "source": [
    "mann_whitney_u_test(distriopentop500h250,distriopentop500l250)"
   ]
  },
  {
   "cell_type": "code",
   "execution_count": 88,
   "metadata": {},
   "outputs": [
    {
     "data": {
      "text/plain": [
       "(30124.0, 0.5344076562943487)"
      ]
     },
     "execution_count": 88,
     "metadata": {},
     "output_type": "execute_result"
    }
   ],
   "source": [
    "mann_whitney_u_test(distriopentop500l250,distriopentop500h250)"
   ]
  }
 ],
 "metadata": {
  "kernelspec": {
   "display_name": "Python 3",
   "language": "python",
   "name": "python3"
  },
  "language_info": {
   "codemirror_mode": {
    "name": "ipython",
    "version": 3
   },
   "file_extension": ".py",
   "mimetype": "text/x-python",
   "name": "python",
   "nbconvert_exporter": "python",
   "pygments_lexer": "ipython3",
   "version": "3.7.3"
  }
 },
 "nbformat": 4,
 "nbformat_minor": 2
}
