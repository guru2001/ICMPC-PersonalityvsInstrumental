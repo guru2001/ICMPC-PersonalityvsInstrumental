{
 "cells": [
  {
   "cell_type": "code",
   "execution_count": 1,
   "metadata": {},
   "outputs": [],
   "source": [
    "from scipy import stats\n",
    "import pickle as pkl"
   ]
  },
  {
   "cell_type": "code",
   "execution_count": 2,
   "metadata": {},
   "outputs": [],
   "source": [
    "from sklearn.utils import resample"
   ]
  },
  {
   "cell_type": "code",
   "execution_count": 3,
   "metadata": {},
   "outputs": [],
   "source": [
    "from scipy import stats\n",
    "import numpy as np\n",
    "from statistics import mean, median"
   ]
  },
  {
   "cell_type": "code",
   "execution_count": 4,
   "metadata": {},
   "outputs": [],
   "source": [
    "def ranksumdiff(a,b):\n",
    "\ttotalpoints = []\n",
    "\tfor i in a:\n",
    "\t\ttotalpoints.append(i)\n",
    "\tfor i in b:\n",
    "\t\ttotalpoints.append(i)\n",
    "\n",
    "\ttotalpoints.sort()\n",
    "\trank_points = {}\n",
    "\tc = 1\n",
    "\tfor i in totalpoints:\n",
    "\t\tif(i not in rank_points):\n",
    "\t\t\trank_points[i] = []\n",
    "\t\trank_points[i].append(c)\n",
    "\t\tc+=1\n",
    "\trank_value = {}\n",
    "\tfor i in rank_points:\n",
    "\t\trank_value[i] = mean(rank_points[i])\n",
    "\tars = []\n",
    "\tbrs = []\n",
    "\n",
    "\tfor i in a:\n",
    "\t\tars.append(rank_value[i])\n",
    "\n",
    "\tfor i in b:\n",
    "\t\tbrs.append(rank_value[i])\n",
    "\n",
    "\treturn mean(ars) - mean(brs)\n",
    "\n",
    "def bootstrap(a, b, u0, iterations):\n",
    "\tn_iter = iterations\n",
    "\tm = len(a)\n",
    "\tn = len(b)\n",
    "\tcentreu = (m*n)/2\n",
    "\ttotallist = []\n",
    "\tfor i in a:\n",
    "\t\ttotallist.append(i)\n",
    "\tfor i in b:\n",
    "\t\ttotallist.append(i)\n",
    "\tcount = 0\n",
    "\ttotallist = np.asarray(totallist)\n",
    "\tfor i in range(n_iter):\n",
    "\t\tsample = np.random.choice(totallist, m+n, replace=True)\n",
    "\t\tsamplea = sample[:m]\n",
    "\t\tsampleb = sample[m:]\n",
    "\t\tu,p = stats.mannwhitneyu(samplea, sampleb, alternative='two-sided')\n",
    "\t\tif(abs(u-centreu)>=abs(u0-centreu)):\n",
    "\t\t\tcount+=1\n",
    "\treturn count/n_iter\n",
    "\n",
    "def mannwhitneyu_bootstrap(low, high, iterations):\n",
    "\tu,p = stats.mannwhitneyu(low, high, alternative='two-sided')\n",
    "\tif ranksumdiff(low, high)>0:\n",
    "\t\tdom = \"Low\"\n",
    "\telse:\n",
    "\t\tdom = \"High\"\n",
    "\tbpval = ''\n",
    "\tif(p<0.05):\n",
    "\t\tbpval = bootstrap(low, high, u, iterations)\n",
    "\treturn str(u)+\", \"+str(p)+\"(\"+dom+\", \"+str(bpval)+\")\""
   ]
  },
  {
   "cell_type": "code",
   "execution_count": 5,
   "metadata": {},
   "outputs": [],
   "source": [
    "def mann_whitney_u_test(distribution_1, distribution_2):\n",
    "    \"\"\"\n",
    "    Perform the Mann-Whitney U Test, comparing two different distributions.\n",
    "    Args:\n",
    "       distribution_1: List. \n",
    "       distribution_2: List.\n",
    "    Outputs:\n",
    "        u_statistic: Float. U statisitic for the test.\n",
    "        p_value: Float.\n",
    "    \"\"\"\n",
    "    u_statistic, p_value = stats.mannwhitneyu(distribution_1, distribution_2, alternative='two-sided')\n",
    "    \n",
    "    return (u_statistic, p_value)\n"
   ]
  },
  {
   "cell_type": "code",
   "execution_count": 6,
   "metadata": {},
   "outputs": [],
   "source": [
    "import numpy as np\n",
    "def median(x):\n",
    "    return np.median(np.array(x))\n"
   ]
  },
  {
   "cell_type": "code",
   "execution_count": 7,
   "metadata": {},
   "outputs": [],
   "source": [
    "def Get_Users_topandbottom(dataset, pers, num):\n",
    "    distril = []\n",
    "    distrih = [] \n",
    "\n",
    "    temp1 = {}\n",
    "    temp2 = {}\n",
    "    for i in dataset:\n",
    "        temp1[i] = dataset[i][pers]\n",
    "        temp2[i] = dataset[i][pers]\n",
    "\n",
    "    temp1 = dict(sorted(temp1.items(), key=lambda item: item[1], reverse=False))\n",
    "    temp2 = dict(sorted(temp2.items(), key=lambda item: item[1], reverse=True))\n",
    "\n",
    "    t = 0\n",
    "    b = 0\n",
    "    for i in temp1:\n",
    "        if dataset[i]['Ext_song_plays'] >= th_songs and dataset[i]['Ext_song_plays']/dataset[i]['Total_song_plays'] >= th_hitrate:\n",
    "            distril.append(dataset[i]['Instr_unique_song_plays']/dataset[i]['Ext_song_plays'] * 100)\n",
    "        t += 1\n",
    "\n",
    "        if t == num:\n",
    "            break\n",
    "    \n",
    "    for i in temp2:\n",
    "        if dataset[i]['Ext_song_plays'] >= th_songs and dataset[i]['Ext_song_plays']/dataset[i]['Total_song_plays'] >= th_hitrate:\n",
    "            distrih.append(dataset[i]['Instr_unique_song_plays']/dataset[i]['Ext_song_plays'] * 100)\n",
    "        b += 1\n",
    "\n",
    "        if b == num:\n",
    "            break\n",
    "    return distril, distrih\n"
   ]
  },
  {
   "cell_type": "code",
   "execution_count": 8,
   "metadata": {},
   "outputs": [],
   "source": [
    "def Get_Users(dataset, pers, med):\n",
    "    distril = []\n",
    "    distrih = [] \n",
    "\n",
    "    for i in range(len(dataset)):\n",
    "        if dataset[i][pers] <= median(med) - th_median and dataset[i]['Ext_song_plays'] >= th_songs\\\n",
    "        and dataset[i]['Ext_song_plays']/dataset[i]['Total_song_plays'] >= th_hitrate:\n",
    "            distril.append(dataset[i]['Instr_unique_song_plays']/dataset[i]['Ext_song_plays'] * 100)\n",
    "            \n",
    "        if dataset[i][pers] >= median(med) + th_median and dataset[i]['Ext_song_plays'] >= th_songs \\\n",
    "         and dataset[i]['Ext_song_plays']/dataset[i]['Total_song_plays'] >= th_hitrate:\n",
    "            distrih.append(dataset[i]['Instr_unique_song_plays']/dataset[i]['Ext_song_plays'] * 100)\n",
    "    \n",
    "    return distril, distrih"
   ]
  },
  {
   "cell_type": "code",
   "execution_count": 9,
   "metadata": {},
   "outputs": [],
   "source": [
    "PerCorrLH = pkl.load(open('../data/percorr_lh_vectors.pkl', 'rb'))"
   ]
  },
  {
   "cell_type": "code",
   "execution_count": 10,
   "metadata": {},
   "outputs": [],
   "source": [
    "# PerCorrLH[3]"
   ]
  },
  {
   "cell_type": "code",
   "execution_count": 11,
   "metadata": {},
   "outputs": [
    {
     "data": {
      "text/plain": [
       "dict_items([('Total_song_plays', 6), ('Total_unique_songs', 6), ('Ext_song_plays', 6), ('Ext_unique_songs', 6), ('Non_Instr_song_plays', 6), ('Non_Instr_unique_songs', 6), ('Instr_unique_song_plays', 0), ('Instr_unique_songs', 0), ('freq', [1, 1, 1, 1, 1, 1]), ('Joy', -0.4227942315240701), ('Angry', -0.2609129746754964), ('Sad', 1.5501137971878052), ('Relaxed', -0.31631347474952537), ('open', 5.0), ('con', 1.0), ('ext', 4.75), ('agr', 2.5), ('neu', 4.0)])"
      ]
     },
     "execution_count": 11,
     "metadata": {},
     "output_type": "execute_result"
    }
   ],
   "source": [
    "PerCorrLH[0].items()"
   ]
  },
  {
   "cell_type": "markdown",
   "metadata": {},
   "source": [
    "# General Parameters"
   ]
  },
  {
   "cell_type": "code",
   "execution_count": 12,
   "metadata": {},
   "outputs": [],
   "source": [
    "hitrate = []\n",
    "for i in range(len(PerCorrLH)):\n",
    "    hitrate.append(PerCorrLH[i]['Ext_song_plays']/PerCorrLH[i]['Total_song_plays'])"
   ]
  },
  {
   "cell_type": "code",
   "execution_count": 13,
   "metadata": {},
   "outputs": [
    {
     "data": {
      "text/plain": [
       "0.82340182905041"
      ]
     },
     "execution_count": 13,
     "metadata": {},
     "output_type": "execute_result"
    }
   ],
   "source": [
    "np.mean(np.array(hitrate))"
   ]
  },
  {
   "cell_type": "code",
   "execution_count": 14,
   "metadata": {},
   "outputs": [],
   "source": [
    "th_median = 0.25\n",
    "th_songs = 100\n",
    "th_hitrate = 0.7"
   ]
  },
  {
   "cell_type": "code",
   "execution_count": 15,
   "metadata": {},
   "outputs": [
    {
     "data": {
      "text/plain": [
       "4.25"
      ]
     },
     "execution_count": 15,
     "metadata": {},
     "output_type": "execute_result"
    }
   ],
   "source": [
    "ope = []\n",
    "for i in range(len(PerCorrLH)):\n",
    "    ope.append(PerCorrLH[i]['open'])\n",
    "median(ope)"
   ]
  },
  {
   "cell_type": "code",
   "execution_count": 16,
   "metadata": {},
   "outputs": [],
   "source": [
    "distriopenl,distriopenh = Get_Users(PerCorrLH, 'open', ope)"
   ]
  },
  {
   "cell_type": "code",
   "execution_count": 17,
   "metadata": {},
   "outputs": [],
   "source": [
    "distriopenl100,distriopenh100 = Get_Users_topandbottom(PerCorrLH, 'open', 100)"
   ]
  },
  {
   "cell_type": "code",
   "execution_count": 18,
   "metadata": {},
   "outputs": [],
   "source": [
    "distriopenl250,distriopenh250 = Get_Users_topandbottom(PerCorrLH, 'open', 250)"
   ]
  },
  {
   "cell_type": "code",
   "execution_count": 19,
   "metadata": {},
   "outputs": [],
   "source": [
    "distriopenl500,distriopenh500 = Get_Users_topandbottom(PerCorrLH, 'open', 500)"
   ]
  },
  {
   "cell_type": "code",
   "execution_count": 20,
   "metadata": {},
   "outputs": [
    {
     "data": {
      "text/plain": [
       "3.15"
      ]
     },
     "execution_count": 20,
     "metadata": {},
     "output_type": "execute_result"
    }
   ],
   "source": [
    "con = []\n",
    "for i in range(len(PerCorrLH)):\n",
    "    con.append(PerCorrLH[i]['con'])\n",
    "median(con)"
   ]
  },
  {
   "cell_type": "code",
   "execution_count": 21,
   "metadata": {},
   "outputs": [],
   "source": [
    "districonl,districonh = Get_Users(PerCorrLH, 'con', con)"
   ]
  },
  {
   "cell_type": "code",
   "execution_count": 22,
   "metadata": {},
   "outputs": [],
   "source": [
    "districonl100,districonh100 = Get_Users_topandbottom(PerCorrLH, 'con', 100)"
   ]
  },
  {
   "cell_type": "code",
   "execution_count": 23,
   "metadata": {},
   "outputs": [],
   "source": [
    "districonl250,districonh250 = Get_Users_topandbottom(PerCorrLH, 'con', 250)"
   ]
  },
  {
   "cell_type": "code",
   "execution_count": 24,
   "metadata": {},
   "outputs": [],
   "source": [
    "districonl500,districonh500 = Get_Users_topandbottom(PerCorrLH, 'con', 500)"
   ]
  },
  {
   "cell_type": "code",
   "execution_count": 25,
   "metadata": {},
   "outputs": [],
   "source": [
    "ext = []\n",
    "for i in range(len(PerCorrLH)):\n",
    "    ext.append(PerCorrLH[i]['ext'])\n"
   ]
  },
  {
   "cell_type": "code",
   "execution_count": 26,
   "metadata": {},
   "outputs": [
    {
     "data": {
      "text/plain": [
       "3.05"
      ]
     },
     "execution_count": 26,
     "metadata": {},
     "output_type": "execute_result"
    }
   ],
   "source": [
    "median(ext)"
   ]
  },
  {
   "cell_type": "code",
   "execution_count": 27,
   "metadata": {},
   "outputs": [],
   "source": [
    "distriextl,distriexth = Get_Users(PerCorrLH, 'ext', ext)"
   ]
  },
  {
   "cell_type": "code",
   "execution_count": 28,
   "metadata": {},
   "outputs": [],
   "source": [
    "distriextl100,distriexth100 = Get_Users_topandbottom(PerCorrLH, 'ext', 100)\n",
    "distriextl250,distriexth250 = Get_Users_topandbottom(PerCorrLH, 'ext', 250)\n",
    "distriextl500,distriexth500 = Get_Users_topandbottom(PerCorrLH, 'ext', 500)"
   ]
  },
  {
   "cell_type": "code",
   "execution_count": 29,
   "metadata": {},
   "outputs": [
    {
     "data": {
      "text/plain": [
       "3.5"
      ]
     },
     "execution_count": 29,
     "metadata": {},
     "output_type": "execute_result"
    }
   ],
   "source": [
    "agr = []\n",
    "for i in range(len(PerCorrLH)):\n",
    "    agr.append(PerCorrLH[i]['agr'])\n",
    "median(agr)"
   ]
  },
  {
   "cell_type": "code",
   "execution_count": 30,
   "metadata": {},
   "outputs": [],
   "source": [
    "distriagrl,distriagrh = Get_Users(PerCorrLH, 'agr', agr)"
   ]
  },
  {
   "cell_type": "code",
   "execution_count": 31,
   "metadata": {},
   "outputs": [],
   "source": [
    "distriagrl100,distriagrh100 = Get_Users_topandbottom(PerCorrLH, 'agr', 100)\n",
    "distriagrl250,distriagrh250 = Get_Users_topandbottom(PerCorrLH, 'agr', 250)\n",
    "distriagrl500,distriagrh500 = Get_Users_topandbottom(PerCorrLH, 'agr', 500)"
   ]
  },
  {
   "cell_type": "code",
   "execution_count": 32,
   "metadata": {},
   "outputs": [
    {
     "data": {
      "text/plain": [
       "2.85"
      ]
     },
     "execution_count": 32,
     "metadata": {},
     "output_type": "execute_result"
    }
   ],
   "source": [
    "neu = []\n",
    "for i in range(len(PerCorrLH)):\n",
    "    neu.append(PerCorrLH[i]['neu'])\n",
    "median(neu)"
   ]
  },
  {
   "cell_type": "code",
   "execution_count": 33,
   "metadata": {},
   "outputs": [],
   "source": [
    "distrineul,distrineuh = Get_Users(PerCorrLH, 'neu', neu)"
   ]
  },
  {
   "cell_type": "code",
   "execution_count": 34,
   "metadata": {},
   "outputs": [],
   "source": [
    "distrineul100,distrineuh100 = Get_Users_topandbottom(PerCorrLH, 'neu', 100)\n",
    "distrineul250,distrineuh250 = Get_Users_topandbottom(PerCorrLH, 'neu', 252)\n",
    "distrineul500,distrineuh500 = Get_Users_topandbottom(PerCorrLH, 'neu', 500)"
   ]
  },
  {
   "cell_type": "markdown",
   "metadata": {},
   "source": [
    "# Top500 Listening History"
   ]
  },
  {
   "cell_type": "code",
   "execution_count": 35,
   "metadata": {},
   "outputs": [],
   "source": [
    "PerCorrtop500 = pkl.load(open('../data/percorr_lhtop500_vectors.pkl', 'rb'))"
   ]
  },
  {
   "cell_type": "code",
   "execution_count": 36,
   "metadata": {},
   "outputs": [],
   "source": [
    "hitratetop500 = []\n",
    "for i in range(len(PerCorrtop500)):\n",
    "    hitratetop500.append(PerCorrtop500[i]['Ext_song_plays']/PerCorrtop500[i]['Total_song_plays'])"
   ]
  },
  {
   "cell_type": "code",
   "execution_count": 37,
   "metadata": {},
   "outputs": [
    {
     "data": {
      "text/plain": [
       "0.8265289040658109"
      ]
     },
     "execution_count": 37,
     "metadata": {},
     "output_type": "execute_result"
    }
   ],
   "source": [
    "np.mean(np.array(hitratetop500))"
   ]
  },
  {
   "cell_type": "markdown",
   "metadata": {},
   "source": [
    "# General Params"
   ]
  },
  {
   "cell_type": "code",
   "execution_count": 38,
   "metadata": {},
   "outputs": [],
   "source": [
    "th500_median = 0.25\n",
    "th500_songs = 100\n",
    "th500_hitrate = 0.7"
   ]
  },
  {
   "cell_type": "code",
   "execution_count": 39,
   "metadata": {},
   "outputs": [],
   "source": [
    "distriopentop500l,distriopentop500h = Get_Users(PerCorrtop500, 'open', ope)"
   ]
  },
  {
   "cell_type": "code",
   "execution_count": 40,
   "metadata": {},
   "outputs": [],
   "source": [
    "distriopentop500l100,distriopentop500h100 = Get_Users_topandbottom(PerCorrtop500, 'open', 100)\n",
    "distriopentop500l250,distriopentop500h250 = Get_Users_topandbottom(PerCorrtop500, 'open', 250)\n",
    "distriopentop500l500,distriopentop500h500 = Get_Users_topandbottom(PerCorrtop500, 'open', 500)"
   ]
  },
  {
   "cell_type": "code",
   "execution_count": 41,
   "metadata": {},
   "outputs": [],
   "source": [
    "districontop500l,districontop500h = Get_Users(PerCorrtop500, 'con', con)"
   ]
  },
  {
   "cell_type": "code",
   "execution_count": 42,
   "metadata": {},
   "outputs": [],
   "source": [
    "districontop500l100,districontop500h100 = Get_Users_topandbottom(PerCorrtop500, 'con', 100)\n",
    "districontop500l250,districontop500h250 = Get_Users_topandbottom(PerCorrtop500, 'con', 250)\n",
    "districontop500l500,districontop500h500 = Get_Users_topandbottom(PerCorrtop500, 'con', 500)"
   ]
  },
  {
   "cell_type": "code",
   "execution_count": 43,
   "metadata": {},
   "outputs": [],
   "source": [
    "distriexttop500l,distriexttop500h = Get_Users(PerCorrtop500, 'ext', ext)"
   ]
  },
  {
   "cell_type": "code",
   "execution_count": 44,
   "metadata": {},
   "outputs": [],
   "source": [
    "distriexttop500l100,distriexttop500h100 = Get_Users_topandbottom(PerCorrtop500, 'ext', 100)\n",
    "distriexttop500l250,distriexttop500h250 = Get_Users_topandbottom(PerCorrtop500, 'ext', 250)\n",
    "distriexttop500l500,distriexttop500h500 = Get_Users_topandbottom(PerCorrtop500, 'ext', 500)"
   ]
  },
  {
   "cell_type": "code",
   "execution_count": 45,
   "metadata": {},
   "outputs": [],
   "source": [
    "distriagrtop500l,distriagrtop500h = Get_Users(PerCorrtop500, 'agr', agr)"
   ]
  },
  {
   "cell_type": "code",
   "execution_count": 46,
   "metadata": {},
   "outputs": [],
   "source": [
    "distriagrtop500l100,distriagrtop500h100 = Get_Users_topandbottom(PerCorrtop500, 'agr', 100)\n",
    "distriagrtop500l250,distriagrtop500h250 = Get_Users_topandbottom(PerCorrtop500, 'agr', 250)\n",
    "distriagrtop500l500,distriagrtop500h500 = Get_Users_topandbottom(PerCorrtop500, 'agr', 500)"
   ]
  },
  {
   "cell_type": "code",
   "execution_count": 47,
   "metadata": {},
   "outputs": [],
   "source": [
    "distrineutop500l,distrineutop500h = Get_Users(PerCorrtop500, 'neu', neu)"
   ]
  },
  {
   "cell_type": "code",
   "execution_count": 48,
   "metadata": {},
   "outputs": [],
   "source": [
    "distrineutop500l100,distrineutop500h100 = Get_Users_topandbottom(PerCorrtop500, 'neu', 100)\n",
    "distrineutop500l250,distrineutop500h250 = Get_Users_topandbottom(PerCorrtop500, 'neu', 252)\n",
    "distrineutop500l500,distrineutop500h500 = Get_Users_topandbottom(PerCorrtop500, 'neu', 500)"
   ]
  },
  {
   "cell_type": "code",
   "execution_count": 49,
   "metadata": {},
   "outputs": [],
   "source": [
    "PerCorrtop100 = pkl.load(open('../data/percorr_lhtop100_vectors.pkl', 'rb'))"
   ]
  },
  {
   "cell_type": "code",
   "execution_count": 50,
   "metadata": {},
   "outputs": [],
   "source": [
    "distriopentop100l,distriopentop100h = Get_Users(PerCorrtop100, 'open', ope)\n",
    "\n",
    "distriopentop100l100,distriopentop100h100 = Get_Users_topandbottom(PerCorrtop100, 'open', 100)\n",
    "distriopentop100l250,distriopentop100h250 = Get_Users_topandbottom(PerCorrtop100, 'open', 250)\n",
    "distriopentop100l100,distriopentop100h100 = Get_Users_topandbottom(PerCorrtop100, 'open', 500)\n",
    "\n",
    "districontop100l,districontop100h = Get_Users(PerCorrtop100, 'con', con)\n",
    "\n",
    "districontop100l100,districontop100h100 = Get_Users_topandbottom(PerCorrtop100, 'con', 100)\n",
    "districontop100l250,districontop100h250 = Get_Users_topandbottom(PerCorrtop100, 'con', 250)\n",
    "districontop100l100,districontop100h100 = Get_Users_topandbottom(PerCorrtop100, 'con', 500)\n",
    "\n",
    "distriexttop100l,distriexttop100h = Get_Users(PerCorrtop100, 'ext', ext)\n",
    "\n",
    "distriexttop100l100,distriexttop100h100 = Get_Users_topandbottom(PerCorrtop100, 'ext', 100)\n",
    "distriexttop100l250,distriexttop100h250 = Get_Users_topandbottom(PerCorrtop100, 'ext', 250)\n",
    "distriexttop100l100,distriexttop100h100 = Get_Users_topandbottom(PerCorrtop100, 'ext', 500)\n",
    "\n",
    "distriagrtop100l,distriagrtop100h = Get_Users(PerCorrtop100, 'agr', agr)\n",
    "\n",
    "distriagrtop100l100,distriagrtop100h100 = Get_Users_topandbottom(PerCorrtop100, 'agr', 100)\n",
    "distriagrtop100l250,distriagrtop100h250 = Get_Users_topandbottom(PerCorrtop100, 'agr', 250)\n",
    "distriagrtop100l100,distriagrtop100h100 = Get_Users_topandbottom(PerCorrtop100, 'agr', 500)\n",
    "\n",
    "distrineutop100l,distrineutop100h = Get_Users(PerCorrtop100, 'neu', neu)\n",
    "\n",
    "distrineutop100l100,distrineutop100h100 = Get_Users_topandbottom(PerCorrtop100, 'neu', 100)\n",
    "distrineutop100l250,distrineutop100h250 = Get_Users_topandbottom(PerCorrtop100, 'neu', 252)\n",
    "distrineutop100l100,distrineutop100h100 = Get_Users_topandbottom(PerCorrtop100, 'neu', 500)"
   ]
  },
  {
   "cell_type": "markdown",
   "metadata": {},
   "source": [
    "## PerCorr"
   ]
  },
  {
   "cell_type": "code",
   "execution_count": 51,
   "metadata": {},
   "outputs": [
    {
     "name": "stdout",
     "output_type": "stream",
     "text": [
      "Open 53176.5, 1.5508326203344047e-08(High, 0.0)\n",
      "Con 91552.0, 0.07014908803189521(Low, )\n",
      "Ext 102462.5, 0.10956064501099089(Low, )\n",
      "Agr 81494.0, 0.5991015210469245(Low, )\n",
      "Neu 101353.0, 0.17126446605159373(Low, )\n"
     ]
    }
   ],
   "source": [
    "print(\"Open\",mannwhitneyu_bootstrap(distriopenl, distriopenh, 10000))\n",
    "print(\"Con\", mannwhitneyu_bootstrap(districonl, districonh, 10000))\n",
    "print(\"Ext\", mannwhitneyu_bootstrap(distriextl, distriexth, 10000))\n",
    "print(\"Agr\",mannwhitneyu_bootstrap(distriagrl, distriagrh, 10000))\n",
    "print(\"Neu\",mannwhitneyu_bootstrap(distrineul, distrineuh, 10000))"
   ]
  },
  {
   "cell_type": "code",
   "execution_count": 52,
   "metadata": {},
   "outputs": [
    {
     "name": "stdout",
     "output_type": "stream",
     "text": [
      "Open 51093.0, 7.465516709823209e-08(High, 0.0)\n",
      "Con 89115.5, 0.12021031150190202(Low, )\n",
      "Ext 94339.0, 0.5525810283122056(Low, )\n",
      "Agr 74061.0, 0.24163954277873056(High, )\n",
      "Neu 96866.5, 0.2064925954885467(Low, )\n"
     ]
    }
   ],
   "source": [
    "print(\"Open\",mannwhitneyu_bootstrap(distriopentop500l, distriopentop500h, 10000))\n",
    "print(\"Con\",mannwhitneyu_bootstrap(districontop500l, districontop500h, 10000))\n",
    "print(\"Ext\",mannwhitneyu_bootstrap(distriexttop500l, distriexttop500h, 10000))\n",
    "print(\"Agr\",mannwhitneyu_bootstrap(distriagrtop500l, distriagrtop500h, 10000))\n",
    "print(\"Neu\",mannwhitneyu_bootstrap(distrineutop500l, distrineutop500h, 10000))"
   ]
  },
  {
   "cell_type": "code",
   "execution_count": 53,
   "metadata": {},
   "outputs": [
    {
     "name": "stdout",
     "output_type": "stream",
     "text": [
      "411 449\n"
     ]
    }
   ],
   "source": [
    "print(len(distrineutop500l),len(distrineutop500h))"
   ]
  },
  {
   "cell_type": "code",
   "execution_count": 54,
   "metadata": {},
   "outputs": [
    {
     "name": "stdout",
     "output_type": "stream",
     "text": [
      "Open 48133.5, 0.00014246482241223694(High, 0.0002)\n",
      "Con 73671.5, 0.35841589109608185(Low, )\n",
      "Ext 79562.5, 0.664651544140351(Low, )\n",
      "Agr 62544.5, 0.21080602860331743(High, )\n",
      "Neu 83814.5, 0.15378800114846017(Low, )\n"
     ]
    }
   ],
   "source": [
    "print(\"Open\",mannwhitneyu_bootstrap(distriopentop100l, distriopentop100h, 10000))\n",
    "print(\"Con\",mannwhitneyu_bootstrap(districontop100l, districontop100h, 10000))\n",
    "print(\"Ext\",mannwhitneyu_bootstrap(distriexttop100l, distriexttop100h, 10000))\n",
    "print(\"Agr\",mannwhitneyu_bootstrap(distriagrtop100l, distriagrtop100h, 10000))\n",
    "print(\"Neu\",mannwhitneyu_bootstrap(distrineutop100l, distrineutop100h, 10000))"
   ]
  },
  {
   "cell_type": "markdown",
   "metadata": {},
   "source": [
    "# Top100 PerCorr"
   ]
  },
  {
   "cell_type": "code",
   "execution_count": 55,
   "metadata": {},
   "outputs": [
    {
     "name": "stdout",
     "output_type": "stream",
     "text": [
      "Open 1453.0, 8.95153790096159e-07(High, 0.0)\n",
      "Con 2755.0, 0.35780742953902434(Low, )\n",
      "Ext 3523.0, 0.023727365949972337(Low, 0.0241)\n",
      "Agr 3239.0, 0.07434155530466663(Low, )\n",
      "Neu 3090.0, 0.9481281726734341(Low, )\n"
     ]
    }
   ],
   "source": [
    "print(\"Open\",mannwhitneyu_bootstrap(distriopenl100, distriopenh100, 10000))\n",
    "print(\"Con\", mannwhitneyu_bootstrap(districonl100, districonh100, 10000))\n",
    "print(\"Ext\", mannwhitneyu_bootstrap(distriextl100, distriexth100, 10000))\n",
    "print(\"Agr\",mannwhitneyu_bootstrap(distriagrl100, distriagrh100, 10000))\n",
    "print(\"Neu\",mannwhitneyu_bootstrap(distrineul100, distrineuh100, 10000))"
   ]
  },
  {
   "cell_type": "code",
   "execution_count": 56,
   "metadata": {},
   "outputs": [
    {
     "name": "stdout",
     "output_type": "stream",
     "text": [
      "Open 1916.0, 0.0016576663943876089(High, 0.0014)\n",
      "Con 2920.0, 0.3370396954590996(Low, )\n",
      "Ext 2775.0, 0.5459665602619098(Low, )\n",
      "Agr 2859.0, 0.8493231190482855(Low, )\n",
      "Neu 3141.5, 0.567943614260384(Low, )\n"
     ]
    }
   ],
   "source": [
    "print(\"Open\",mannwhitneyu_bootstrap(distriopentop500l100, distriopentop500h100, 10000))\n",
    "print(\"Con\",mannwhitneyu_bootstrap(districontop500l100, districontop500h100, 10000))\n",
    "print(\"Ext\",mannwhitneyu_bootstrap(distriexttop500l100, distriexttop500h100, 10000))\n",
    "print(\"Agr\",mannwhitneyu_bootstrap(distriagrtop500l100, distriagrtop500h100, 10000))\n",
    "print(\"Neu\",mannwhitneyu_bootstrap(distrineutop500l100, distrineutop500h100, 10000))"
   ]
  },
  {
   "cell_type": "code",
   "execution_count": 57,
   "metadata": {},
   "outputs": [
    {
     "name": "stdout",
     "output_type": "stream",
     "text": [
      "Open 48825.0, 9.351571751438885e-05(High, 0.0)\n",
      "Con 61383.5, 0.31389573592934694(Low, )\n",
      "Ext 60551.5, 0.7070611001596347(Low, )\n",
      "Agr 56085.5, 0.14642273623854876(High, )\n",
      "Neu 62098.0, 0.1462389963768713(Low, )\n"
     ]
    }
   ],
   "source": [
    "print(\"Open\",mannwhitneyu_bootstrap(distriopentop100l100, distriopentop100h100, 10000))\n",
    "print(\"Con\",mannwhitneyu_bootstrap(districontop100l100, districontop100h100, 10000))\n",
    "print(\"Ext\",mannwhitneyu_bootstrap(distriexttop100l100, distriexttop100h100, 10000))\n",
    "print(\"Agr\",mannwhitneyu_bootstrap(distriagrtop100l100, distriagrtop100h100, 10000))\n",
    "print(\"Neu\",mannwhitneyu_bootstrap(distrineutop100l100, distrineutop100h100, 10000))"
   ]
  },
  {
   "cell_type": "markdown",
   "metadata": {},
   "source": [
    "# Top250 PerCorr"
   ]
  },
  {
   "cell_type": "code",
   "execution_count": 58,
   "metadata": {},
   "outputs": [
    {
     "data": {
      "text/plain": [
       "19012.5"
      ]
     },
     "execution_count": 58,
     "metadata": {},
     "output_type": "execute_result"
    }
   ],
   "source": [
    "len(distriextl250)*len(distriextl250)/2"
   ]
  },
  {
   "cell_type": "code",
   "execution_count": 59,
   "metadata": {},
   "outputs": [
    {
     "name": "stdout",
     "output_type": "stream",
     "text": [
      "Open 11855.5, 7.265815667654722e-08(High, 0.0)\n",
      "Con 18634.5, 0.10384201635881665(Low, )\n",
      "Ext 20729.0, 0.015787844438212753(Low, 0.0145)\n",
      "Agr 19348.0, 0.1323809458133555(Low, )\n",
      "Neu 19984.0, 0.600616628752515(Low, )\n"
     ]
    }
   ],
   "source": [
    "print(\"Open\",mannwhitneyu_bootstrap(distriopenl250, distriopenh250, 10000))\n",
    "print(\"Con\", mannwhitneyu_bootstrap(districonl250, districonh250, 10000))\n",
    "print(\"Ext\", mannwhitneyu_bootstrap(distriextl250, distriexth250, 10000))\n",
    "print(\"Agr\",mannwhitneyu_bootstrap(distriagrl250, distriagrh250, 10000))\n",
    "print(\"Neu\",mannwhitneyu_bootstrap(distrineul250, distrineuh250, 10000))"
   ]
  },
  {
   "cell_type": "code",
   "execution_count": 60,
   "metadata": {},
   "outputs": [
    {
     "name": "stdout",
     "output_type": "stream",
     "text": [
      "Open 11627.5, 2.975461739122852e-07(High, 0.0)\n",
      "Con 19141.0, 0.10421946384836514(Low, )\n",
      "Ext 18099.0, 0.17815234393317947(Low, )\n",
      "Agr 17752.5, 0.7256361875099591(High, )\n",
      "Neu 20101.5, 0.27320234352085704(Low, )\n"
     ]
    }
   ],
   "source": [
    "print(\"Open\",mannwhitneyu_bootstrap(distriopentop500l250, distriopentop500h250, 10000))\n",
    "print(\"Con\",mannwhitneyu_bootstrap(districontop500l250, districontop500h250, 10000))\n",
    "print(\"Ext\",mannwhitneyu_bootstrap(distriexttop500l250, distriexttop500h250, 10000))\n",
    "print(\"Agr\",mannwhitneyu_bootstrap(distriagrtop500l250, distriagrtop500h250, 10000))\n",
    "print(\"Neu\",mannwhitneyu_bootstrap(distrineutop500l250, distrineutop500h250, 10000))"
   ]
  },
  {
   "cell_type": "code",
   "execution_count": 61,
   "metadata": {},
   "outputs": [
    {
     "name": "stdout",
     "output_type": "stream",
     "text": [
      "Open 12292.5, 0.0004900600153067865(High, 0.0005)\n",
      "Con 15369.5, 0.5642995637411845(Low, )\n",
      "Ext 14601.0, 0.6088596152962791(Low, )\n",
      "Agr 15049.0, 0.9392116733724621(High, )\n",
      "Neu 17776.5, 0.10065131391747867(Low, )\n"
     ]
    }
   ],
   "source": [
    "print(\"Open\",mannwhitneyu_bootstrap(distriopentop100l250, distriopentop100h250, 10000))\n",
    "print(\"Con\",mannwhitneyu_bootstrap(districontop100l250, districontop100h250, 10000))\n",
    "print(\"Ext\",mannwhitneyu_bootstrap(distriexttop100l250, distriexttop100h250, 10000))\n",
    "print(\"Agr\",mannwhitneyu_bootstrap(distriagrtop100l250, distriagrtop100h250, 10000))\n",
    "print(\"Neu\",mannwhitneyu_bootstrap(distrineutop100l250, distrineutop100h250, 10000))"
   ]
  },
  {
   "cell_type": "markdown",
   "metadata": {},
   "source": [
    "# Top500"
   ]
  },
  {
   "cell_type": "code",
   "execution_count": 62,
   "metadata": {},
   "outputs": [
    {
     "data": {
      "text/plain": [
       "70876.0"
      ]
     },
     "execution_count": 62,
     "metadata": {},
     "output_type": "execute_result"
    }
   ],
   "source": [
    "len(distriopenl500)*len(distriopenh500)/2"
   ]
  },
  {
   "cell_type": "code",
   "execution_count": 63,
   "metadata": {},
   "outputs": [
    {
     "name": "stdout",
     "output_type": "stream",
     "text": [
      "Open 53546.5, 6.372533459450151e-09(High, 0.0)\n",
      "Con 76388.0, 0.07286318119302708(Low, )\n",
      "Ext 79912.0, 0.03063158990335789(Low, 0.031)\n",
      "Agr 73590.0, 0.6923930692842901(Low, )\n",
      "Neu 73664.0, 0.5193072478976553(Low, )\n"
     ]
    }
   ],
   "source": [
    "print(\"Open\",mannwhitneyu_bootstrap(distriopenl500, distriopenh500, 10000))\n",
    "print(\"Con\", mannwhitneyu_bootstrap(districonl500, districonh500, 10000))\n",
    "print(\"Ext\", mannwhitneyu_bootstrap(distriextl500, distriexth500, 10000))\n",
    "print(\"Agr\",mannwhitneyu_bootstrap(distriagrl500, distriagrh500, 10000))\n",
    "print(\"Neu\",mannwhitneyu_bootstrap(distrineul500, distrineuh500, 10000))"
   ]
  },
  {
   "cell_type": "code",
   "execution_count": 64,
   "metadata": {},
   "outputs": [
    {
     "name": "stdout",
     "output_type": "stream",
     "text": [
      "Open 51093.0, 7.465516709823209e-08(High, 0.0)\n",
      "Con 89115.5, 0.12021031150190202(Low, )\n",
      "Ext 94339.0, 0.5525810283122056(Low, )\n",
      "Agr 74061.0, 0.24163954277873056(High, )\n",
      "Neu 96866.5, 0.2064925954885467(Low, )\n"
     ]
    }
   ],
   "source": [
    "print(\"Open\",mannwhitneyu_bootstrap(distriopentop500l, distriopentop500h, 10000))\n",
    "print(\"Con\",mannwhitneyu_bootstrap(districontop500l, districontop500h, 10000))\n",
    "print(\"Ext\",mannwhitneyu_bootstrap(distriexttop500l, distriexttop500h, 10000))\n",
    "print(\"Agr\",mannwhitneyu_bootstrap(distriagrtop500l, distriagrtop500h, 10000))\n",
    "print(\"Neu\",mannwhitneyu_bootstrap(distrineutop500l, distrineutop500h, 10000))"
   ]
  },
  {
   "cell_type": "code",
   "execution_count": 65,
   "metadata": {},
   "outputs": [
    {
     "name": "stdout",
     "output_type": "stream",
     "text": [
      "Open 48825.0, 9.351571751438885e-05(High, 0.0001)\n",
      "Con 61383.5, 0.31389573592934694(Low, )\n",
      "Ext 60551.5, 0.7070611001596347(Low, )\n",
      "Agr 56085.5, 0.14642273623854876(High, )\n",
      "Neu 62098.0, 0.1462389963768713(Low, )\n"
     ]
    }
   ],
   "source": [
    "print(\"Open\",mannwhitneyu_bootstrap(distriopentop100l100, distriopentop100h100, 10000))\n",
    "print(\"Con\",mannwhitneyu_bootstrap(districontop100l100, districontop100h100, 10000))\n",
    "print(\"Ext\",mannwhitneyu_bootstrap(distriexttop100l100, distriexttop100h100, 10000))\n",
    "print(\"Agr\",mannwhitneyu_bootstrap(distriagrtop100l100, distriagrtop100h100, 10000))\n",
    "print(\"Neu\",mannwhitneyu_bootstrap(distrineutop100l100, distrineutop100h100, 10000))"
   ]
  },
  {
   "cell_type": "markdown",
   "metadata": {},
   "source": [
    "# BoxPlots"
   ]
  },
  {
   "cell_type": "code",
   "execution_count": null,
   "metadata": {},
   "outputs": [],
   "source": []
  },
  {
   "cell_type": "code",
   "execution_count": 66,
   "metadata": {},
   "outputs": [
    {
     "data": {
      "text/plain": [
       "[(0.0, 13.0)]"
      ]
     },
     "execution_count": 66,
     "metadata": {},
     "output_type": "execute_result"
    }
   ],
   "source": [
    "import seaborn as sb\n",
    "import pandas as pd\n",
    "\n",
    "df = pd.DataFrame(distriopentop500l250,columns=['low'])\n",
    "\n",
    "df2 = pd.DataFrame(distriopentop500h250, columns=['high'])\n",
    "\n",
    "ax = sb.boxplot(data=[df,df2])\n",
    "ax.set(ylim=(0, 13))"
   ]
  },
  {
   "cell_type": "code",
   "execution_count": 67,
   "metadata": {},
   "outputs": [
    {
     "data": {
      "text/plain": [
       "[(0.0, 12.5)]"
      ]
     },
     "execution_count": 67,
     "metadata": {},
     "output_type": "execute_result"
    },
    {
     "data": {
      "image/png": "[encoded data removed]",
      "text/plain": [
       "<Figure size 432x288 with 1 Axes>"
      ]
     },
     "metadata": {
      "needs_background": "light"
     },
     "output_type": "display_data"
    }
   ],
   "source": [
    "import seaborn as sb\n",
    "import pandas as pd\n",
    "\n",
    "df = pd.DataFrame(distriextl250,columns=['low'])\n",
    "\n",
    "df2 = pd.DataFrame(distriexth250,columns=['high'])\n",
    "\n",
    "ax = sb.boxplot(data=[df,df2])\n",
    "ax.set(ylim=(0, 12.5))"
   ]
  },
  {
   "cell_type": "code",
   "execution_count": 68,
   "metadata": {},
   "outputs": [
    {
     "data": {
      "text/plain": [
       "[(0.0, 10.0)]"
      ]
     },
     "execution_count": 68,
     "metadata": {},
     "output_type": "execute_result"
    },
    {
     "data": {
      "image/png": "[encoded data removed]",
      "text/plain": [
       "<Figure size 432x288 with 1 Axes>"
      ]
     },
     "metadata": {
      "needs_background": "light"
     },
     "output_type": "display_data"
    }
   ],
   "source": [
    "import seaborn as sb\n",
    "import pandas as pd\n",
    "\n",
    "df = pd.DataFrame(distrineutop500l250,columns=['low'])\n",
    "\n",
    "df2 = pd.DataFrame(distrineutop500h250,columns=['high'])\n",
    "\n",
    "ax = sb.boxplot(data=[df,df2])\n",
    "ax.set(ylim=(0, 10))"
   ]
  },
  {
   "cell_type": "markdown",
   "metadata": {},
   "source": [
    "## My Analysis"
   ]
  },
  {
   "cell_type": "code",
   "execution_count": 69,
   "metadata": {},
   "outputs": [
    {
     "data": {
      "text/plain": [
       "'21050.0, 0.012039444303633934(Low, 0.014)'"
      ]
     },
     "execution_count": 69,
     "metadata": {},
     "output_type": "execute_result"
    }
   ],
   "source": [
    "a,b = Get_Users_topandbottom(PerCorrLH, 'ext',  252)\n",
    "mannwhitneyu_bootstrap(a, b, 10000)"
   ]
  },
  {
   "cell_type": "code",
   "execution_count": 70,
   "metadata": {},
   "outputs": [
    {
     "data": {
      "text/plain": [
       "dict_keys(['Total_song_plays', 'Total_unique_songs', 'Ext_song_plays', 'Ext_unique_songs', 'Non_Instr_song_plays', 'Non_Instr_unique_songs', 'Instr_unique_song_plays', 'Instr_unique_songs', 'freq', 'Joy', 'Angry', 'Sad', 'Relaxed', 'open', 'con', 'ext', 'agr', 'neu'])"
      ]
     },
     "execution_count": 70,
     "metadata": {},
     "output_type": "execute_result"
    }
   ],
   "source": [
    "PerCorrLH[0].keys()"
   ]
  },
  {
   "cell_type": "code",
   "execution_count": 71,
   "metadata": {},
   "outputs": [],
   "source": [
    "plays = []\n",
    "for i in range(len(PerCorrLH)):\n",
    "    plays.append(PerCorrLH[i]['Total_song_plays'])"
   ]
  },
  {
   "cell_type": "code",
   "execution_count": 72,
   "metadata": {},
   "outputs": [
    {
     "data": {
      "text/plain": [
       "23600.090476190475"
      ]
     },
     "execution_count": 72,
     "metadata": {},
     "output_type": "execute_result"
    }
   ],
   "source": [
    "np.mean(np.array(plays))"
   ]
  },
  {
   "cell_type": "code",
   "execution_count": 73,
   "metadata": {},
   "outputs": [],
   "source": [
    "unique = []\n",
    "for i in range(len(PerCorrLH)):\n",
    "    unique.append(PerCorrLH[i]['Total_unique_songs'])"
   ]
  },
  {
   "cell_type": "code",
   "execution_count": 74,
   "metadata": {},
   "outputs": [
    {
     "data": {
      "text/plain": [
       "4266.691836734693"
      ]
     },
     "execution_count": 74,
     "metadata": {},
     "output_type": "execute_result"
    }
   ],
   "source": [
    "np.mean(np.array(unique))"
   ]
  },
  {
   "cell_type": "code",
   "execution_count": 75,
   "metadata": {},
   "outputs": [],
   "source": [
    "hitrate = []\n",
    "for i in range(len(PerCorrLH)):\n",
    "    hitrate.append(PerCorrLH[i]['Ext_song_plays']/PerCorrLH[i]['Total_song_plays'])"
   ]
  },
  {
   "cell_type": "code",
   "execution_count": 76,
   "metadata": {},
   "outputs": [
    {
     "data": {
      "text/plain": [
       "0.8587079202950765"
      ]
     },
     "execution_count": 76,
     "metadata": {},
     "output_type": "execute_result"
    }
   ],
   "source": [
    "np.median(np.array(hitrate))"
   ]
  },
  {
   "cell_type": "code",
   "execution_count": 77,
   "metadata": {},
   "outputs": [],
   "source": [
    "uniquei = []\n",
    "for i in range(len(PerCorrLH)):\n",
    "    uniquei.append(PerCorrLH[i]['Instr_unique_song_plays'])"
   ]
  },
  {
   "cell_type": "code",
   "execution_count": 78,
   "metadata": {},
   "outputs": [
    {
     "data": {
      "text/plain": [
       "1091.4210884353743"
      ]
     },
     "execution_count": 78,
     "metadata": {},
     "output_type": "execute_result"
    }
   ],
   "source": [
    "np.mean(np.array(uniquei))"
   ]
  },
  {
   "cell_type": "code",
   "execution_count": 79,
   "metadata": {},
   "outputs": [],
   "source": [
    "instr = []\n",
    "for i in range(len(PerCorrLH)):\n",
    "    instr.append(PerCorrLH[i]['Instr_unique_songs'])"
   ]
  },
  {
   "cell_type": "code",
   "execution_count": 80,
   "metadata": {},
   "outputs": [
    {
     "data": {
      "text/plain": [
       "219.9734693877551"
      ]
     },
     "execution_count": 80,
     "metadata": {},
     "output_type": "execute_result"
    }
   ],
   "source": [
    "np.mean(np.array(instr))"
   ]
  },
  {
   "cell_type": "code",
   "execution_count": 81,
   "metadata": {},
   "outputs": [],
   "source": [
    "(distrineutop500l250).sort()"
   ]
  },
  {
   "cell_type": "code",
   "execution_count": 82,
   "metadata": {},
   "outputs": [
    {
     "data": {
      "text/plain": [
       "2.0029864579578804"
      ]
     },
     "execution_count": 82,
     "metadata": {},
     "output_type": "execute_result"
    }
   ],
   "source": [
    "np.median(distrineutop500l250)"
   ]
  },
  {
   "cell_type": "code",
   "execution_count": 83,
   "metadata": {},
   "outputs": [],
   "source": [
    "(distrineutop500h250).sort()"
   ]
  },
  {
   "cell_type": "code",
   "execution_count": 84,
   "metadata": {},
   "outputs": [
    {
     "data": {
      "text/plain": [
       "1.675468295487672"
      ]
     },
     "execution_count": 84,
     "metadata": {},
     "output_type": "execute_result"
    }
   ],
   "source": [
    "np.median(distrineutop500h250)"
   ]
  },
  {
   "cell_type": "markdown",
   "metadata": {},
   "source": [
    "# mean"
   ]
  },
  {
   "cell_type": "code",
   "execution_count": 85,
   "metadata": {},
   "outputs": [],
   "source": [
    "distrineutop500l250,distrineutop500h250 = Get_Users_topandbottom(PerCorrtop500, 'neu', 275)"
   ]
  },
  {
   "cell_type": "code",
   "execution_count": 86,
   "metadata": {},
   "outputs": [
    {
     "data": {
      "text/plain": [
       "21424.5"
      ]
     },
     "execution_count": 86,
     "metadata": {},
     "output_type": "execute_result"
    }
   ],
   "source": [
    "len(distrineutop500l250)*len(distrineutop500l250)/2"
   ]
  },
  {
   "cell_type": "code",
   "execution_count": 87,
   "metadata": {},
   "outputs": [
    {
     "data": {
      "text/plain": [
       "'24817.5, 0.09040476303912949(Low, )'"
      ]
     },
     "execution_count": 87,
     "metadata": {},
     "output_type": "execute_result"
    }
   ],
   "source": [
    "mannwhitneyu_bootstrap(distrineutop500l250, distrineutop500h250, 10000)"
   ]
  },
  {
   "cell_type": "code",
   "execution_count": 88,
   "metadata": {},
   "outputs": [
    {
     "name": "stdout",
     "output_type": "stream",
     "text": [
      "18099.0, 0.17815234393317947(Low, )\n",
      "18240.0, 0.16524183392326564(Low, )\n",
      "18421.0, 0.14216788803169358(Low, )\n",
      "18551.0, 0.13349858656401312(Low, )\n",
      "18717.0, 0.14158131244653935(Low, )\n",
      "18932.0, 0.13728228991289088(Low, )\n",
      "18958.0, 0.15738163318315512(Low, )\n",
      "19105.0, 0.14489874996835764(Low, )\n",
      "19231.0, 0.16526400531121466(Low, )\n",
      "19355.0, 0.15887103314719986(Low, )\n",
      "19590.0, 0.14978634469955837(Low, )\n",
      "19822.0, 0.142249646000729(Low, )\n",
      "20004.0, 0.14781827885852183(Low, )\n",
      "20059.0, 0.19000589025614412(Low, )\n",
      "20104.0, 0.243629459551285(Low, )\n",
      "20407.0, 0.20965612584063176(Low, )\n",
      "20531.0, 0.20319479402007867(Low, )\n",
      "20753.0, 0.19847743102503246(Low, )\n",
      "20847.0, 0.2012697990087151(Low, )\n",
      "21116.0, 0.1831642327286851(Low, )\n",
      "21216.0, 0.1842313594126297(Low, )\n",
      "21216.0, 0.1842313594126297(Low, )\n",
      "21306.0, 0.18896447222600843(Low, )\n",
      "21327.0, 0.2151056458694074(Low, )\n",
      "21440.0, 0.24792590754101151(Low, )\n",
      "21575.0, 0.27555860738827953(Low, )\n",
      "21840.0, 0.25604616929052904(Low, )\n",
      "22061.5, 0.253029512330187(Low, )\n",
      "22126.0, 0.26777850568999384(Low, )\n",
      "22157.0, 0.29654901401337364(Low, )\n",
      "22222.0, 0.31328575909214407(Low, )\n",
      "22523.0, 0.28011553134963496(Low, )\n",
      "22793.0, 0.26082535772434745(Low, )\n",
      "22917.0, 0.25529119958732827(Low, )\n",
      "23074.0, 0.23947362918984705(Low, )\n",
      "23206.0, 0.23198600176247808(Low, )\n",
      "23379.0, 0.21229218671494798(Low, )\n",
      "23434.0, 0.22934525084750168(Low, )\n",
      "23451.5, 0.2986789070263244(Low, )\n",
      "23451.5, 0.2986789070263244(Low, )\n",
      "23676.5, 0.2969253557122129(Low, )\n",
      "23870.5, 0.30702815157651697(Low, )\n",
      "23944.5, 0.3653216658152554(Low, )\n",
      "24118.5, 0.3855088999975331(Low, )\n",
      "24327.5, 0.39137967974755616(Low, )\n",
      "24327.5, 0.39137967974755616(Low, )\n",
      "24506.5, 0.41064210487730446(Low, )\n",
      "24701.5, 0.3751183214331595(Low, )\n",
      "24893.5, 0.34294495553970994(Low, )\n",
      "25070.5, 0.3624038076727639(Low, )\n",
      "25401.5, 0.3227287803332094(Low, )\n",
      "25506.5, 0.32565639986878014(Low, )\n",
      "25841.5, 0.28844746495371243(Low, )\n",
      "26024.5, 0.30494605060089575(Low, )\n",
      "26175.5, 0.33382144849814(Low, )\n",
      "26304.5, 0.3729318303791732(Low, )\n",
      "26507.5, 0.38458891855609234(Low, )\n",
      "26544.5, 0.4174181087623936(Low, )\n",
      "26740.5, 0.4330358236711783(Low, )\n",
      "26872.5, 0.4261761255315767(Low, )\n",
      "27128.5, 0.41748927614618514(Low, )\n",
      "27287.5, 0.44941142867877804(Low, )\n",
      "27358.5, 0.47015289244052216(Low, )\n",
      "27480.5, 0.4690217670700785(Low, )\n",
      "27674.5, 0.48772393887601184(Low, )\n",
      "28075.5, 0.419756514479531(Low, )\n",
      "28102.5, 0.45717353334447597(Low, )\n",
      "28441.5, 0.417108871273169(Low, )\n",
      "28543.5, 0.42392030867247044(Low, )\n",
      "28800.5, 0.41803937846404293(Low, )\n",
      "28800.5, 0.41803937846404293(Low, )\n",
      "28822.5, 0.45711050323634306(Low, )\n",
      "29129.5, 0.43146763039171987(Low, )\n",
      "29328.5, 0.44946352706112713(Low, )\n",
      "29482.5, 0.48659135630614025(Low, )\n",
      "29773.5, 0.4680061426912606(Low, )\n",
      "29947.5, 0.49783843828687524(Low, )\n",
      "30180.5, 0.5038321558309244(Low, )\n",
      "30510.5, 0.4706763569947028(Low, )\n",
      "30605.5, 0.5342006754314392(Low, )\n",
      "30894.5, 0.5178862990666413(Low, )\n",
      "31095.5, 0.5387764909784996(Low, )\n",
      "31336.5, 0.4908633926408772(Low, )\n",
      "31632.5, 0.47401053940478366(Low, )\n",
      "31912.5, 0.46416105559900356(Low, )\n",
      "31912.5, 0.46416105559900356(Low, )\n",
      "32070.5, 0.5020734654650729(Low, )\n",
      "32120.0, 0.5868740187506094(Low, )\n",
      "32428.0, 0.564938841384846(Low, )\n",
      "32561.0, 0.5621467791151145(Low, )\n",
      "32561.0, 0.5621467791151145(Low, )\n",
      "32570.5, 0.6113118433540232(Low, )\n",
      "32753.5, 0.5871182105246875(Low, )\n",
      "32793.5, 0.6236846335732757(Low, )\n",
      "32905.5, 0.6875614555084137(Low, )\n",
      "33046.5, 0.7402169412158461(Low, )\n",
      "33202.5, 0.7294450537626178(Low, )\n",
      "33487.0, 0.7182252852843619(Low, )\n",
      "33657.0, 0.7587001243854052(Low, )\n",
      "33727.0, 0.7871949736095174(Low, )\n",
      "33970.0, 0.7355111821886904(Low, )\n",
      "34091.0, 0.7986942020669197(Low, )\n",
      "34363.0, 0.7944338874868727(Low, )\n",
      "34415.0, 0.8901827762489262(Low, )\n",
      "34554.0, 0.8854737471923951(Low, )\n",
      "34800.0, 0.893606514073679(Low, )\n",
      "35033.0, 0.9079891685767515(Low, )\n",
      "35275.0, 0.9186355597503614(Low, )\n",
      "35538.0, 0.8618551314120944(Low, )\n",
      "35576.0, 0.9643179115392022(Low, )\n",
      "35791.0, 0.987722676790092(Low, )\n",
      "35906.0, 0.9973288012940893(Low, )\n",
      "36347.0, 0.9211023303799429(Low, )\n",
      "36432.0, 0.9441982665611358(Low, )\n",
      "36571.0, 0.9984633785583529(High, )\n",
      "36758.0, 0.9783298444868676(Low, )\n",
      "36990.0, 0.9956457961098356(Low, )\n",
      "36990.0, 0.9956457961098356(Low, )\n",
      "37166.0, 0.9793772812229775(Low, )\n",
      "37389.0, 0.9993522523194652(High, )\n",
      "37704.0, 0.9834664163606823(Low, )\n",
      "38191.0, 0.8933216466075714(Low, )\n",
      "38456.0, 0.8985298238839458(Low, )\n",
      "38717.0, 0.9057846628085855(Low, )\n",
      "38902.0, 0.9451997346897928(Low, )\n",
      "39037.0, 0.9480663955289425(Low, )\n",
      "39164.0, 0.9525846068533788(Low, )\n",
      "39431.0, 0.9582342184835869(Low, )\n",
      "39870.0, 0.8934146082994412(Low, )\n",
      "40060.0, 0.8745194182507992(Low, )\n",
      "40371.0, 0.8636429474338908(Low, )\n",
      "40483.0, 0.9337595716172757(Low, )\n",
      "41003.0, 0.8395265607468746(Low, )\n",
      "41133.0, 0.8441059114919839(Low, )\n",
      "41526.0, 0.8028727842738924(Low, )\n",
      "41715.0, 0.7847343570230586(Low, )\n",
      "42121.5, 0.7403851573344269(Low, )\n",
      "42434.5, 0.7324762225807682(Low, )\n",
      "42768.0, 0.7174425659218682(Low, )\n",
      "42768.0, 0.7174425659218682(Low, )\n",
      "42803.0, 0.75823320548541(Low, )\n",
      "43103.0, 0.7560693858765826(Low, )\n",
      "43368.0, 0.7136197625104914(Low, )\n",
      "43533.0, 0.7619773581149392(Low, )\n",
      "43561.0, 0.807856742599463(Low, )\n",
      "43964.0, 0.7681823761621906(Low, )\n",
      "44053.0, 0.7911893551351429(Low, )\n",
      "44302.0, 0.8094982952508769(Low, )\n",
      "44556.0, 0.8262371369900376(Low, )\n",
      "44782.0, 0.8536987543237565(Low, )\n",
      "44924.0, 0.855920946737702(Low, )\n",
      "45203.0, 0.8075233225637704(Low, )\n",
      "45442.0, 0.8306243253691403(Low, )\n",
      "45794.0, 0.8126729167630469(Low, )\n",
      "46091.0, 0.8152147123669065(Low, )\n",
      "46559.0, 0.7570416135980235(Low, )\n",
      "47116.5, 0.6707163882676983(Low, )\n",
      "47406.5, 0.6771089460585333(Low, )\n",
      "47721.5, 0.6754229819950885(Low, )\n",
      "48021.5, 0.6790831466092602(Low, )\n",
      "48338.5, 0.6774069129035922(Low, )\n",
      "48790.5, 0.6321770255450196(Low, )\n",
      "49065.5, 0.5957316532366504(Low, )\n",
      "49112.5, 0.6312866335740762(Low, )\n",
      "49587.5, 0.5816129606332264(Low, )\n",
      "49972.5, 0.5612179879189338(Low, )\n",
      "50435.5, 0.5190660516530543(Low, )\n",
      "50886.0, 0.4826836588494646(Low, )\n",
      "50898.5, 0.5236090141711176(Low, )\n",
      "51079.5, 0.5644646229212977(Low, )\n",
      "51457.5, 0.5482053847564068(Low, )\n",
      "51739.5, 0.5602493477271917(Low, )\n",
      "52213.5, 0.5176787921382714(Low, )\n",
      "52230.5, 0.559688884889682(Low, )\n",
      "52639.5, 0.5360158792645311(Low, )\n",
      "52788.5, 0.5394968198795296(Low, )\n",
      "52788.5, 0.5394968198795296(Low, )\n",
      "52895.5, 0.5548926160388019(Low, )\n",
      "52902.5, 0.6011123451109858(Low, )\n",
      "53205.5, 0.5600120792204197(Low, )\n",
      "53271.5, 0.5875569871867791(Low, )\n",
      "53298.5, 0.6288634368394737(Low, )\n",
      "53821.5, 0.5721815199532219(Low, )\n",
      "53896.5, 0.6469671425845228(Low, )\n",
      "54014.5, 0.6603530808709035(Low, )\n",
      "54094.5, 0.6870650530710399(Low, )\n",
      "54402.5, 0.6940719842603784(Low, )\n",
      "54856.5, 0.6572781967833381(Low, )\n",
      "55166.5, 0.614445683291355(Low, )\n",
      "55420.5, 0.5903900095467134(Low, )\n",
      "55736.5, 0.5958950835563092(Low, )\n",
      "55983.5, 0.6213314817597422(Low, )\n",
      "55983.5, 0.6213314817597422(Low, )\n",
      "56310.5, 0.6241954776505787(Low, )\n",
      "56392.5, 0.6499228758197899(Low, )\n",
      "56767.5, 0.6392748135997428(Low, )\n",
      "57201.5, 0.6124136505202946(Low, )\n",
      "57214.5, 0.7068511239094132(Low, )\n",
      "57649.5, 0.6791090750676585(Low, )\n",
      "57961.5, 0.6877057095187744(Low, )\n",
      "58315.5, 0.6843895299262888(Low, )\n",
      "58818.5, 0.6391609230459914(Low, )\n",
      "59334.5, 0.5923815841854411(Low, )\n",
      "59665.5, 0.5966952742577264(Low, )\n",
      "59915.5, 0.5769842600187317(Low, )\n",
      "60102.5, 0.5730693647298062(Low, )\n",
      "60685.5, 0.5135156919479411(Low, )\n",
      "61097.5, 0.4986805844703981(Low, )\n",
      "61345.5, 0.4819524182836057(Low, )\n",
      "61783.5, 0.462152756023712(Low, )\n",
      "62298.5, 0.42606066411554666(Low, )\n",
      "62948.5, 0.3646171271911387(Low, )\n",
      "63199.5, 0.3500990803387314(Low, )\n",
      "63212.5, 0.38282170699954077(Low, )\n",
      "63518.5, 0.35701462153360974(Low, )\n",
      "63975.5, 0.33854021761105557(Low, )\n",
      "64444.5, 0.3188553423818631(Low, )\n",
      "64849.5, 0.3114512376588763(Low, )\n",
      "64852.5, 0.3446388799036286(Low, )\n",
      "65049.5, 0.342291328597902(Low, )\n",
      "65527.5, 0.32162853678518977(Low, )\n",
      "66117.5, 0.2833721644795275(Low, )\n",
      "66368.5, 0.3029755824758925(Low, )\n",
      "66534.5, 0.30569372306450937(Low, )\n",
      "66534.5, 0.30569372306450937(Low, )\n",
      "66534.5, 0.30569372306450937(Low, )\n",
      "66843.5, 0.28446294739588174(Low, )\n",
      "67066.5, 0.2787710268330478(Low, )\n",
      "67269.5, 0.27553698112975455(Low, )\n",
      "67444.5, 0.30784163638095685(Low, )\n",
      "67732.5, 0.2903066873737197(Low, )\n",
      "68062.5, 0.26699621949741204(Low, )\n",
      "68185.5, 0.27639535764813206(Low, )\n"
     ]
    },
    {
     "name": "stdout",
     "output_type": "stream",
     "text": [
      "68370.5, 0.27612070310569936(Low, )\n",
      "68554.5, 0.27720847881304644(Low, )\n",
      "68637.5, 0.2933196380480221(Low, )\n",
      "69153.5, 0.27107461675242883(Low, )\n",
      "69153.5, 0.27107461675242883(Low, )\n",
      "69213.5, 0.2918623364764821(Low, )\n",
      "69642.5, 0.28355647295447917(Low, )\n",
      "70039.5, 0.28058930082585387(Low, )\n",
      "70611.5, 0.25172945110418776(Low, )\n",
      "70633.5, 0.2772818088954496(Low, )\n",
      "71106.5, 0.26340868474046697(Low, )\n",
      "71478.5, 0.26490704244301755(Low, )\n",
      "71489.5, 0.29294154181107324(Low, )\n",
      "71754.5, 0.3118761224542398(Low, )\n",
      "72315.5, 0.28377109933737665(Low, )\n",
      "72912.5, 0.2526721847541836(Low, )\n",
      "73041.5, 0.2907263505207377(Low, )\n"
     ]
    }
   ],
   "source": [
    "for i in range(250,500):\n",
    "    distriexttopl250,distriexttoph250 = Get_Users_topandbottom(PerCorrtop500, 'ext', i)\n",
    "    a = mannwhitneyu_bootstrap(distriexttopl250, distriexttoph250, 10000)\n",
    "    print(a)"
   ]
  },
  {
   "cell_type": "code",
   "execution_count": 89,
   "metadata": {},
   "outputs": [
    {
     "name": "stdout",
     "output_type": "stream",
     "text": [
      "274\n",
      "275\n",
      "299\n"
     ]
    }
   ],
   "source": [
    "for i in range(274,500):\n",
    "    distrineutop500l250,distrineutop500h250 = Get_Users_topandbottom(PerCorrtop500, 'neu', i)\n",
    "    a = mannwhitneyu_bootstrap(distrineutop500l250, distrineutop500h250, 10000)\n",
    "    if (a.split(',')[1].strip()[2]) == '0':\n",
    "        print(i)"
   ]
  },
  {
   "cell_type": "code",
   "execution_count": 90,
   "metadata": {},
   "outputs": [
    {
     "name": "stdout",
     "output_type": "stream",
     "text": [
      "Neu 71801.5, 0.35779932054266084(Low, )\n"
     ]
    }
   ],
   "source": [
    "print(\"Neu\",mannwhitneyu_bootstrap(distrineutop500l250, distrineutop500h250, 10000))"
   ]
  },
  {
   "cell_type": "code",
   "execution_count": 91,
   "metadata": {},
   "outputs": [
    {
     "name": "stdout",
     "output_type": "stream",
     "text": [
      "4.037945633781069 3.8767563737638038\n",
      "4.11662262333731 3.788061465752265\n"
     ]
    }
   ],
   "source": [
    "distrineul100,distrineuh100 = Get_Users_topandbottom(PerCorrLH, 'neu', 100)\n",
    "distrineul250,distrineuh250 = Get_Users_topandbottom(PerCorrLH, 'neu', 250)\n",
    "\n",
    "print(mean(distrineul100), mean(distrineuh100))\n",
    "print(mean(distrineul250), mean(distrineuh250))"
   ]
  },
  {
   "cell_type": "code",
   "execution_count": 92,
   "metadata": {},
   "outputs": [
    {
     "name": "stdout",
     "output_type": "stream",
     "text": [
      "4.672786672400843 4.120126885801317\n"
     ]
    }
   ],
   "source": [
    "distriagrl,distriagrh = Get_Users(PerCorrLH, 'neu', neu)\n",
    "\n",
    "print(mean(distriagrl), mean(distriagrh))"
   ]
  },
  {
   "cell_type": "code",
   "execution_count": 93,
   "metadata": {},
   "outputs": [
    {
     "data": {
      "text/plain": [
       "{'Total_song_plays': 6,\n",
       " 'Total_unique_songs': 6,\n",
       " 'Ext_song_plays': 6,\n",
       " 'Ext_unique_songs': 6,\n",
       " 'Non_Instr_song_plays': 6,\n",
       " 'Non_Instr_unique_songs': 6,\n",
       " 'Instr_unique_song_plays': 0,\n",
       " 'Instr_unique_songs': 0,\n",
       " 'freq': [1, 1, 1, 1, 1, 1],\n",
       " 'song': [2, 2, 2, 2, 2, 2],\n",
       " 'Joy': -0.4227942315240701,\n",
       " 'Angry': -0.2609129746754964,\n",
       " 'Sad': 1.5501137971878052,\n",
       " 'Relaxed': -0.31631347474952537,\n",
       " 'open': 5.0,\n",
       " 'con': 1.0,\n",
       " 'ext': 4.75,\n",
       " 'agr': 2.5,\n",
       " 'neu': 4.0}"
      ]
     },
     "execution_count": 93,
     "metadata": {},
     "output_type": "execute_result"
    }
   ],
   "source": [
    "PerCorrtop100[0]"
   ]
  }
 ],
 "metadata": {
  "kernelspec": {
   "display_name": "Python 3",
   "language": "python",
   "name": "python3"
  },
  "language_info": {
   "codemirror_mode": {
    "name": "ipython",
    "version": 3
   },
   "file_extension": ".py",
   "mimetype": "text/x-python",
   "name": "python",
   "nbconvert_exporter": "python",
   "pygments_lexer": "ipython3",
   "version": "3.7.3"
  }
 },
 "nbformat": 4,
 "nbformat_minor": 2
}
