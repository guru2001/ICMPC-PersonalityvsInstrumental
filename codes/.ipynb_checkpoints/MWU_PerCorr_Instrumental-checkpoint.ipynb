{
 "cells": [
  {
   "cell_type": "code",
   "execution_count": 1,
   "metadata": {},
   "outputs": [],
   "source": [
    "from scipy import stats\n",
    "import pickle as pkl"
   ]
  },
  {
   "cell_type": "code",
   "execution_count": null,
   "metadata": {},
   "outputs": [],
   "source": [
    "from sklearn.utils import resample"
   ]
  },
  {
   "cell_type": "code",
   "execution_count": null,
   "metadata": {},
   "outputs": [],
   "source": [
    "from scipy import stats\n",
    "import numpy as np\n",
    "from statistics import mean, median"
   ]
  },
  {
   "cell_type": "code",
   "execution_count": null,
   "metadata": {},
   "outputs": [],
   "source": [
    "def ranksumdiff(a,b):\n",
    "\ttotalpoints = []\n",
    "\tfor i in a:\n",
    "\t\ttotalpoints.append(i)\n",
    "\tfor i in b:\n",
    "\t\ttotalpoints.append(i)\n",
    "\n",
    "\ttotalpoints.sort()\n",
    "\trank_points = {}\n",
    "\tc = 1\n",
    "\tfor i in totalpoints:\n",
    "\t\tif(i not in rank_points):\n",
    "\t\t\trank_points[i] = []\n",
    "\t\trank_points[i].append(c)\n",
    "\t\tc+=1\n",
    "\trank_value = {}\n",
    "\tfor i in rank_points:\n",
    "\t\trank_value[i] = mean(rank_points[i])\n",
    "\tars = []\n",
    "\tbrs = []\n",
    "\n",
    "\tfor i in a:\n",
    "\t\tars.append(rank_value[i])\n",
    "\n",
    "\tfor i in b:\n",
    "\t\tbrs.append(rank_value[i])\n",
    "\n",
    "\treturn mean(ars) - mean(brs)\n",
    "\n",
    "def bootstrap(a, b, u0, iterations):\n",
    "\tn_iter = iterations\n",
    "\tm = len(a)\n",
    "\tn = len(b)\n",
    "\tcentreu = (m*n)/2\n",
    "\ttotallist = []\n",
    "\tfor i in a:\n",
    "\t\ttotallist.append(i)\n",
    "\tfor i in b:\n",
    "\t\ttotallist.append(i)\n",
    "\tcount = 0\n",
    "\ttotallist = np.asarray(totallist)\n",
    "\tfor i in range(n_iter):\n",
    "\t\tsample = np.random.choice(totallist, m+n, replace=True)\n",
    "\t\tsamplea = sample[:m]\n",
    "\t\tsampleb = sample[m:]\n",
    "\t\tu,p = stats.mannwhitneyu(samplea, sampleb, alternative='two-sided')\n",
    "\t\tif(abs(u-centreu)>=abs(u0-centreu)):\n",
    "\t\t\tcount+=1\n",
    "\treturn count/n_iter\n",
    "\n",
    "def mannwhitneyu_bootstrap(low, high, iterations):\n",
    "\tu,p = stats.mannwhitneyu(low, high, alternative='two-sided')\n",
    "\tif ranksumdiff(low, high)>0:\n",
    "\t\tdom = \"Low\"\n",
    "\telse:\n",
    "\t\tdom = \"High\"\n",
    "\tbpval = ''\n",
    "\tif(p<0.05):\n",
    "\t\tbpval = bootstrap(low, high, u, iterations)\n",
    "\treturn str(u)+\", \"+str(p)+\"(\"+dom+\", \"+str(bpval)+\")\""
   ]
  },
  {
   "cell_type": "code",
   "execution_count": null,
   "metadata": {},
   "outputs": [],
   "source": [
    "def mann_whitney_u_test(distribution_1, distribution_2):\n",
    "    \"\"\"\n",
    "    Perform the Mann-Whitney U Test, comparing two different distributions.\n",
    "    Args:\n",
    "       distribution_1: List. \n",
    "       distribution_2: List.\n",
    "    Outputs:\n",
    "        u_statistic: Float. U statisitic for the test.\n",
    "        p_value: Float.\n",
    "    \"\"\"\n",
    "    u_statistic, p_value = stats.mannwhitneyu(distribution_1, distribution_2, alternative='two-sided')\n",
    "    \n",
    "    return (u_statistic, p_value)\n"
   ]
  },
  {
   "cell_type": "code",
   "execution_count": null,
   "metadata": {},
   "outputs": [],
   "source": [
    "import numpy as np\n",
    "def median(x):\n",
    "    return np.median(np.array(x))\n"
   ]
  },
  {
   "cell_type": "code",
   "execution_count": null,
   "metadata": {},
   "outputs": [],
   "source": [
    "def Get_Users_topandbottom(dataset, pers, num):\n",
    "    distril = []\n",
    "    distrih = [] \n",
    "\n",
    "    temp1 = {}\n",
    "    temp2 = {}\n",
    "    for i in dataset:\n",
    "        temp1[i] = dataset[i][pers]\n",
    "        temp2[i] = dataset[i][pers]\n",
    "\n",
    "    temp1 = dict(sorted(temp1.items(), key=lambda item: item[1], reverse=False))\n",
    "    temp2 = dict(sorted(temp2.items(), key=lambda item: item[1], reverse=True))\n",
    "\n",
    "    t = 0\n",
    "    b = 0\n",
    "    for i in temp1:\n",
    "        if dataset[i]['Ext_song_plays'] >= th_songs and dataset[i]['Ext_song_plays']/dataset[i]['Total_song_plays'] >= th_hitrate:\n",
    "            distril.append(dataset[i]['Instr_unique_song_plays']/dataset[i]['Ext_song_plays'] * 100)\n",
    "        t += 1\n",
    "\n",
    "        if t == num:\n",
    "            break\n",
    "    \n",
    "    for i in temp2:\n",
    "        if dataset[i]['Ext_song_plays'] >= th_songs and dataset[i]['Ext_song_plays']/dataset[i]['Total_song_plays'] >= th_hitrate:\n",
    "            distrih.append(dataset[i]['Instr_unique_song_plays']/dataset[i]['Ext_song_plays'] * 100)\n",
    "        b += 1\n",
    "\n",
    "        if b == num:\n",
    "            break\n",
    "    return distril, distrih\n"
   ]
  },
  {
   "cell_type": "code",
   "execution_count": null,
   "metadata": {},
   "outputs": [],
   "source": [
    "def Get_Users(dataset, pers, med):\n",
    "    distril = []\n",
    "    distrih = [] \n",
    "\n",
    "    for i in range(len(dataset)):\n",
    "        if dataset[i][pers] <= median(med) - th_median and dataset[i]['Ext_song_plays'] >= th_songs\\\n",
    "        and dataset[i]['Ext_song_plays']/dataset[i]['Total_song_plays'] >= th_hitrate:\n",
    "            distril.append(dataset[i]['Instr_unique_song_plays']/dataset[i]['Ext_song_plays'] * 100)\n",
    "            \n",
    "        if dataset[i][pers] >= median(med) + th_median and dataset[i]['Ext_song_plays'] >= th_songs \\\n",
    "         and dataset[i]['Ext_song_plays']/dataset[i]['Total_song_plays'] >= th_hitrate:\n",
    "            distrih.append(dataset[i]['Instr_unique_song_plays']/dataset[i]['Ext_song_plays'] * 100)\n",
    "    \n",
    "    return distril, distrih"
   ]
  },
  {
   "cell_type": "code",
   "execution_count": null,
   "metadata": {},
   "outputs": [],
   "source": [
    "PerCorrLH = pkl.load(open('../data/percorr_lh_vectors.pkl', 'rb'))"
   ]
  },
  {
   "cell_type": "code",
   "execution_count": null,
   "metadata": {},
   "outputs": [],
   "source": [
    "# PerCorrLH[3]"
   ]
  },
  {
   "cell_type": "code",
   "execution_count": null,
   "metadata": {},
   "outputs": [],
   "source": [
    "PerCorrLH[0].items()"
   ]
  },
  {
   "cell_type": "markdown",
   "metadata": {},
   "source": [
    "# General Parameters"
   ]
  },
  {
   "cell_type": "code",
   "execution_count": null,
   "metadata": {},
   "outputs": [],
   "source": [
    "hitrate = []\n",
    "for i in range(len(PerCorrLH)):\n",
    "    hitrate.append(PerCorrLH[i]['Ext_song_plays']/PerCorrLH[i]['Total_song_plays'])"
   ]
  },
  {
   "cell_type": "code",
   "execution_count": null,
   "metadata": {},
   "outputs": [],
   "source": [
    "np.mean(np.array(hitrate))"
   ]
  },
  {
   "cell_type": "code",
   "execution_count": null,
   "metadata": {},
   "outputs": [],
   "source": [
    "th_median = 0.25\n",
    "th_songs = 100\n",
    "th_hitrate = 0.7"
   ]
  },
  {
   "cell_type": "code",
   "execution_count": null,
   "metadata": {},
   "outputs": [],
   "source": [
    "ope = []\n",
    "for i in range(len(PerCorrLH)):\n",
    "    ope.append(PerCorrLH[i]['open'])\n",
    "median(ope)"
   ]
  },
  {
   "cell_type": "code",
   "execution_count": null,
   "metadata": {},
   "outputs": [],
   "source": [
    "distriopenl,distriopenh = Get_Users(PerCorrLH, 'open', ope)"
   ]
  },
  {
   "cell_type": "code",
   "execution_count": null,
   "metadata": {},
   "outputs": [],
   "source": [
    "distriopenl100,distriopenh100 = Get_Users_topandbottom(PerCorrLH, 'open', 100)"
   ]
  },
  {
   "cell_type": "code",
   "execution_count": null,
   "metadata": {},
   "outputs": [],
   "source": [
    "distriopenl250,distriopenh250 = Get_Users_topandbottom(PerCorrLH, 'open', 250)"
   ]
  },
  {
   "cell_type": "code",
   "execution_count": null,
   "metadata": {},
   "outputs": [],
   "source": [
    "distriopenl500,distriopenh500 = Get_Users_topandbottom(PerCorrLH, 'open', 500)"
   ]
  },
  {
   "cell_type": "code",
   "execution_count": null,
   "metadata": {},
   "outputs": [],
   "source": [
    "con = []\n",
    "for i in range(len(PerCorrLH)):\n",
    "    con.append(PerCorrLH[i]['con'])\n",
    "median(con)"
   ]
  },
  {
   "cell_type": "code",
   "execution_count": null,
   "metadata": {},
   "outputs": [],
   "source": [
    "districonl,districonh = Get_Users(PerCorrLH, 'con', con)"
   ]
  },
  {
   "cell_type": "code",
   "execution_count": null,
   "metadata": {},
   "outputs": [],
   "source": [
    "districonl100,districonh100 = Get_Users_topandbottom(PerCorrLH, 'con', 100)"
   ]
  },
  {
   "cell_type": "code",
   "execution_count": null,
   "metadata": {},
   "outputs": [],
   "source": [
    "districonl250,districonh250 = Get_Users_topandbottom(PerCorrLH, 'con', 250)"
   ]
  },
  {
   "cell_type": "code",
   "execution_count": null,
   "metadata": {},
   "outputs": [],
   "source": [
    "districonl500,districonh500 = Get_Users_topandbottom(PerCorrLH, 'con', 500)"
   ]
  },
  {
   "cell_type": "code",
   "execution_count": null,
   "metadata": {},
   "outputs": [],
   "source": [
    "ext = []\n",
    "for i in range(len(PerCorrLH)):\n",
    "    ext.append(PerCorrLH[i]['ext'])\n"
   ]
  },
  {
   "cell_type": "code",
   "execution_count": null,
   "metadata": {},
   "outputs": [],
   "source": [
    "median(ext)"
   ]
  },
  {
   "cell_type": "code",
   "execution_count": null,
   "metadata": {},
   "outputs": [],
   "source": [
    "distriextl,distriexth = Get_Users(PerCorrLH, 'ext', ext)"
   ]
  },
  {
   "cell_type": "code",
   "execution_count": null,
   "metadata": {},
   "outputs": [],
   "source": [
    "distriextl100,distriexth100 = Get_Users_topandbottom(PerCorrLH, 'ext', 100)\n",
    "distriextl250,distriexth250 = Get_Users_topandbottom(PerCorrLH, 'ext', 250)\n",
    "distriextl500,distriexth500 = Get_Users_topandbottom(PerCorrLH, 'ext', 500)"
   ]
  },
  {
   "cell_type": "code",
   "execution_count": null,
   "metadata": {},
   "outputs": [],
   "source": [
    "agr = []\n",
    "for i in range(len(PerCorrLH)):\n",
    "    agr.append(PerCorrLH[i]['agr'])\n",
    "median(agr)"
   ]
  },
  {
   "cell_type": "code",
   "execution_count": null,
   "metadata": {},
   "outputs": [],
   "source": [
    "distriagrl,distriagrh = Get_Users(PerCorrLH, 'agr', agr)"
   ]
  },
  {
   "cell_type": "code",
   "execution_count": null,
   "metadata": {},
   "outputs": [],
   "source": [
    "distriagrl100,distriagrh100 = Get_Users_topandbottom(PerCorrLH, 'agr', 100)\n",
    "distriagrl250,distriagrh250 = Get_Users_topandbottom(PerCorrLH, 'agr', 250)\n",
    "distriagrl500,distriagrh500 = Get_Users_topandbottom(PerCorrLH, 'agr', 500)"
   ]
  },
  {
   "cell_type": "code",
   "execution_count": null,
   "metadata": {},
   "outputs": [],
   "source": [
    "neu = []\n",
    "for i in range(len(PerCorrLH)):\n",
    "    neu.append(PerCorrLH[i]['neu'])\n",
    "median(neu)"
   ]
  },
  {
   "cell_type": "code",
   "execution_count": null,
   "metadata": {},
   "outputs": [],
   "source": [
    "distrineul,distrineuh = Get_Users(PerCorrLH, 'neu', neu)"
   ]
  },
  {
   "cell_type": "code",
   "execution_count": null,
   "metadata": {},
   "outputs": [],
   "source": [
    "distrineul100,distrineuh100 = Get_Users_topandbottom(PerCorrLH, 'neu', 100)\n",
    "distrineul250,distrineuh250 = Get_Users_topandbottom(PerCorrLH, 'neu', 252)\n",
    "distrineul500,distrineuh500 = Get_Users_topandbottom(PerCorrLH, 'neu', 500)"
   ]
  },
  {
   "cell_type": "markdown",
   "metadata": {},
   "source": [
    "# Top500 Listening History"
   ]
  },
  {
   "cell_type": "code",
   "execution_count": null,
   "metadata": {},
   "outputs": [],
   "source": [
    "PerCorrtop500 = pkl.load(open('../data/percorr_lhtop500_vectors.pkl', 'rb'))"
   ]
  },
  {
   "cell_type": "code",
   "execution_count": null,
   "metadata": {},
   "outputs": [],
   "source": [
    "hitratetop500 = []\n",
    "for i in range(len(PerCorrtop500)):\n",
    "    hitratetop500.append(PerCorrtop500[i]['Ext_song_plays']/PerCorrtop500[i]['Total_song_plays'])"
   ]
  },
  {
   "cell_type": "code",
   "execution_count": null,
   "metadata": {},
   "outputs": [],
   "source": [
    "np.mean(np.array(hitratetop500))"
   ]
  },
  {
   "cell_type": "markdown",
   "metadata": {},
   "source": [
    "# General Params"
   ]
  },
  {
   "cell_type": "code",
   "execution_count": null,
   "metadata": {},
   "outputs": [],
   "source": [
    "th500_median = 0.25\n",
    "th500_songs = 100\n",
    "th500_hitrate = 0.7"
   ]
  },
  {
   "cell_type": "code",
   "execution_count": null,
   "metadata": {},
   "outputs": [],
   "source": [
    "distriopentop500l,distriopentop500h = Get_Users(PerCorrtop500, 'open', ope)"
   ]
  },
  {
   "cell_type": "code",
   "execution_count": null,
   "metadata": {},
   "outputs": [],
   "source": [
    "distriopentop500l100,distriopentop500h100 = Get_Users_topandbottom(PerCorrtop500, 'open', 100)\n",
    "distriopentop500l250,distriopentop500h250 = Get_Users_topandbottom(PerCorrtop500, 'open', 250)\n",
    "distriopentop500l500,distriopentop500h500 = Get_Users_topandbottom(PerCorrtop500, 'open', 500)"
   ]
  },
  {
   "cell_type": "code",
   "execution_count": null,
   "metadata": {},
   "outputs": [],
   "source": [
    "districontop500l,districontop500h = Get_Users(PerCorrtop500, 'con', con)"
   ]
  },
  {
   "cell_type": "code",
   "execution_count": null,
   "metadata": {},
   "outputs": [],
   "source": [
    "districontop500l100,districontop500h100 = Get_Users_topandbottom(PerCorrtop500, 'con', 100)\n",
    "districontop500l250,districontop500h250 = Get_Users_topandbottom(PerCorrtop500, 'con', 250)\n",
    "districontop500l500,districontop500h500 = Get_Users_topandbottom(PerCorrtop500, 'con', 500)"
   ]
  },
  {
   "cell_type": "code",
   "execution_count": null,
   "metadata": {},
   "outputs": [],
   "source": [
    "distriexttop500l,distriexttop500h = Get_Users(PerCorrtop500, 'ext', ext)"
   ]
  },
  {
   "cell_type": "code",
   "execution_count": null,
   "metadata": {},
   "outputs": [],
   "source": [
    "distriexttop500l100,distriexttop500h100 = Get_Users_topandbottom(PerCorrtop500, 'ext', 100)\n",
    "distriexttop500l250,distriexttop500h250 = Get_Users_topandbottom(PerCorrtop500, 'ext', 250)\n",
    "distriexttop500l500,distriexttop500h500 = Get_Users_topandbottom(PerCorrtop500, 'ext', 500)"
   ]
  },
  {
   "cell_type": "code",
   "execution_count": null,
   "metadata": {},
   "outputs": [],
   "source": [
    "distriagrtop500l,distriagrtop500h = Get_Users(PerCorrtop500, 'agr', agr)"
   ]
  },
  {
   "cell_type": "code",
   "execution_count": null,
   "metadata": {},
   "outputs": [],
   "source": [
    "distriagrtop500l100,distriagrtop500h100 = Get_Users_topandbottom(PerCorrtop500, 'agr', 100)\n",
    "distriagrtop500l250,distriagrtop500h250 = Get_Users_topandbottom(PerCorrtop500, 'agr', 250)\n",
    "distriagrtop500l500,distriagrtop500h500 = Get_Users_topandbottom(PerCorrtop500, 'agr', 500)"
   ]
  },
  {
   "cell_type": "code",
   "execution_count": null,
   "metadata": {},
   "outputs": [],
   "source": [
    "distrineutop500l,distrineutop500h = Get_Users(PerCorrtop500, 'neu', neu)"
   ]
  },
  {
   "cell_type": "code",
   "execution_count": null,
   "metadata": {},
   "outputs": [],
   "source": [
    "distrineutop500l100,distrineutop500h100 = Get_Users_topandbottom(PerCorrtop500, 'neu', 100)\n",
    "distrineutop500l250,distrineutop500h250 = Get_Users_topandbottom(PerCorrtop500, 'neu', 252)\n",
    "distrineutop500l500,distrineutop500h500 = Get_Users_topandbottom(PerCorrtop500, 'neu', 500)"
   ]
  },
  {
   "cell_type": "code",
   "execution_count": null,
   "metadata": {},
   "outputs": [],
   "source": [
    "PerCorrtop100 = pkl.load(open('../data/percorr_lhtop100_vectors.pkl', 'rb'))"
   ]
  },
  {
   "cell_type": "code",
   "execution_count": null,
   "metadata": {},
   "outputs": [],
   "source": [
    "distriopentop100l,distriopentop100h = Get_Users(PerCorrtop100, 'open', ope)\n",
    "\n",
    "distriopentop100l100,distriopentop100h100 = Get_Users_topandbottom(PerCorrtop100, 'open', 100)\n",
    "distriopentop100l250,distriopentop100h250 = Get_Users_topandbottom(PerCorrtop100, 'open', 250)\n",
    "distriopentop100l100,distriopentop100h100 = Get_Users_topandbottom(PerCorrtop100, 'open', 500)\n",
    "\n",
    "districontop100l,districontop100h = Get_Users(PerCorrtop100, 'con', con)\n",
    "\n",
    "districontop100l100,districontop100h100 = Get_Users_topandbottom(PerCorrtop100, 'con', 100)\n",
    "districontop100l250,districontop100h250 = Get_Users_topandbottom(PerCorrtop100, 'con', 250)\n",
    "districontop100l100,districontop100h100 = Get_Users_topandbottom(PerCorrtop100, 'con', 500)\n",
    "\n",
    "distriexttop100l,distriexttop100h = Get_Users(PerCorrtop100, 'ext', ext)\n",
    "\n",
    "distriexttop100l100,distriexttop100h100 = Get_Users_topandbottom(PerCorrtop100, 'ext', 100)\n",
    "distriexttop100l250,distriexttop100h250 = Get_Users_topandbottom(PerCorrtop100, 'ext', 250)\n",
    "distriexttop100l100,distriexttop100h100 = Get_Users_topandbottom(PerCorrtop100, 'ext', 500)\n",
    "\n",
    "distriagrtop100l,distriagrtop100h = Get_Users(PerCorrtop100, 'agr', agr)\n",
    "\n",
    "distriagrtop100l100,distriagrtop100h100 = Get_Users_topandbottom(PerCorrtop100, 'agr', 100)\n",
    "distriagrtop100l250,distriagrtop100h250 = Get_Users_topandbottom(PerCorrtop100, 'agr', 250)\n",
    "distriagrtop100l100,distriagrtop100h100 = Get_Users_topandbottom(PerCorrtop100, 'agr', 500)\n",
    "\n",
    "distrineutop100l,distrineutop100h = Get_Users(PerCorrtop100, 'neu', neu)\n",
    "\n",
    "distrineutop100l100,distrineutop100h100 = Get_Users_topandbottom(PerCorrtop100, 'neu', 100)\n",
    "distrineutop100l250,distrineutop100h250 = Get_Users_topandbottom(PerCorrtop100, 'neu', 252)\n",
    "distrineutop100l100,distrineutop100h100 = Get_Users_topandbottom(PerCorrtop100, 'neu', 500)"
   ]
  },
  {
   "cell_type": "markdown",
   "metadata": {},
   "source": [
    "## PerCorr"
   ]
  },
  {
   "cell_type": "code",
   "execution_count": null,
   "metadata": {},
   "outputs": [],
   "source": [
    "print(\"Open\",mannwhitneyu_bootstrap(distriopenl, distriopenh, 10000))\n",
    "print(\"Con\", mannwhitneyu_bootstrap(districonl, districonh, 10000))\n",
    "print(\"Ext\", mannwhitneyu_bootstrap(distriextl, distriexth, 10000))\n",
    "print(\"Agr\",mannwhitneyu_bootstrap(distriagrl, distriagrh, 10000))\n",
    "print(\"Neu\",mannwhitneyu_bootstrap(distrineul, distrineuh, 10000))"
   ]
  },
  {
   "cell_type": "code",
   "execution_count": null,
   "metadata": {},
   "outputs": [],
   "source": [
    "print(\"Open\",mannwhitneyu_bootstrap(distriopentop500l, distriopentop500h, 10000))\n",
    "print(\"Con\",mannwhitneyu_bootstrap(districontop500l, districontop500h, 10000))\n",
    "print(\"Ext\",mannwhitneyu_bootstrap(distriexttop500l, distriexttop500h, 10000))\n",
    "print(\"Agr\",mannwhitneyu_bootstrap(distriagrtop500l, distriagrtop500h, 10000))\n",
    "print(\"Neu\",mannwhitneyu_bootstrap(distrineutop500l, distrineutop500h, 10000))"
   ]
  },
  {
   "cell_type": "code",
   "execution_count": null,
   "metadata": {},
   "outputs": [],
   "source": [
    "print(len(distrineutop500l),len(distrineutop500h))"
   ]
  },
  {
   "cell_type": "code",
   "execution_count": null,
   "metadata": {},
   "outputs": [],
   "source": [
    "print(\"Open\",mannwhitneyu_bootstrap(distriopentop100l, distriopentop100h, 10000))\n",
    "print(\"Con\",mannwhitneyu_bootstrap(districontop100l, districontop100h, 10000))\n",
    "print(\"Ext\",mannwhitneyu_bootstrap(distriexttop100l, distriexttop100h, 10000))\n",
    "print(\"Agr\",mannwhitneyu_bootstrap(distriagrtop100l, distriagrtop100h, 10000))\n",
    "print(\"Neu\",mannwhitneyu_bootstrap(distrineutop100l, distrineutop100h, 10000))"
   ]
  },
  {
   "cell_type": "markdown",
   "metadata": {},
   "source": [
    "# Top100 PerCorr"
   ]
  },
  {
   "cell_type": "code",
   "execution_count": null,
   "metadata": {},
   "outputs": [],
   "source": [
    "print(\"Open\",mannwhitneyu_bootstrap(distriopenl100, distriopenh100, 10000))\n",
    "print(\"Con\", mannwhitneyu_bootstrap(districonl100, districonh100, 10000))\n",
    "print(\"Ext\", mannwhitneyu_bootstrap(distriextl100, distriexth100, 10000))\n",
    "print(\"Agr\",mannwhitneyu_bootstrap(distriagrl100, distriagrh100, 10000))\n",
    "print(\"Neu\",mannwhitneyu_bootstrap(distrineul100, distrineuh100, 10000))"
   ]
  },
  {
   "cell_type": "code",
   "execution_count": null,
   "metadata": {},
   "outputs": [],
   "source": [
    "print(\"Open\",mannwhitneyu_bootstrap(distriopentop500l100, distriopentop500h100, 10000))\n",
    "print(\"Con\",mannwhitneyu_bootstrap(districontop500l100, districontop500h100, 10000))\n",
    "print(\"Ext\",mannwhitneyu_bootstrap(distriexttop500l100, distriexttop500h100, 10000))\n",
    "print(\"Agr\",mannwhitneyu_bootstrap(distriagrtop500l100, distriagrtop500h100, 10000))\n",
    "print(\"Neu\",mannwhitneyu_bootstrap(distrineutop500l100, distrineutop500h100, 10000))"
   ]
  },
  {
   "cell_type": "code",
   "execution_count": null,
   "metadata": {},
   "outputs": [],
   "source": [
    "print(\"Open\",mannwhitneyu_bootstrap(distriopentop100l100, distriopentop100h100, 10000))\n",
    "print(\"Con\",mannwhitneyu_bootstrap(districontop100l100, districontop100h100, 10000))\n",
    "print(\"Ext\",mannwhitneyu_bootstrap(distriexttop100l100, distriexttop100h100, 10000))\n",
    "print(\"Agr\",mannwhitneyu_bootstrap(distriagrtop100l100, distriagrtop100h100, 10000))\n",
    "print(\"Neu\",mannwhitneyu_bootstrap(distrineutop100l100, distrineutop100h100, 10000))"
   ]
  },
  {
   "cell_type": "markdown",
   "metadata": {},
   "source": [
    "# Top250 PerCorr"
   ]
  },
  {
   "cell_type": "code",
   "execution_count": null,
   "metadata": {},
   "outputs": [],
   "source": [
    "len(distriextl250)*len(distriextl250)/2"
   ]
  },
  {
   "cell_type": "code",
   "execution_count": null,
   "metadata": {},
   "outputs": [],
   "source": [
    "print(\"Open\",mannwhitneyu_bootstrap(distriopenl250, distriopenh250, 10000))\n",
    "print(\"Con\", mannwhitneyu_bootstrap(districonl250, districonh250, 10000))\n",
    "print(\"Ext\", mannwhitneyu_bootstrap(distriextl250, distriexth250, 10000))\n",
    "print(\"Agr\",mannwhitneyu_bootstrap(distriagrl250, distriagrh250, 10000))\n",
    "print(\"Neu\",mannwhitneyu_bootstrap(distrineul250, distrineuh250, 10000))"
   ]
  },
  {
   "cell_type": "code",
   "execution_count": null,
   "metadata": {},
   "outputs": [],
   "source": [
    "print(\"Open\",mannwhitneyu_bootstrap(distriopentop500l250, distriopentop500h250, 10000))\n",
    "print(\"Con\",mannwhitneyu_bootstrap(districontop500l250, districontop500h250, 10000))\n",
    "print(\"Ext\",mannwhitneyu_bootstrap(distriexttop500l250, distriexttop500h250, 10000))\n",
    "print(\"Agr\",mannwhitneyu_bootstrap(distriagrtop500l250, distriagrtop500h250, 10000))\n",
    "print(\"Neu\",mannwhitneyu_bootstrap(distrineutop500l250, distrineutop500h250, 10000))"
   ]
  },
  {
   "cell_type": "code",
   "execution_count": null,
   "metadata": {},
   "outputs": [],
   "source": [
    "print(\"Open\",mannwhitneyu_bootstrap(distriopentop100l250, distriopentop100h250, 10000))\n",
    "print(\"Con\",mannwhitneyu_bootstrap(districontop100l250, districontop100h250, 10000))\n",
    "print(\"Ext\",mannwhitneyu_bootstrap(distriexttop100l250, distriexttop100h250, 10000))\n",
    "print(\"Agr\",mannwhitneyu_bootstrap(distriagrtop100l250, distriagrtop100h250, 10000))\n",
    "print(\"Neu\",mannwhitneyu_bootstrap(distrineutop100l250, distrineutop100h250, 10000))"
   ]
  },
  {
   "cell_type": "markdown",
   "metadata": {},
   "source": [
    "# Top500"
   ]
  },
  {
   "cell_type": "code",
   "execution_count": null,
   "metadata": {},
   "outputs": [],
   "source": [
    "len(distriopenl500)*len(distriopenh500)/2"
   ]
  },
  {
   "cell_type": "code",
   "execution_count": null,
   "metadata": {},
   "outputs": [],
   "source": [
    "print(\"Open\",mannwhitneyu_bootstrap(distriopenl500, distriopenh500, 10000))\n",
    "print(\"Con\", mannwhitneyu_bootstrap(districonl500, districonh500, 10000))\n",
    "print(\"Ext\", mannwhitneyu_bootstrap(distriextl500, distriexth500, 10000))\n",
    "print(\"Agr\",mannwhitneyu_bootstrap(distriagrl500, distriagrh500, 10000))\n",
    "print(\"Neu\",mannwhitneyu_bootstrap(distrineul500, distrineuh500, 10000))"
   ]
  },
  {
   "cell_type": "code",
   "execution_count": null,
   "metadata": {},
   "outputs": [],
   "source": [
    "print(\"Open\",mannwhitneyu_bootstrap(distriopentop500l, distriopentop500h, 10000))\n",
    "print(\"Con\",mannwhitneyu_bootstrap(districontop500l, districontop500h, 10000))\n",
    "print(\"Ext\",mannwhitneyu_bootstrap(distriexttop500l, distriexttop500h, 10000))\n",
    "print(\"Agr\",mannwhitneyu_bootstrap(distriagrtop500l, distriagrtop500h, 10000))\n",
    "print(\"Neu\",mannwhitneyu_bootstrap(distrineutop500l, distrineutop500h, 10000))"
   ]
  },
  {
   "cell_type": "code",
   "execution_count": null,
   "metadata": {},
   "outputs": [],
   "source": [
    "print(\"Open\",mannwhitneyu_bootstrap(distriopentop100l100, distriopentop100h100, 10000))\n",
    "print(\"Con\",mannwhitneyu_bootstrap(districontop100l100, districontop100h100, 10000))\n",
    "print(\"Ext\",mannwhitneyu_bootstrap(distriexttop100l100, distriexttop100h100, 10000))\n",
    "print(\"Agr\",mannwhitneyu_bootstrap(distriagrtop100l100, distriagrtop100h100, 10000))\n",
    "print(\"Neu\",mannwhitneyu_bootstrap(distrineutop100l100, distrineutop100h100, 10000))"
   ]
  },
  {
   "cell_type": "markdown",
   "metadata": {},
   "source": [
    "# BoxPlots"
   ]
  },
  {
   "cell_type": "code",
   "execution_count": null,
   "metadata": {},
   "outputs": [],
   "source": []
  },
  {
   "cell_type": "code",
   "execution_count": null,
   "metadata": {},
   "outputs": [],
   "source": [
    "import seaborn as sb\n",
    "import pandas as pd\n",
    "\n",
    "df = pd.DataFrame(distriopentop500l250,columns=['low'])\n",
    "\n",
    "df2 = pd.DataFrame(distriopentop500h250, columns=['high'])\n",
    "\n",
    "ax = sb.boxplot(data=[df,df2])\n",
    "ax.set(ylim=(0, 13))"
   ]
  },
  {
   "cell_type": "code",
   "execution_count": null,
   "metadata": {},
   "outputs": [],
   "source": [
    "import seaborn as sb\n",
    "import pandas as pd\n",
    "\n",
    "df = pd.DataFrame(distriextl250,columns=['low'])\n",
    "\n",
    "df2 = pd.DataFrame(distriexth250,columns=['high'])\n",
    "\n",
    "ax = sb.boxplot(data=[df,df2])\n",
    "ax.set(ylim=(0, 12.5))"
   ]
  },
  {
   "cell_type": "code",
   "execution_count": null,
   "metadata": {},
   "outputs": [],
   "source": [
    "import seaborn as sb\n",
    "import pandas as pd\n",
    "\n",
    "df = pd.DataFrame(distrineutop500l250,columns=['low'])\n",
    "\n",
    "df2 = pd.DataFrame(distrineutop500h250,columns=['high'])\n",
    "\n",
    "ax = sb.boxplot(data=[df,df2])\n",
    "ax.set(ylim=(0, 10))"
   ]
  },
  {
   "cell_type": "markdown",
   "metadata": {},
   "source": [
    "## My Analysis"
   ]
  },
  {
   "cell_type": "code",
   "execution_count": null,
   "metadata": {},
   "outputs": [],
   "source": [
    "a,b = Get_Users_topandbottom(PerCorrLH, 'ext',  252)\n",
    "mannwhitneyu_bootstrap(a, b, 10000)"
   ]
  },
  {
   "cell_type": "code",
   "execution_count": null,
   "metadata": {},
   "outputs": [],
   "source": [
    "PerCorrLH[0].keys()"
   ]
  },
  {
   "cell_type": "code",
   "execution_count": null,
   "metadata": {},
   "outputs": [],
   "source": [
    "plays = []\n",
    "for i in range(len(PerCorrLH)):\n",
    "    plays.append(PerCorrLH[i]['Total_song_plays'])"
   ]
  },
  {
   "cell_type": "code",
   "execution_count": null,
   "metadata": {},
   "outputs": [],
   "source": [
    "np.mean(np.array(plays))"
   ]
  },
  {
   "cell_type": "code",
   "execution_count": null,
   "metadata": {},
   "outputs": [],
   "source": [
    "unique = []\n",
    "for i in range(len(PerCorrLH)):\n",
    "    unique.append(PerCorrLH[i]['Total_unique_songs'])"
   ]
  },
  {
   "cell_type": "code",
   "execution_count": null,
   "metadata": {},
   "outputs": [],
   "source": [
    "np.mean(np.array(unique))"
   ]
  },
  {
   "cell_type": "code",
   "execution_count": null,
   "metadata": {},
   "outputs": [],
   "source": [
    "hitrate = []\n",
    "for i in range(len(PerCorrLH)):\n",
    "    hitrate.append(PerCorrLH[i]['Ext_song_plays']/PerCorrLH[i]['Total_song_plays'])"
   ]
  },
  {
   "cell_type": "code",
   "execution_count": null,
   "metadata": {},
   "outputs": [],
   "source": [
    "np.median(np.array(hitrate))"
   ]
  },
  {
   "cell_type": "code",
   "execution_count": null,
   "metadata": {},
   "outputs": [],
   "source": [
    "uniquei = []\n",
    "for i in range(len(PerCorrLH)):\n",
    "    uniquei.append(PerCorrLH[i]['Instr_unique_song_plays'])"
   ]
  },
  {
   "cell_type": "code",
   "execution_count": null,
   "metadata": {},
   "outputs": [],
   "source": [
    "np.mean(np.array(uniquei))"
   ]
  },
  {
   "cell_type": "code",
   "execution_count": null,
   "metadata": {},
   "outputs": [],
   "source": [
    "instr = []\n",
    "for i in range(len(PerCorrLH)):\n",
    "    instr.append(PerCorrLH[i]['Instr_unique_songs'])"
   ]
  },
  {
   "cell_type": "code",
   "execution_count": null,
   "metadata": {},
   "outputs": [],
   "source": [
    "np.mean(np.array(instr))"
   ]
  },
  {
   "cell_type": "code",
   "execution_count": null,
   "metadata": {},
   "outputs": [],
   "source": [
    "(distrineutop500l250).sort()"
   ]
  },
  {
   "cell_type": "code",
   "execution_count": null,
   "metadata": {},
   "outputs": [],
   "source": [
    "np.median(distrineutop500l250)"
   ]
  },
  {
   "cell_type": "code",
   "execution_count": null,
   "metadata": {},
   "outputs": [],
   "source": [
    "(distrineutop500h250).sort()"
   ]
  },
  {
   "cell_type": "code",
   "execution_count": null,
   "metadata": {},
   "outputs": [],
   "source": [
    "np.median(distrineutop500h250)"
   ]
  },
  {
   "cell_type": "markdown",
   "metadata": {},
   "source": [
    "# mean"
   ]
  },
  {
   "cell_type": "code",
   "execution_count": null,
   "metadata": {},
   "outputs": [],
   "source": [
    "distrineutop500l250,distrineutop500h250 = Get_Users_topandbottom(PerCorrtop500, 'neu', 275)"
   ]
  },
  {
   "cell_type": "code",
   "execution_count": null,
   "metadata": {},
   "outputs": [],
   "source": [
    "len(distrineutop500l250)*len(distrineutop500l250)/2"
   ]
  },
  {
   "cell_type": "code",
   "execution_count": null,
   "metadata": {},
   "outputs": [],
   "source": [
    "mannwhitneyu_bootstrap(distrineutop500l250, distrineutop500h250, 10000)"
   ]
  },
  {
   "cell_type": "code",
   "execution_count": null,
   "metadata": {},
   "outputs": [],
   "source": [
    "for i in range(250,500):\n",
    "    distriexttopl250,distriexttoph250 = Get_Users_topandbottom(PerCorrtop500, 'ext', i)\n",
    "    a = mannwhitneyu_bootstrap(distriexttopl250, distriexttoph250, 10000)\n",
    "    print(a)"
   ]
  },
  {
   "cell_type": "code",
   "execution_count": null,
   "metadata": {},
   "outputs": [],
   "source": [
    "for i in range(274,500):\n",
    "    distrineutop500l250,distrineutop500h250 = Get_Users_topandbottom(PerCorrtop500, 'neu', i)\n",
    "    a = mannwhitneyu_bootstrap(distrineutop500l250, distrineutop500h250, 10000)\n",
    "    if (a.split(',')[1].strip()[2]) == '0':\n",
    "        print(i)"
   ]
  },
  {
   "cell_type": "code",
   "execution_count": null,
   "metadata": {},
   "outputs": [],
   "source": [
    "print(\"Neu\",mannwhitneyu_bootstrap(distrineutop500l250, distrineutop500h250, 10000))"
   ]
  },
  {
   "cell_type": "code",
   "execution_count": null,
   "metadata": {},
   "outputs": [],
   "source": [
    "distrineul100,distrineuh100 = Get_Users_topandbottom(PerCorrLH, 'neu', 100)\n",
    "distrineul250,distrineuh250 = Get_Users_topandbottom(PerCorrLH, 'neu', 250)\n",
    "\n",
    "print(mean(distrineul100), mean(distrineuh100))\n",
    "print(mean(distrineul250), mean(distrineuh250))"
   ]
  },
  {
   "cell_type": "code",
   "execution_count": null,
   "metadata": {},
   "outputs": [],
   "source": [
    "distriagrl,distriagrh = Get_Users(PerCorrLH, 'neu', neu)\n",
    "\n",
    "print(mean(distriagrl), mean(distriagrh))"
   ]
  },
  {
   "cell_type": "code",
   "execution_count": null,
   "metadata": {},
   "outputs": [],
   "source": [
    "PerCorrtop100[0]"
   ]
  }
 ],
 "metadata": {
  "kernelspec": {
   "display_name": "Python 3",
   "language": "python",
   "name": "python3"
  },
  "language_info": {
   "codemirror_mode": {
    "name": "ipython",
    "version": 3
   },
   "file_extension": ".py",
   "mimetype": "text/x-python",
   "name": "python",
   "nbconvert_exporter": "python",
   "pygments_lexer": "ipython3",
   "version": "3.7.3"
  }
 },
 "nbformat": 4,
 "nbformat_minor": 2
}
